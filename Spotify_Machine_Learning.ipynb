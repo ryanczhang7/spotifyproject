{
  "nbformat": 4,
  "nbformat_minor": 0,
  "metadata": {
    "colab": {
      "name": "Spotify Machine Learning.ipynb",
      "provenance": [],
      "collapsed_sections": [],
      "mount_file_id": "1-ntSB_niSMb2m-XXpRS4XRBJmiZwnHAp",
      "authorship_tag": "ABX9TyNRp6woEd+n8JRugedMtd3v",
      "include_colab_link": true
    },
    "kernelspec": {
      "name": "python3",
      "display_name": "Python 3"
    }
  },
  "cells": [
    {
      "cell_type": "markdown",
      "metadata": {
        "id": "view-in-github",
        "colab_type": "text"
      },
      "source": [
        "<a href=\"https://colab.research.google.com/github/ryanczhang7/spotifyproject/blob/master/Spotify_Machine_Learning.ipynb\" target=\"_parent\"><img src=\"https://colab.research.google.com/assets/colab-badge.svg\" alt=\"Open In Colab\"/></a>"
      ]
    },
    {
      "cell_type": "code",
      "metadata": {
        "id": "kw9T7jMFrkJc",
        "colab_type": "code",
        "colab": {}
      },
      "source": [
        "import pandas as pd\n",
        "import numpy as np\n",
        "from sklearn.feature_extraction.text import TfidfVectorizer\n",
        "from sklearn.preprocessing import StandardScaler, OneHotEncoder\n",
        "from sklearn.linear_model import LogisticRegression\n",
        "from sklearn.neighbors import KNeighborsClassifier\n",
        "from sklearn.ensemble import RandomForestClassifier, RandomForestRegressor\n",
        "from sklearn.pipeline import make_pipeline\n",
        "from sklearn.compose import make_column_transformer\n",
        "from sklearn.metrics import precision_score, recall_score, f1_score\n",
        "from sklearn.metrics import mean_squared_error\n",
        "from sklearn.model_selection import GridSearchCV, RandomizedSearchCV\n",
        "from sklearn.model_selection import cross_val_score\n",
        "from sklearn.feature_extraction import text"
      ],
      "execution_count": 0,
      "outputs": []
    },
    {
      "cell_type": "code",
      "metadata": {
        "id": "Ni2XpxKNz4uG",
        "colab_type": "code",
        "colab": {}
      },
      "source": [
        "df_personality_sentiment = pd.read_csv(\n",
        "    \"/content/drive/My Drive/df_personality_sentiment.csv\")\n",
        "df_songs = pd.read_csv(\"/content/drive/My Drive/df_songs.csv\")"
      ],
      "execution_count": 0,
      "outputs": []
    },
    {
      "cell_type": "markdown",
      "metadata": {
        "id": "w2fJ2SK_Olx2",
        "colab_type": "text"
      },
      "source": [
        "**I am trying to predict the genre of a song. Besides all the feature selection and engineering, model selection, and hyperparameter tuning, I have audio features and textual features of a song. Between audio features and textual features, which one will be better for predicting popularity and genre of a song? Because I am comparing audio features and textual features, I will not use artist or album as categorical features.**"
      ]
    },
    {
      "cell_type": "markdown",
      "metadata": {
        "id": "negxBbPLBLWc",
        "colab_type": "text"
      },
      "source": [
        "# Audio Features"
      ]
    },
    {
      "cell_type": "code",
      "metadata": {
        "id": "9Bpq2lJGAfnU",
        "colab_type": "code",
        "colab": {
          "base_uri": "https://localhost:8080/",
          "height": 289
        },
        "outputId": "549b8ccc-f6bf-49a8-d187-12789cfcbd9e"
      },
      "source": [
        "df_songs.head()"
      ],
      "execution_count": 67,
      "outputs": [
        {
          "output_type": "execute_result",
          "data": {
            "text/html": [
              "<div>\n",
              "<style scoped>\n",
              "    .dataframe tbody tr th:only-of-type {\n",
              "        vertical-align: middle;\n",
              "    }\n",
              "\n",
              "    .dataframe tbody tr th {\n",
              "        vertical-align: top;\n",
              "    }\n",
              "\n",
              "    .dataframe thead th {\n",
              "        text-align: right;\n",
              "    }\n",
              "</style>\n",
              "<table border=\"1\" class=\"dataframe\">\n",
              "  <thead>\n",
              "    <tr style=\"text-align: right;\">\n",
              "      <th></th>\n",
              "      <th>artist</th>\n",
              "      <th>album</th>\n",
              "      <th>name</th>\n",
              "      <th>explicit</th>\n",
              "      <th>key</th>\n",
              "      <th>mode</th>\n",
              "      <th>time_signature</th>\n",
              "      <th>acousticness</th>\n",
              "      <th>danceability</th>\n",
              "      <th>energy</th>\n",
              "      <th>instrumentalness</th>\n",
              "      <th>liveness</th>\n",
              "      <th>loudness</th>\n",
              "      <th>speechiness</th>\n",
              "      <th>tempo</th>\n",
              "      <th>valence</th>\n",
              "      <th>popularity</th>\n",
              "      <th>genre</th>\n",
              "      <th>duration_s</th>\n",
              "    </tr>\n",
              "  </thead>\n",
              "  <tbody>\n",
              "    <tr>\n",
              "      <th>0</th>\n",
              "      <td>Kendrick Lamar</td>\n",
              "      <td>Black Panther The Album Music From And Inspire...</td>\n",
              "      <td>Black Panther</td>\n",
              "      <td>1</td>\n",
              "      <td>1</td>\n",
              "      <td>1</td>\n",
              "      <td>4</td>\n",
              "      <td>0.6250</td>\n",
              "      <td>0.618</td>\n",
              "      <td>0.582</td>\n",
              "      <td>0.000004</td>\n",
              "      <td>0.2650</td>\n",
              "      <td>-9.454</td>\n",
              "      <td>0.2970</td>\n",
              "      <td>90.035</td>\n",
              "      <td>0.480</td>\n",
              "      <td>57</td>\n",
              "      <td>hiphop</td>\n",
              "      <td>130.613</td>\n",
              "    </tr>\n",
              "    <tr>\n",
              "      <th>1</th>\n",
              "      <td>Kendrick Lamar</td>\n",
              "      <td>Black Panther The Album Music From And Inspire...</td>\n",
              "      <td>All The Stars</td>\n",
              "      <td>1</td>\n",
              "      <td>8</td>\n",
              "      <td>1</td>\n",
              "      <td>4</td>\n",
              "      <td>0.0605</td>\n",
              "      <td>0.698</td>\n",
              "      <td>0.633</td>\n",
              "      <td>0.000194</td>\n",
              "      <td>0.0926</td>\n",
              "      <td>-4.946</td>\n",
              "      <td>0.0597</td>\n",
              "      <td>96.924</td>\n",
              "      <td>0.552</td>\n",
              "      <td>78</td>\n",
              "      <td>hiphop</td>\n",
              "      <td>232.186</td>\n",
              "    </tr>\n",
              "    <tr>\n",
              "      <th>2</th>\n",
              "      <td>Kendrick Lamar</td>\n",
              "      <td>Black Panther The Album Music From And Inspire...</td>\n",
              "      <td>X</td>\n",
              "      <td>1</td>\n",
              "      <td>2</td>\n",
              "      <td>1</td>\n",
              "      <td>4</td>\n",
              "      <td>0.0201</td>\n",
              "      <td>0.768</td>\n",
              "      <td>0.471</td>\n",
              "      <td>0.000000</td>\n",
              "      <td>0.2680</td>\n",
              "      <td>-8.406</td>\n",
              "      <td>0.2590</td>\n",
              "      <td>131.023</td>\n",
              "      <td>0.405</td>\n",
              "      <td>69</td>\n",
              "      <td>hiphop</td>\n",
              "      <td>267.426</td>\n",
              "    </tr>\n",
              "    <tr>\n",
              "      <th>3</th>\n",
              "      <td>Kendrick Lamar</td>\n",
              "      <td>Black Panther The Album Music From And Inspire...</td>\n",
              "      <td>The Ways</td>\n",
              "      <td>1</td>\n",
              "      <td>11</td>\n",
              "      <td>0</td>\n",
              "      <td>4</td>\n",
              "      <td>0.0626</td>\n",
              "      <td>0.727</td>\n",
              "      <td>0.720</td>\n",
              "      <td>0.000001</td>\n",
              "      <td>0.1760</td>\n",
              "      <td>-5.856</td>\n",
              "      <td>0.0488</td>\n",
              "      <td>140.080</td>\n",
              "      <td>0.589</td>\n",
              "      <td>65</td>\n",
              "      <td>hiphop</td>\n",
              "      <td>238.893</td>\n",
              "    </tr>\n",
              "    <tr>\n",
              "      <th>4</th>\n",
              "      <td>Kendrick Lamar</td>\n",
              "      <td>Black Panther The Album Music From And Inspire...</td>\n",
              "      <td>Opps</td>\n",
              "      <td>1</td>\n",
              "      <td>1</td>\n",
              "      <td>1</td>\n",
              "      <td>4</td>\n",
              "      <td>0.1520</td>\n",
              "      <td>0.706</td>\n",
              "      <td>0.775</td>\n",
              "      <td>0.000033</td>\n",
              "      <td>0.4160</td>\n",
              "      <td>-6.819</td>\n",
              "      <td>0.3350</td>\n",
              "      <td>127.929</td>\n",
              "      <td>0.847</td>\n",
              "      <td>59</td>\n",
              "      <td>hiphop</td>\n",
              "      <td>180.893</td>\n",
              "    </tr>\n",
              "  </tbody>\n",
              "</table>\n",
              "</div>"
            ],
            "text/plain": [
              "           artist  ... duration_s\n",
              "0  Kendrick Lamar  ...    130.613\n",
              "1  Kendrick Lamar  ...    232.186\n",
              "2  Kendrick Lamar  ...    267.426\n",
              "3  Kendrick Lamar  ...    238.893\n",
              "4  Kendrick Lamar  ...    180.893\n",
              "\n",
              "[5 rows x 19 columns]"
            ]
          },
          "metadata": {
            "tags": []
          },
          "execution_count": 67
        }
      ]
    },
    {
      "cell_type": "markdown",
      "metadata": {
        "id": "ak7Ghd_SPTm0",
        "colab_type": "text"
      },
      "source": [
        "**I will mainly be choosing between Logistic Regression, KNeighbors Classifier, and Random Forest Classifier. I start out with just Logistic and KNeighbors because I haven't chosen features yet, and Random Forest won't work well on just one feature.**"
      ]
    },
    {
      "cell_type": "code",
      "metadata": {
        "id": "l_VnOsKbAaT7",
        "colab_type": "code",
        "colab": {
          "base_uri": "https://localhost:8080/",
          "height": 34
        },
        "outputId": "70944256-7528-438a-a896-10eacdad95a4"
      },
      "source": [
        "pipeline = make_pipeline(\n",
        "    StandardScaler(),\n",
        "    LogisticRegression()\n",
        ")\n",
        "\n",
        "X_train = df_songs[[\"danceability\"]]\n",
        "y_train = df_songs[\"genre\"]\n",
        "\n",
        "pipeline.fit(X_train, y_train)\n",
        "y_train_ = pipeline.predict(X_train)\n",
        "(f1_score(y_train, y_train_, pos_label=\"hiphop\"), \n",
        " f1_score(y_train, y_train_, pos_label=\"pop\"))"
      ],
      "execution_count": 27,
      "outputs": [
        {
          "output_type": "execute_result",
          "data": {
            "text/plain": [
              "(0.4046094750320103, 0.6463878326996197)"
            ]
          },
          "metadata": {
            "tags": []
          },
          "execution_count": 27
        }
      ]
    },
    {
      "cell_type": "code",
      "metadata": {
        "id": "_0xSaitzBAAC",
        "colab_type": "code",
        "colab": {
          "base_uri": "https://localhost:8080/",
          "height": 34
        },
        "outputId": "328801a4-cd1b-4562-83bd-88fc79b08c35"
      },
      "source": [
        "pipeline = make_pipeline(\n",
        "    StandardScaler(),\n",
        "    KNeighborsClassifier()\n",
        ")\n",
        "\n",
        "X_train = df_songs[[\"danceability\"]]\n",
        "y_train = df_songs[\"genre\"]\n",
        "\n",
        "pipeline.fit(X_train, y_train)\n",
        "y_train_ = pipeline.predict(X_train)\n",
        "(f1_score(y_train, y_train_, pos_label=\"hiphop\"), \n",
        " f1_score(y_train, y_train_, pos_label=\"pop\"))"
      ],
      "execution_count": 28,
      "outputs": [
        {
          "output_type": "execute_result",
          "data": {
            "text/plain": [
              "(0.6719999999999999, 0.7007299270072992)"
            ]
          },
          "metadata": {
            "tags": []
          },
          "execution_count": 28
        }
      ]
    },
    {
      "cell_type": "markdown",
      "metadata": {
        "id": "zTjmpfrAPmDV",
        "colab_type": "text"
      },
      "source": [
        "**KNeighbors works better so I stick with KNeighbors when choosing features. I am not using explicit as an audio feature because it is more accurate to describe it as a textual feature.**"
      ]
    },
    {
      "cell_type": "code",
      "metadata": {
        "id": "1hAEr6VRBygm",
        "colab_type": "code",
        "colab": {
          "base_uri": "https://localhost:8080/",
          "height": 483
        },
        "outputId": "6e293f31-963e-4862-ad23-ea422b6c7ffe"
      },
      "source": [
        "pop_f1 = []\n",
        "hiphop_f1 = []\n",
        "feature = []\n",
        "for features in [[\"danceability\"],\n",
        "                 [\"key\"],\n",
        "                 [\"mode\"],\n",
        "                 [\"energy\"],\n",
        "                 [\"instrumentalness\"],\n",
        "                 [\"liveness\"],\n",
        "                 [\"loudness\"],\n",
        "                 [\"acousticness\"],\n",
        "                 [\"speechiness\"],\n",
        "                 [\"tempo\"],\n",
        "                 [\"valence\"],\n",
        "                 [\"time_signature\"],\n",
        "                 [\"duration_s\"],\n",
        "                 [\"popularity\"]]:\n",
        "\n",
        "  ct = make_column_transformer(\n",
        "      (StandardScaler(), features),\n",
        "      remainder = \"drop\"\n",
        "  )\n",
        "\n",
        "  pipeline = make_pipeline(\n",
        "      ct,\n",
        "      KNeighborsClassifier()\n",
        "  )\n",
        "\n",
        "  X_train = df_songs[[\"danceability\", \"key\", \"mode\", \"energy\", \"acousticness\",\n",
        "                      \"instrumentalness\", \"liveness\", \"loudness\", \"speechiness\", \n",
        "                      \"tempo\", \"valence\", \"time_signature\", \"duration_s\",\n",
        "                      \"popularity\"]]\n",
        "  y_train = df_songs[\"genre\"]\n",
        "\n",
        "  pipeline.fit(X_train, y_train)\n",
        "  y_train_ = pipeline.predict(X_train)\n",
        "  feature.append(features)\n",
        "  hiphop_f1.append(f1_score(y_train, y_train_, pos_label=\"hiphop\"))\n",
        "  pop_f1.append(f1_score(y_train, y_train_, pos_label=\"pop\"))\n",
        "\n",
        "df = {}\n",
        "df[\"feature\"] = feature\n",
        "df[\"pop\"] = pop_f1\n",
        "df[\"hiphop\"] = hiphop_f1\n",
        "df1 = pd.DataFrame(df)\n",
        "df1[\"avg\"] = (df1[\"pop\"] + df1[\"hiphop\"]) / 2\n",
        "df1"
      ],
      "execution_count": 64,
      "outputs": [
        {
          "output_type": "execute_result",
          "data": {
            "text/html": [
              "<div>\n",
              "<style scoped>\n",
              "    .dataframe tbody tr th:only-of-type {\n",
              "        vertical-align: middle;\n",
              "    }\n",
              "\n",
              "    .dataframe tbody tr th {\n",
              "        vertical-align: top;\n",
              "    }\n",
              "\n",
              "    .dataframe thead th {\n",
              "        text-align: right;\n",
              "    }\n",
              "</style>\n",
              "<table border=\"1\" class=\"dataframe\">\n",
              "  <thead>\n",
              "    <tr style=\"text-align: right;\">\n",
              "      <th></th>\n",
              "      <th>feature</th>\n",
              "      <th>pop</th>\n",
              "      <th>hiphop</th>\n",
              "      <th>avg</th>\n",
              "    </tr>\n",
              "  </thead>\n",
              "  <tbody>\n",
              "    <tr>\n",
              "      <th>0</th>\n",
              "      <td>[danceability]</td>\n",
              "      <td>0.700730</td>\n",
              "      <td>0.672000</td>\n",
              "      <td>0.686365</td>\n",
              "    </tr>\n",
              "    <tr>\n",
              "      <th>1</th>\n",
              "      <td>[key]</td>\n",
              "      <td>0.541863</td>\n",
              "      <td>0.528558</td>\n",
              "      <td>0.535210</td>\n",
              "    </tr>\n",
              "    <tr>\n",
              "      <th>2</th>\n",
              "      <td>[mode]</td>\n",
              "      <td>0.430584</td>\n",
              "      <td>0.486388</td>\n",
              "      <td>0.458486</td>\n",
              "    </tr>\n",
              "    <tr>\n",
              "      <th>3</th>\n",
              "      <td>[energy]</td>\n",
              "      <td>0.717668</td>\n",
              "      <td>0.689379</td>\n",
              "      <td>0.703524</td>\n",
              "    </tr>\n",
              "    <tr>\n",
              "      <th>4</th>\n",
              "      <td>[instrumentalness]</td>\n",
              "      <td>0.432020</td>\n",
              "      <td>0.658518</td>\n",
              "      <td>0.545269</td>\n",
              "    </tr>\n",
              "    <tr>\n",
              "      <th>5</th>\n",
              "      <td>[liveness]</td>\n",
              "      <td>0.721739</td>\n",
              "      <td>0.661734</td>\n",
              "      <td>0.691736</td>\n",
              "    </tr>\n",
              "    <tr>\n",
              "      <th>6</th>\n",
              "      <td>[loudness]</td>\n",
              "      <td>0.697842</td>\n",
              "      <td>0.658537</td>\n",
              "      <td>0.678189</td>\n",
              "    </tr>\n",
              "    <tr>\n",
              "      <th>7</th>\n",
              "      <td>[acousticness]</td>\n",
              "      <td>0.702997</td>\n",
              "      <td>0.671357</td>\n",
              "      <td>0.687177</td>\n",
              "    </tr>\n",
              "    <tr>\n",
              "      <th>8</th>\n",
              "      <td>[speechiness]</td>\n",
              "      <td>0.795394</td>\n",
              "      <td>0.761117</td>\n",
              "      <td>0.778256</td>\n",
              "    </tr>\n",
              "    <tr>\n",
              "      <th>9</th>\n",
              "      <td>[tempo]</td>\n",
              "      <td>0.719160</td>\n",
              "      <td>0.663169</td>\n",
              "      <td>0.691165</td>\n",
              "    </tr>\n",
              "    <tr>\n",
              "      <th>10</th>\n",
              "      <td>[valence]</td>\n",
              "      <td>0.707721</td>\n",
              "      <td>0.684524</td>\n",
              "      <td>0.696122</td>\n",
              "    </tr>\n",
              "    <tr>\n",
              "      <th>11</th>\n",
              "      <td>[time_signature]</td>\n",
              "      <td>0.035273</td>\n",
              "      <td>0.642250</td>\n",
              "      <td>0.338762</td>\n",
              "    </tr>\n",
              "    <tr>\n",
              "      <th>12</th>\n",
              "      <td>[duration_s]</td>\n",
              "      <td>0.744718</td>\n",
              "      <td>0.697917</td>\n",
              "      <td>0.721317</td>\n",
              "    </tr>\n",
              "    <tr>\n",
              "      <th>13</th>\n",
              "      <td>[popularity]</td>\n",
              "      <td>0.684906</td>\n",
              "      <td>0.677606</td>\n",
              "      <td>0.681256</td>\n",
              "    </tr>\n",
              "  </tbody>\n",
              "</table>\n",
              "</div>"
            ],
            "text/plain": [
              "               feature       pop    hiphop       avg\n",
              "0       [danceability]  0.700730  0.672000  0.686365\n",
              "1                [key]  0.541863  0.528558  0.535210\n",
              "2               [mode]  0.430584  0.486388  0.458486\n",
              "3             [energy]  0.717668  0.689379  0.703524\n",
              "4   [instrumentalness]  0.432020  0.658518  0.545269\n",
              "5           [liveness]  0.721739  0.661734  0.691736\n",
              "6           [loudness]  0.697842  0.658537  0.678189\n",
              "7       [acousticness]  0.702997  0.671357  0.687177\n",
              "8        [speechiness]  0.795394  0.761117  0.778256\n",
              "9              [tempo]  0.719160  0.663169  0.691165\n",
              "10           [valence]  0.707721  0.684524  0.696122\n",
              "11    [time_signature]  0.035273  0.642250  0.338762\n",
              "12        [duration_s]  0.744718  0.697917  0.721317\n",
              "13        [popularity]  0.684906  0.677606  0.681256"
            ]
          },
          "metadata": {
            "tags": []
          },
          "execution_count": 64
        }
      ]
    },
    {
      "cell_type": "markdown",
      "metadata": {
        "id": "ZC0YpW-9Pu0r",
        "colab_type": "text"
      },
      "source": [
        "**Explicit and speechiness are the best. Duration_s and energy are above 70.Liveness, tempo,  and valence aren't bad.**"
      ]
    },
    {
      "cell_type": "code",
      "metadata": {
        "id": "qw3HHjoYPsGC",
        "colab_type": "code",
        "colab": {
          "base_uri": "https://localhost:8080/",
          "height": 235
        },
        "outputId": "dc6b1c7b-da44-4960-f0db-54c4ddb15a54"
      },
      "source": [
        "pop_f1 = []\n",
        "hiphop_f1 = []\n",
        "feature = []\n",
        "for features in [[\"speechiness\"],\n",
        "                 [\"speechiness\", \"duration_s\", \"energy\"],\n",
        "                 [\"speechiness\", \"duration_s\", \"energy\", \"valence\"],\n",
        "                 [\"speechiness\", \"duration_s\", \"energy\", \"valence\", \"liveness\"],\n",
        "                 [\"speechiness\", \"duration_s\", \"energy\", \"valence\", \"tempo\"],\n",
        "                 [\"speechiness\", \"duration_s\", \"energy\", \"liveness\", \n",
        "                  \"tempo\", \"valence\"]]:\n",
        "  ct = make_column_transformer(\n",
        "      (StandardScaler(), features),\n",
        "      remainder = \"drop\"\n",
        "  )\n",
        "\n",
        "  pipeline = make_pipeline(\n",
        "      ct,\n",
        "      KNeighborsClassifier()\n",
        "  )\n",
        "\n",
        "  X_train = df_songs[[\"energy\", \"liveness\", \"speechiness\", \"tempo\", \n",
        "                      \"valence\", \"duration_s\", \"explicit\"]]\n",
        "  y_train = df_songs[\"genre\"]\n",
        "\n",
        "  pipeline.fit(X_train, y_train)\n",
        "  y_train_ = pipeline.predict(X_train)\n",
        "  feature.append(features)\n",
        "  hiphop_f1.append(f1_score(y_train, y_train_, pos_label=\"hiphop\"))\n",
        "  pop_f1.append(f1_score(y_train, y_train_, pos_label=\"pop\"))\n",
        "\n",
        "df = {}\n",
        "df[\"feature\"] = feature\n",
        "df[\"pop\"] = pop_f1\n",
        "df[\"hiphop\"] = hiphop_f1\n",
        "df1 = pd.DataFrame(df)\n",
        "df1[\"avg\"] = (df1[\"pop\"] + df1[\"hiphop\"]) / 2\n",
        "df1"
      ],
      "execution_count": 42,
      "outputs": [
        {
          "output_type": "execute_result",
          "data": {
            "text/html": [
              "<div>\n",
              "<style scoped>\n",
              "    .dataframe tbody tr th:only-of-type {\n",
              "        vertical-align: middle;\n",
              "    }\n",
              "\n",
              "    .dataframe tbody tr th {\n",
              "        vertical-align: top;\n",
              "    }\n",
              "\n",
              "    .dataframe thead th {\n",
              "        text-align: right;\n",
              "    }\n",
              "</style>\n",
              "<table border=\"1\" class=\"dataframe\">\n",
              "  <thead>\n",
              "    <tr style=\"text-align: right;\">\n",
              "      <th></th>\n",
              "      <th>feature</th>\n",
              "      <th>pop</th>\n",
              "      <th>hiphop</th>\n",
              "      <th>avg</th>\n",
              "    </tr>\n",
              "  </thead>\n",
              "  <tbody>\n",
              "    <tr>\n",
              "      <th>0</th>\n",
              "      <td>[speechiness]</td>\n",
              "      <td>0.795394</td>\n",
              "      <td>0.761117</td>\n",
              "      <td>0.778256</td>\n",
              "    </tr>\n",
              "    <tr>\n",
              "      <th>1</th>\n",
              "      <td>[speechiness, duration_s, energy]</td>\n",
              "      <td>0.813743</td>\n",
              "      <td>0.791919</td>\n",
              "      <td>0.802831</td>\n",
              "    </tr>\n",
              "    <tr>\n",
              "      <th>2</th>\n",
              "      <td>[speechiness, duration_s, energy, valence]</td>\n",
              "      <td>0.825737</td>\n",
              "      <td>0.800409</td>\n",
              "      <td>0.813073</td>\n",
              "    </tr>\n",
              "    <tr>\n",
              "      <th>3</th>\n",
              "      <td>[speechiness, duration_s, energy, valence, liv...</td>\n",
              "      <td>0.819469</td>\n",
              "      <td>0.788820</td>\n",
              "      <td>0.804144</td>\n",
              "    </tr>\n",
              "    <tr>\n",
              "      <th>4</th>\n",
              "      <td>[speechiness, duration_s, energy, valence, tempo]</td>\n",
              "      <td>0.817621</td>\n",
              "      <td>0.784599</td>\n",
              "      <td>0.801110</td>\n",
              "    </tr>\n",
              "    <tr>\n",
              "      <th>5</th>\n",
              "      <td>[speechiness, duration_s, energy, liveness, te...</td>\n",
              "      <td>0.817467</td>\n",
              "      <td>0.780231</td>\n",
              "      <td>0.798849</td>\n",
              "    </tr>\n",
              "  </tbody>\n",
              "</table>\n",
              "</div>"
            ],
            "text/plain": [
              "                                             feature  ...       avg\n",
              "0                                      [speechiness]  ...  0.778256\n",
              "1                  [speechiness, duration_s, energy]  ...  0.802831\n",
              "2         [speechiness, duration_s, energy, valence]  ...  0.813073\n",
              "3  [speechiness, duration_s, energy, valence, liv...  ...  0.804144\n",
              "4  [speechiness, duration_s, energy, valence, tempo]  ...  0.801110\n",
              "5  [speechiness, duration_s, energy, liveness, te...  ...  0.798849\n",
              "\n",
              "[6 rows x 4 columns]"
            ]
          },
          "metadata": {
            "tags": []
          },
          "execution_count": 42
        }
      ]
    },
    {
      "cell_type": "markdown",
      "metadata": {
        "id": "3Sl6P8ZKZEJS",
        "colab_type": "text"
      },
      "source": [
        "**So I choose speechiness, duration_s, and energy and valence. Now that I have features, I want to try RandomForest. And I want to estimate test error now.**"
      ]
    },
    {
      "cell_type": "code",
      "metadata": {
        "id": "NS68iDIwQz48",
        "colab_type": "code",
        "colab": {
          "base_uri": "https://localhost:8080/",
          "height": 34
        },
        "outputId": "9b106ac0-4f20-439d-843d-f10d98efef64"
      },
      "source": [
        "pipeline = make_pipeline(\n",
        "    StandardScaler(),\n",
        "    RandomForestClassifier()\n",
        ")\n",
        "\n",
        "cv_errs = cross_val_score(pipeline,\n",
        "             df_songs[[\"speechiness\", \"duration_s\", \"energy\", \"valence\"]],\n",
        "             df_songs[\"genre\"], scoring=\"f1_macro\", cv=10)\n",
        "\n",
        "cv_errs.mean()"
      ],
      "execution_count": 61,
      "outputs": [
        {
          "output_type": "execute_result",
          "data": {
            "text/plain": [
              "0.7466510479697905"
            ]
          },
          "metadata": {
            "tags": []
          },
          "execution_count": 61
        }
      ]
    },
    {
      "cell_type": "markdown",
      "metadata": {
        "id": "W-HKE1KZBHan",
        "colab_type": "text"
      },
      "source": [
        "# Textual Features"
      ]
    },
    {
      "cell_type": "code",
      "metadata": {
        "id": "oHOrmBMeBFgv",
        "colab_type": "code",
        "colab": {
          "base_uri": "https://localhost:8080/",
          "height": 306
        },
        "outputId": "5cf06486-f842-4f9d-d754-429cc0544ea0"
      },
      "source": [
        "df_personality_sentiment.head()"
      ],
      "execution_count": 71,
      "outputs": [
        {
          "output_type": "execute_result",
          "data": {
            "text/html": [
              "<div>\n",
              "<style scoped>\n",
              "    .dataframe tbody tr th:only-of-type {\n",
              "        vertical-align: middle;\n",
              "    }\n",
              "\n",
              "    .dataframe tbody tr th {\n",
              "        vertical-align: top;\n",
              "    }\n",
              "\n",
              "    .dataframe thead th {\n",
              "        text-align: right;\n",
              "    }\n",
              "</style>\n",
              "<table border=\"1\" class=\"dataframe\">\n",
              "  <thead>\n",
              "    <tr style=\"text-align: right;\">\n",
              "      <th></th>\n",
              "      <th>artist</th>\n",
              "      <th>album</th>\n",
              "      <th>name</th>\n",
              "      <th>explicit</th>\n",
              "      <th>genre</th>\n",
              "      <th>chain_lyrics</th>\n",
              "      <th>lyrics</th>\n",
              "      <th>polarity</th>\n",
              "      <th>magnitude</th>\n",
              "      <th>artistic</th>\n",
              "      <th>emotion</th>\n",
              "      <th>imagination</th>\n",
              "      <th>assertive</th>\n",
              "      <th>cheeful</th>\n",
              "      <th>outgoing</th>\n",
              "      <th>modesty</th>\n",
              "      <th>sympathy</th>\n",
              "      <th>fiery</th>\n",
              "      <th>melancholy</th>\n",
              "    </tr>\n",
              "  </thead>\n",
              "  <tbody>\n",
              "    <tr>\n",
              "      <th>0</th>\n",
              "      <td>Kendrick Lamar</td>\n",
              "      <td>Black Panther The Album Music From And Inspire...</td>\n",
              "      <td>Black Panther</td>\n",
              "      <td>1</td>\n",
              "      <td>hiphop</td>\n",
              "      <td>why i go easy \\n know why i go easy \\n wait \\n...</td>\n",
              "      <td>why i go easy know why i go easy wait king of ...</td>\n",
              "      <td>-1.0</td>\n",
              "      <td>1.2</td>\n",
              "      <td>0.999983</td>\n",
              "      <td>0.931594</td>\n",
              "      <td>0.998384</td>\n",
              "      <td>0.095272</td>\n",
              "      <td>0.387043</td>\n",
              "      <td>0.101374</td>\n",
              "      <td>0.421143</td>\n",
              "      <td>0.985013</td>\n",
              "      <td>0.386352</td>\n",
              "      <td>0.921542</td>\n",
              "    </tr>\n",
              "    <tr>\n",
              "      <th>1</th>\n",
              "      <td>Kendrick Lamar</td>\n",
              "      <td>Black Panther The Album Music From And Inspire...</td>\n",
              "      <td>All The Stars</td>\n",
              "      <td>1</td>\n",
              "      <td>hiphop</td>\n",
              "      <td>love lets talk about love \\n is it anything an...</td>\n",
              "      <td>love lets talk about love is it anything and e...</td>\n",
              "      <td>-1.0</td>\n",
              "      <td>1.3</td>\n",
              "      <td>0.996511</td>\n",
              "      <td>0.986234</td>\n",
              "      <td>0.991554</td>\n",
              "      <td>0.747748</td>\n",
              "      <td>0.986040</td>\n",
              "      <td>0.705842</td>\n",
              "      <td>0.441873</td>\n",
              "      <td>0.842244</td>\n",
              "      <td>0.157679</td>\n",
              "      <td>0.626636</td>\n",
              "    </tr>\n",
              "    <tr>\n",
              "      <th>2</th>\n",
              "      <td>Kendrick Lamar</td>\n",
              "      <td>Black Panther The Album Music From And Inspire...</td>\n",
              "      <td>I Am</td>\n",
              "      <td>1</td>\n",
              "      <td>hiphop</td>\n",
              "      <td>everybody put three fingers in the air \\n the ...</td>\n",
              "      <td>everybody put three fingers in the air the sky...</td>\n",
              "      <td>-1.0</td>\n",
              "      <td>2.2</td>\n",
              "      <td>0.906971</td>\n",
              "      <td>0.318395</td>\n",
              "      <td>0.994980</td>\n",
              "      <td>0.574279</td>\n",
              "      <td>0.469771</td>\n",
              "      <td>0.320161</td>\n",
              "      <td>0.024560</td>\n",
              "      <td>0.785487</td>\n",
              "      <td>0.582447</td>\n",
              "      <td>0.669157</td>\n",
              "    </tr>\n",
              "    <tr>\n",
              "      <th>3</th>\n",
              "      <td>Kendrick Lamar</td>\n",
              "      <td>Black Panther The Album Music From And Inspire...</td>\n",
              "      <td>Big Shot</td>\n",
              "      <td>1</td>\n",
              "      <td>hiphop</td>\n",
              "      <td>wakanda welcome \\n big shot hol up wait peanut...</td>\n",
              "      <td>wakanda welcome big shot hol up wait peanut bu...</td>\n",
              "      <td>-1.0</td>\n",
              "      <td>1.3</td>\n",
              "      <td>0.967339</td>\n",
              "      <td>0.229457</td>\n",
              "      <td>0.975867</td>\n",
              "      <td>0.382183</td>\n",
              "      <td>0.880943</td>\n",
              "      <td>0.477181</td>\n",
              "      <td>0.000747</td>\n",
              "      <td>0.270318</td>\n",
              "      <td>0.787414</td>\n",
              "      <td>0.197281</td>\n",
              "    </tr>\n",
              "    <tr>\n",
              "      <th>4</th>\n",
              "      <td>Kendrick Lamar</td>\n",
              "      <td>Black Panther The Album Music From And Inspire...</td>\n",
              "      <td>Pray For Me</td>\n",
              "      <td>1</td>\n",
              "      <td>hiphop</td>\n",
              "      <td>im always ready for a war again \\n go down tha...</td>\n",
              "      <td>im always ready for a war again go down that r...</td>\n",
              "      <td>-1.0</td>\n",
              "      <td>1.1</td>\n",
              "      <td>0.980110</td>\n",
              "      <td>0.889895</td>\n",
              "      <td>0.977369</td>\n",
              "      <td>0.307116</td>\n",
              "      <td>0.962168</td>\n",
              "      <td>0.668731</td>\n",
              "      <td>0.864149</td>\n",
              "      <td>0.875111</td>\n",
              "      <td>0.464351</td>\n",
              "      <td>0.871338</td>\n",
              "    </tr>\n",
              "  </tbody>\n",
              "</table>\n",
              "</div>"
            ],
            "text/plain": [
              "           artist  ... melancholy\n",
              "0  Kendrick Lamar  ...   0.921542\n",
              "1  Kendrick Lamar  ...   0.626636\n",
              "2  Kendrick Lamar  ...   0.669157\n",
              "3  Kendrick Lamar  ...   0.197281\n",
              "4  Kendrick Lamar  ...   0.871338\n",
              "\n",
              "[5 rows x 19 columns]"
            ]
          },
          "metadata": {
            "tags": []
          },
          "execution_count": 71
        }
      ]
    },
    {
      "cell_type": "markdown",
      "metadata": {
        "id": "f5Q4YCVQ7MXG",
        "colab_type": "text"
      },
      "source": [
        "**Testing between Logistic Regression, KNeighbors, and Random Forest again.**"
      ]
    },
    {
      "cell_type": "code",
      "metadata": {
        "id": "5ixQzJEky_1x",
        "colab_type": "code",
        "colab": {
          "base_uri": "https://localhost:8080/",
          "height": 34
        },
        "outputId": "793ae6f1-2c71-4713-ad45-a62fbed0e455"
      },
      "source": [
        "pipeline = make_pipeline(\n",
        "    TfidfVectorizer(),\n",
        "    LogisticRegression()\n",
        ")\n",
        "\n",
        "X_train = df_personality_sentiment[\"lyrics\"]\n",
        "y_train = df_personality_sentiment[\"genre\"]\n",
        "\n",
        "pipeline.fit(X_train, y_train)\n",
        "y_train_ = pipeline.predict(X_train)\n",
        "(f1_score(y_train, y_train_, pos_label=\"hiphop\"),\n",
        "    f1_score(y_train, y_train_, pos_label=\"pop\"))"
      ],
      "execution_count": 73,
      "outputs": [
        {
          "output_type": "execute_result",
          "data": {
            "text/plain": [
              "(0.9146853146853148, 0.9341963322545848)"
            ]
          },
          "metadata": {
            "tags": []
          },
          "execution_count": 73
        }
      ]
    },
    {
      "cell_type": "code",
      "metadata": {
        "id": "uFXrudc00BhX",
        "colab_type": "code",
        "colab": {
          "base_uri": "https://localhost:8080/",
          "height": 34
        },
        "outputId": "68228cef-0206-46c5-9be9-093b41bc4248"
      },
      "source": [
        "pipeline = make_pipeline(\n",
        "    TfidfVectorizer(),\n",
        "    KNeighborsClassifier()\n",
        ")\n",
        "\n",
        "X_train = df_personality_sentiment[\"lyrics\"]\n",
        "y_train = df_personality_sentiment[\"genre\"]\n",
        "\n",
        "pipeline.fit(X_train, y_train)\n",
        "y_train_ = pipeline.predict(X_train)\n",
        "(f1_score(y_train, y_train_, pos_label=\"hiphop\"),\n",
        "    f1_score(y_train, y_train_, pos_label=\"pop\"))"
      ],
      "execution_count": 74,
      "outputs": [
        {
          "output_type": "execute_result",
          "data": {
            "text/plain": [
              "(0.8333333333333334, 0.8577878103837472)"
            ]
          },
          "metadata": {
            "tags": []
          },
          "execution_count": 74
        }
      ]
    },
    {
      "cell_type": "code",
      "metadata": {
        "id": "c-wMyBxm1YNC",
        "colab_type": "code",
        "colab": {
          "base_uri": "https://localhost:8080/",
          "height": 34
        },
        "outputId": "663485b0-c693-497d-82b1-1431e92468f0"
      },
      "source": [
        "pipeline = make_pipeline(\n",
        "    TfidfVectorizer(),\n",
        "    RandomForestClassifier(max_features = 'sqrt')\n",
        ")\n",
        "\n",
        "X_train = df_personality_sentiment[\"lyrics\"]\n",
        "y_train = df_personality_sentiment[\"genre\"]\n",
        "\n",
        "pipeline.fit(X_train, y_train)\n",
        "y_train_ = pipeline.predict(X_train)\n",
        "(f1_score(y_train, y_train_, pos_label=\"hiphop\"),\n",
        " f1_score(y_train, y_train_, pos_label=\"pop\"))"
      ],
      "execution_count": 75,
      "outputs": [
        {
          "output_type": "execute_result",
          "data": {
            "text/plain": [
              "(1.0, 1.0)"
            ]
          },
          "metadata": {
            "tags": []
          },
          "execution_count": 75
        }
      ]
    },
    {
      "cell_type": "markdown",
      "metadata": {
        "id": "oJqSt-j77Rag",
        "colab_type": "text"
      },
      "source": [
        "**Random Forest wins again, but a score of 1 is too good. This is likely just overfitting. I want to try to estimate the test error.**"
      ]
    },
    {
      "cell_type": "code",
      "metadata": {
        "id": "pdQsbxWa66pq",
        "colab_type": "code",
        "colab": {
          "base_uri": "https://localhost:8080/",
          "height": 34
        },
        "outputId": "e69095df-472d-4eaf-93d2-a33b079e621b"
      },
      "source": [
        "pipeline = make_pipeline(\n",
        "    TfidfVectorizer(),\n",
        "    RandomForestClassifier(max_features = 'sqrt')\n",
        ")\n",
        "\n",
        "cv_errs = cross_val_score(pipeline,\n",
        "             df_personality_sentiment[\"lyrics\"],\n",
        "             df_personality_sentiment[\"genre\"], scoring=\"f1_macro\", cv=10)\n",
        "\n",
        "cv_errs.mean()"
      ],
      "execution_count": 76,
      "outputs": [
        {
          "output_type": "execute_result",
          "data": {
            "text/plain": [
              "0.8327213212954568"
            ]
          },
          "metadata": {
            "tags": []
          },
          "execution_count": 76
        }
      ]
    },
    {
      "cell_type": "markdown",
      "metadata": {
        "id": "2VlZdj4O-bhj",
        "colab_type": "text"
      },
      "source": [
        "**Now I try using the same stopwords that I used for my ngram bar chart.**"
      ]
    },
    {
      "cell_type": "code",
      "metadata": {
        "id": "7vKfA1Wr99yV",
        "colab_type": "code",
        "colab": {
          "base_uri": "https://localhost:8080/",
          "height": 34
        },
        "outputId": "d9d388cb-1310-489e-e30e-34d4b34d19db"
      },
      "source": [
        "my_stop_words = text.ENGLISH_STOP_WORDS.union(\n",
        "      [\"oh\", \"yeah\", \"im\", \"hey\"])\n",
        "\n",
        "pipeline = make_pipeline(\n",
        "    TfidfVectorizer(stop_words=my_stop_words),\n",
        "    RandomForestClassifier(max_features = 'sqrt')\n",
        ")\n",
        "\n",
        "cv_errs = cross_val_score(pipeline,\n",
        "             df_personality_sentiment[\"lyrics\"],\n",
        "             df_personality_sentiment[\"genre\"], scoring=\"f1_macro\", cv=10)\n",
        "\n",
        "cv_errs.mean()"
      ],
      "execution_count": 77,
      "outputs": [
        {
          "output_type": "execute_result",
          "data": {
            "text/plain": [
              "0.8412252156376174"
            ]
          },
          "metadata": {
            "tags": []
          },
          "execution_count": 77
        }
      ]
    },
    {
      "cell_type": "markdown",
      "metadata": {
        "id": "49D43O0g-jDJ",
        "colab_type": "text"
      },
      "source": [
        "**This lyric model has already beat the audio feature model, but now we can check textual features.**"
      ]
    },
    {
      "cell_type": "code",
      "metadata": {
        "id": "TloMyLNg7var",
        "colab_type": "code",
        "colab": {
          "base_uri": "https://localhost:8080/",
          "height": 421
        },
        "outputId": "d4ce813d-868a-4c78-a43d-f2dc16064af4"
      },
      "source": [
        "f1 = []\n",
        "feature = []\n",
        "for features in [[\"polarity\"],\n",
        "                 [\"magnitude\"],\n",
        "                 [\"artistic\"],\n",
        "                 [\"imagination\"],\n",
        "                 [\"emotion\"],\n",
        "                 [\"assertive\"],\n",
        "                 [\"cheeful\"],\n",
        "                 [\"outgoing\"],\n",
        "                 [\"modesty\"],\n",
        "                 [\"sympathy\"],\n",
        "                 [\"fiery\"],\n",
        "                 [\"melancholy\"]]:\n",
        "  \n",
        "  ct = make_column_transformer(\n",
        "      (StandardScaler(), features),\n",
        "      remainder = \"drop\"\n",
        "  )\n",
        "\n",
        "  pipeline = make_pipeline(\n",
        "      ct,\n",
        "      RandomForestClassifier(max_features = 'sqrt')\n",
        "  )\n",
        "  cv_errs = cross_val_score(pipeline,\n",
        "              df_personality_sentiment[\n",
        "                      [\"polarity\", \"magnitude\", \"artistic\", \n",
        "                      \"imagination\", \"emotion\", \"assertive\", \"cheeful\", \n",
        "                      \"outgoing\", \"outgoing\", \"modesty\", \"sympathy\", \n",
        "                      \"fiery\", \"melancholy\"]\n",
        "                      ],\n",
        "              df_personality_sentiment[\"genre\"], scoring=\"f1_macro\", cv=10)\n",
        "  \n",
        "  feature.append(features)\n",
        "  f1.append(cv_errs.mean())\n",
        "\n",
        "df = {}\n",
        "df[\"feature\"] = feature\n",
        "df[\"f1\"] = f1\n",
        "df1 = pd.DataFrame(df)\n",
        "df1"
      ],
      "execution_count": 78,
      "outputs": [
        {
          "output_type": "execute_result",
          "data": {
            "text/html": [
              "<div>\n",
              "<style scoped>\n",
              "    .dataframe tbody tr th:only-of-type {\n",
              "        vertical-align: middle;\n",
              "    }\n",
              "\n",
              "    .dataframe tbody tr th {\n",
              "        vertical-align: top;\n",
              "    }\n",
              "\n",
              "    .dataframe thead th {\n",
              "        text-align: right;\n",
              "    }\n",
              "</style>\n",
              "<table border=\"1\" class=\"dataframe\">\n",
              "  <thead>\n",
              "    <tr style=\"text-align: right;\">\n",
              "      <th></th>\n",
              "      <th>feature</th>\n",
              "      <th>f1</th>\n",
              "    </tr>\n",
              "  </thead>\n",
              "  <tbody>\n",
              "    <tr>\n",
              "      <th>0</th>\n",
              "      <td>[polarity]</td>\n",
              "      <td>0.609134</td>\n",
              "    </tr>\n",
              "    <tr>\n",
              "      <th>1</th>\n",
              "      <td>[magnitude]</td>\n",
              "      <td>0.670388</td>\n",
              "    </tr>\n",
              "    <tr>\n",
              "      <th>2</th>\n",
              "      <td>[artistic]</td>\n",
              "      <td>0.522308</td>\n",
              "    </tr>\n",
              "    <tr>\n",
              "      <th>3</th>\n",
              "      <td>[imagination]</td>\n",
              "      <td>0.505020</td>\n",
              "    </tr>\n",
              "    <tr>\n",
              "      <th>4</th>\n",
              "      <td>[emotion]</td>\n",
              "      <td>0.611611</td>\n",
              "    </tr>\n",
              "    <tr>\n",
              "      <th>5</th>\n",
              "      <td>[assertive]</td>\n",
              "      <td>0.612830</td>\n",
              "    </tr>\n",
              "    <tr>\n",
              "      <th>6</th>\n",
              "      <td>[cheeful]</td>\n",
              "      <td>0.519345</td>\n",
              "    </tr>\n",
              "    <tr>\n",
              "      <th>7</th>\n",
              "      <td>[outgoing]</td>\n",
              "      <td>0.579484</td>\n",
              "    </tr>\n",
              "    <tr>\n",
              "      <th>8</th>\n",
              "      <td>[modesty]</td>\n",
              "      <td>0.708254</td>\n",
              "    </tr>\n",
              "    <tr>\n",
              "      <th>9</th>\n",
              "      <td>[sympathy]</td>\n",
              "      <td>0.552419</td>\n",
              "    </tr>\n",
              "    <tr>\n",
              "      <th>10</th>\n",
              "      <td>[fiery]</td>\n",
              "      <td>0.503888</td>\n",
              "    </tr>\n",
              "    <tr>\n",
              "      <th>11</th>\n",
              "      <td>[melancholy]</td>\n",
              "      <td>0.587587</td>\n",
              "    </tr>\n",
              "  </tbody>\n",
              "</table>\n",
              "</div>"
            ],
            "text/plain": [
              "          feature        f1\n",
              "0      [polarity]  0.609134\n",
              "1     [magnitude]  0.670388\n",
              "2      [artistic]  0.522308\n",
              "3   [imagination]  0.505020\n",
              "4       [emotion]  0.611611\n",
              "5     [assertive]  0.612830\n",
              "6       [cheeful]  0.519345\n",
              "7      [outgoing]  0.579484\n",
              "8       [modesty]  0.708254\n",
              "9      [sympathy]  0.552419\n",
              "10        [fiery]  0.503888\n",
              "11   [melancholy]  0.587587"
            ]
          },
          "metadata": {
            "tags": []
          },
          "execution_count": 78
        }
      ]
    },
    {
      "cell_type": "code",
      "metadata": {
        "id": "oIN1RtS9CgKs",
        "colab_type": "code",
        "colab": {
          "base_uri": "https://localhost:8080/",
          "height": 235
        },
        "outputId": "264bf470-5e5a-4873-bb00-b9a0634399ec"
      },
      "source": [
        "f1 = []\n",
        "feature = []\n",
        "for features in [[\"modesty\"],\n",
        "                 [\"emotion\"],\n",
        "                 [\"assertive\"],\n",
        "                 [\"modesty\", \"assertive\"],\n",
        "                 [\"modesty\", \"emotion\"],\n",
        "                 [\"modesty\", \"assertive\", \"emotion\"],]:\n",
        "  \n",
        "  ct = make_column_transformer(\n",
        "      (StandardScaler(), features),\n",
        "      remainder = \"drop\"\n",
        "  )\n",
        "\n",
        "  pipeline = make_pipeline(\n",
        "      ct,\n",
        "      RandomForestClassifier(max_features = 'sqrt')\n",
        "  )\n",
        "  cv_errs = cross_val_score(pipeline,\n",
        "              df_personality_sentiment[ [\"emotion\", \"assertive\", \"modesty\"]],\n",
        "              df_personality_sentiment[\"genre\"], scoring=\"f1_macro\", cv=10)\n",
        "  \n",
        "  feature.append(features)\n",
        "  f1.append(cv_errs.mean())\n",
        "\n",
        "df = {}\n",
        "df[\"feature\"] = feature\n",
        "df[\"f1\"] = f1\n",
        "df1 = pd.DataFrame(df)\n",
        "df1"
      ],
      "execution_count": 79,
      "outputs": [
        {
          "output_type": "execute_result",
          "data": {
            "text/html": [
              "<div>\n",
              "<style scoped>\n",
              "    .dataframe tbody tr th:only-of-type {\n",
              "        vertical-align: middle;\n",
              "    }\n",
              "\n",
              "    .dataframe tbody tr th {\n",
              "        vertical-align: top;\n",
              "    }\n",
              "\n",
              "    .dataframe thead th {\n",
              "        text-align: right;\n",
              "    }\n",
              "</style>\n",
              "<table border=\"1\" class=\"dataframe\">\n",
              "  <thead>\n",
              "    <tr style=\"text-align: right;\">\n",
              "      <th></th>\n",
              "      <th>feature</th>\n",
              "      <th>f1</th>\n",
              "    </tr>\n",
              "  </thead>\n",
              "  <tbody>\n",
              "    <tr>\n",
              "      <th>0</th>\n",
              "      <td>[modesty]</td>\n",
              "      <td>0.708254</td>\n",
              "    </tr>\n",
              "    <tr>\n",
              "      <th>1</th>\n",
              "      <td>[emotion]</td>\n",
              "      <td>0.610225</td>\n",
              "    </tr>\n",
              "    <tr>\n",
              "      <th>2</th>\n",
              "      <td>[assertive]</td>\n",
              "      <td>0.612830</td>\n",
              "    </tr>\n",
              "    <tr>\n",
              "      <th>3</th>\n",
              "      <td>[modesty, assertive]</td>\n",
              "      <td>0.755847</td>\n",
              "    </tr>\n",
              "    <tr>\n",
              "      <th>4</th>\n",
              "      <td>[modesty, emotion]</td>\n",
              "      <td>0.733876</td>\n",
              "    </tr>\n",
              "    <tr>\n",
              "      <th>5</th>\n",
              "      <td>[modesty, assertive, emotion]</td>\n",
              "      <td>0.740625</td>\n",
              "    </tr>\n",
              "  </tbody>\n",
              "</table>\n",
              "</div>"
            ],
            "text/plain": [
              "                         feature        f1\n",
              "0                      [modesty]  0.708254\n",
              "1                      [emotion]  0.610225\n",
              "2                    [assertive]  0.612830\n",
              "3           [modesty, assertive]  0.755847\n",
              "4             [modesty, emotion]  0.733876\n",
              "5  [modesty, assertive, emotion]  0.740625"
            ]
          },
          "metadata": {
            "tags": []
          },
          "execution_count": 79
        }
      ]
    },
    {
      "cell_type": "markdown",
      "metadata": {
        "id": "3TEw61nzDkCW",
        "colab_type": "text"
      },
      "source": [
        "**Modesty and assertive is best. However, I remember that I decided to consider explicit as a textul feature.**"
      ]
    },
    {
      "cell_type": "code",
      "metadata": {
        "id": "4gEA3p77DjOL",
        "colab_type": "code",
        "colab": {
          "base_uri": "https://localhost:8080/",
          "height": 142
        },
        "outputId": "a1d7ae77-dd32-4594-9c3b-611521647e22"
      },
      "source": [
        "f1 = []\n",
        "feature = []\n",
        "for features in [[\"modesty\", \"explicit\"],\n",
        "                 [\"modesty\", \"assertive\", \"explicit\"],\n",
        "                 [\"modesty\", \"assertive\", \"emotion\", \"explicit\"]]:\n",
        "  \n",
        "  ct = make_column_transformer(\n",
        "      (StandardScaler(), features),\n",
        "      remainder = \"drop\"\n",
        "  )\n",
        "\n",
        "  pipeline = make_pipeline(\n",
        "      ct,\n",
        "      RandomForestClassifier(max_features = 'sqrt')\n",
        "  )\n",
        "  cv_errs = cross_val_score(pipeline,\n",
        "              df_personality_sentiment[[\"emotion\", \"assertive\", \"modesty\", \n",
        "                                        \"explicit\"]],\n",
        "              df_personality_sentiment[\"genre\"], scoring=\"f1_macro\", cv=10)\n",
        "  \n",
        "  feature.append(features)\n",
        "  f1.append(cv_errs.mean())\n",
        "\n",
        "df = {}\n",
        "df[\"feature\"] = feature\n",
        "df[\"f1\"] = f1\n",
        "df1 = pd.DataFrame(df)\n",
        "df1"
      ],
      "execution_count": 81,
      "outputs": [
        {
          "output_type": "execute_result",
          "data": {
            "text/html": [
              "<div>\n",
              "<style scoped>\n",
              "    .dataframe tbody tr th:only-of-type {\n",
              "        vertical-align: middle;\n",
              "    }\n",
              "\n",
              "    .dataframe tbody tr th {\n",
              "        vertical-align: top;\n",
              "    }\n",
              "\n",
              "    .dataframe thead th {\n",
              "        text-align: right;\n",
              "    }\n",
              "</style>\n",
              "<table border=\"1\" class=\"dataframe\">\n",
              "  <thead>\n",
              "    <tr style=\"text-align: right;\">\n",
              "      <th></th>\n",
              "      <th>feature</th>\n",
              "      <th>f1</th>\n",
              "    </tr>\n",
              "  </thead>\n",
              "  <tbody>\n",
              "    <tr>\n",
              "      <th>0</th>\n",
              "      <td>[modesty, explicit]</td>\n",
              "      <td>0.763685</td>\n",
              "    </tr>\n",
              "    <tr>\n",
              "      <th>1</th>\n",
              "      <td>[modesty, assertive, explicit]</td>\n",
              "      <td>0.803143</td>\n",
              "    </tr>\n",
              "    <tr>\n",
              "      <th>2</th>\n",
              "      <td>[modesty, assertive, emotion, explicit]</td>\n",
              "      <td>0.804934</td>\n",
              "    </tr>\n",
              "  </tbody>\n",
              "</table>\n",
              "</div>"
            ],
            "text/plain": [
              "                                   feature        f1\n",
              "0                      [modesty, explicit]  0.763685\n",
              "1           [modesty, assertive, explicit]  0.803143\n",
              "2  [modesty, assertive, emotion, explicit]  0.804934"
            ]
          },
          "metadata": {
            "tags": []
          },
          "execution_count": 81
        }
      ]
    },
    {
      "cell_type": "markdown",
      "metadata": {
        "id": "C-XO03V5CDzy",
        "colab_type": "text"
      },
      "source": [
        "**Hyperparameter tuning using random search cv to randomly select different combinations of parameters at the same time.**"
      ]
    },
    {
      "cell_type": "code",
      "metadata": {
        "id": "qTgcJNhzpsLn",
        "colab_type": "code",
        "colab": {
          "base_uri": "https://localhost:8080/",
          "height": 102
        },
        "outputId": "ea880d0b-c87d-4584-8622-1cc4b66a7ad9"
      },
      "source": [
        "pipeline = make_pipeline(\n",
        "    StandardScaler(),\n",
        "    RandomForestClassifier(max_features = 'sqrt')\n",
        ")\n",
        "\n",
        "n_estimators = [int(x) for x in np.linspace(start = 100, stop = 1000, num = 10)]\n",
        "max_depth = [int(x) for x in np.linspace(10, 110, num = 11)] + [None]\n",
        "min_samples_split = [2, 5, 10]\n",
        "min_samples_leaf = [1, 2, 4]\n",
        "bootstrap = [True, False]\n",
        "random_grid = {'randomforestclassifier__n_estimators': n_estimators,\n",
        "               'randomforestclassifier__max_depth': max_depth,\n",
        "               'randomforestclassifier__min_samples_split': min_samples_split,\n",
        "               'randomforestclassifier__min_samples_leaf': min_samples_leaf,\n",
        "               'randomforestclassifier__bootstrap': bootstrap}\n",
        "\n",
        "rs = RandomizedSearchCV(\n",
        "    pipeline, param_distributions = random_grid, n_iter = 100, \n",
        "    scoring=\"f1_macro\", cv = 5)\n",
        "\n",
        "model = rs.fit(\n",
        "    df_personality_sentiment[[\"emotion\", \"assertive\", \"modesty\", \"explicit\"]],\n",
        "    df_personality_sentiment[\"genre\"])\n",
        "\n",
        "model.best_params_"
      ],
      "execution_count": 91,
      "outputs": [
        {
          "output_type": "execute_result",
          "data": {
            "text/plain": [
              "{'randomforestclassifier__bootstrap': True,\n",
              " 'randomforestclassifier__max_depth': 10,\n",
              " 'randomforestclassifier__min_samples_leaf': 2,\n",
              " 'randomforestclassifier__min_samples_split': 2,\n",
              " 'randomforestclassifier__n_estimators': 900}"
            ]
          },
          "metadata": {
            "tags": []
          },
          "execution_count": 91
        }
      ]
    },
    {
      "cell_type": "code",
      "metadata": {
        "id": "7IZ4-soUyDJx",
        "colab_type": "code",
        "colab": {
          "base_uri": "https://localhost:8080/",
          "height": 34
        },
        "outputId": "e105c8f3-3cd6-48b2-d0a7-0fc7e21bf689"
      },
      "source": [
        "pipeline = make_pipeline(\n",
        "    StandardScaler(),\n",
        "    RandomForestClassifier(max_features = 'sqrt', bootstrap=True, max_depth=10,\n",
        "                           min_samples_leaf=2, min_samples_split=2,\n",
        "                           n_estimators=900)\n",
        ")\n",
        "cv_errs = cross_val_score(pipeline,\n",
        "            df_personality_sentiment[[\"emotion\", \"assertive\", \"modesty\", \n",
        "                                      \"explicit\"]],\n",
        "            df_personality_sentiment[\"genre\"], scoring=\"f1_macro\", cv=10)\n",
        "cv_errs.mean()"
      ],
      "execution_count": 98,
      "outputs": [
        {
          "output_type": "execute_result",
          "data": {
            "text/plain": [
              "0.8096435003675915"
            ]
          },
          "metadata": {
            "tags": []
          },
          "execution_count": 98
        }
      ]
    },
    {
      "cell_type": "markdown",
      "metadata": {
        "id": "raFJ4eLcBbcY",
        "colab_type": "text"
      },
      "source": [
        "**Hyperparameter tuning the lyric model.**"
      ]
    },
    {
      "cell_type": "code",
      "metadata": {
        "id": "bVuRiuwhzOIL",
        "colab_type": "code",
        "colab": {
          "base_uri": "https://localhost:8080/",
          "height": 102
        },
        "outputId": "75ea719a-acd6-43e4-f600-91ced9f97c55"
      },
      "source": [
        "my_stop_words = text.ENGLISH_STOP_WORDS.union(\n",
        "      [\"oh\", \"yeah\", \"im\", \"hey\"])\n",
        "\n",
        "pipeline = make_pipeline(\n",
        "    TfidfVectorizer(stop_words=my_stop_words),\n",
        "    RandomForestClassifier(max_features = 'sqrt')\n",
        ")\n",
        "\n",
        "n_estimators = [int(x) for x in np.linspace(start = 100, stop = 1000, num = 10)]\n",
        "max_depth = [int(x) for x in np.linspace(10, 110, num = 11)] + [None]\n",
        "min_samples_split = [2, 5, 10]\n",
        "min_samples_leaf = [1, 2, 4]\n",
        "bootstrap = [True, False]\n",
        "random_grid = {'randomforestclassifier__n_estimators': n_estimators,\n",
        "               'randomforestclassifier__max_depth': max_depth,\n",
        "               'randomforestclassifier__min_samples_split': min_samples_split,\n",
        "               'randomforestclassifier__min_samples_leaf': min_samples_leaf,\n",
        "               'randomforestclassifier__bootstrap': bootstrap}\n",
        "\n",
        "rs = RandomizedSearchCV(\n",
        "    pipeline, param_distributions = random_grid, n_iter = 100, \n",
        "    scoring=\"f1_macro\", cv = 5)\n",
        "\n",
        "model = rs.fit(\n",
        "    df_personality_sentiment[\"lyrics\"],\n",
        "    df_personality_sentiment[\"genre\"])\n",
        "\n",
        "model.best_params_"
      ],
      "execution_count": 95,
      "outputs": [
        {
          "output_type": "execute_result",
          "data": {
            "text/plain": [
              "{'randomforestclassifier__bootstrap': False,\n",
              " 'randomforestclassifier__max_depth': 70,\n",
              " 'randomforestclassifier__min_samples_leaf': 2,\n",
              " 'randomforestclassifier__min_samples_split': 2,\n",
              " 'randomforestclassifier__n_estimators': 100}"
            ]
          },
          "metadata": {
            "tags": []
          },
          "execution_count": 95
        }
      ]
    },
    {
      "cell_type": "markdown",
      "metadata": {
        "id": "wx3KoRk8BfMy",
        "colab_type": "text"
      },
      "source": [
        "**The best lyric model.**"
      ]
    },
    {
      "cell_type": "code",
      "metadata": {
        "id": "WbM68NQs3LOk",
        "colab_type": "code",
        "colab": {
          "base_uri": "https://localhost:8080/",
          "height": 34
        },
        "outputId": "56540261-3123-4e43-a33c-f6c385f79ff3"
      },
      "source": [
        "pipeline = make_pipeline(\n",
        "    TfidfVectorizer(),\n",
        "    RandomForestClassifier(max_features = 'sqrt', bootstrap=False, max_depth=70,\n",
        "                           min_samples_leaf=2, min_samples_split=2,\n",
        "                           n_estimators=100)\n",
        ")\n",
        "cv_errs = cross_val_score(pipeline,\n",
        "            df_personality_sentiment[\"lyrics\"],\n",
        "            df_personality_sentiment[\"genre\"], scoring=\"f1_macro\", cv=10)\n",
        "cv_errs.mean()"
      ],
      "execution_count": 99,
      "outputs": [
        {
          "output_type": "execute_result",
          "data": {
            "text/plain": [
              "0.8535691829107798"
            ]
          },
          "metadata": {
            "tags": []
          },
          "execution_count": 99
        }
      ]
    }
  ]
}