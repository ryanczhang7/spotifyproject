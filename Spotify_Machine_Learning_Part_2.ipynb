{
  "nbformat": 4,
  "nbformat_minor": 0,
  "metadata": {
    "colab": {
      "name": "Spotify Machine Learning Part 2.ipynb",
      "provenance": [],
      "collapsed_sections": [],
      "mount_file_id": "1L3f82sb70lftqbz4dWfsGAVE6HKQu1G0",
      "authorship_tag": "ABX9TyOXxU+cFdoR0FNT2VuB37M7",
      "include_colab_link": true
    },
    "kernelspec": {
      "name": "python3",
      "display_name": "Python 3"
    }
  },
  "cells": [
    {
      "cell_type": "markdown",
      "metadata": {
        "id": "view-in-github",
        "colab_type": "text"
      },
      "source": [
        "<a href=\"https://colab.research.google.com/github/ryanczhang7/spotifyproject/blob/master/Spotify_Machine_Learning_Part_2.ipynb\" target=\"_parent\"><img src=\"https://colab.research.google.com/assets/colab-badge.svg\" alt=\"Open In Colab\"/></a>"
      ]
    },
    {
      "cell_type": "markdown",
      "metadata": {
        "id": "WpsMfC87vXE4",
        "colab_type": "text"
      },
      "source": [
        "# Intro"
      ]
    },
    {
      "cell_type": "markdown",
      "metadata": {
        "id": "hvetzE6fpA5N",
        "colab_type": "text"
      },
      "source": [
        "**I want to see whether the audio features like liveness and loudness that came with target label popularity from the Spotify Web API, will perform better at predicting popularity, than the textual features like personality traits and sentiment analysis that I queried from a completely different source. Then I also want to see if adding the textual features onto my best audio features model will improve the performance of the model.**"
      ]
    },
    {
      "cell_type": "code",
      "metadata": {
        "id": "IcKDOdkymAAH",
        "colab_type": "code",
        "colab": {}
      },
      "source": [
        "import pandas as pd\n",
        "import numpy as np"
      ],
      "execution_count": 0,
      "outputs": []
    },
    {
      "cell_type": "code",
      "metadata": {
        "id": "sj-D3mT7l0AZ",
        "colab_type": "code",
        "colab": {}
      },
      "source": [
        "spotify_df = pd.read_csv(\"/content/drive/My Drive/spotify_complete.csv\")\n",
        "spotify_test = pd.read_csv('/content/drive/My Drive/spotify_test_data.csv')"
      ],
      "execution_count": 0,
      "outputs": []
    },
    {
      "cell_type": "code",
      "metadata": {
        "id": "wRTedpBemXTY",
        "colab_type": "code",
        "outputId": "aca0b225-6493-4f1c-c349-7ba4278ea489",
        "colab": {
          "base_uri": "https://localhost:8080/",
          "height": 1000
        }
      },
      "source": [
        "spotify_df = spotify_df.iloc[:,1:]\n",
        "spotify_df = spotify_df.drop(\"album_id\", axis=1)\n",
        "spotify_df"
      ],
      "execution_count": 0,
      "outputs": [
        {
          "output_type": "execute_result",
          "data": {
            "text/html": [
              "<div>\n",
              "<style scoped>\n",
              "    .dataframe tbody tr th:only-of-type {\n",
              "        vertical-align: middle;\n",
              "    }\n",
              "\n",
              "    .dataframe tbody tr th {\n",
              "        vertical-align: top;\n",
              "    }\n",
              "\n",
              "    .dataframe thead th {\n",
              "        text-align: right;\n",
              "    }\n",
              "</style>\n",
              "<table border=\"1\" class=\"dataframe\">\n",
              "  <thead>\n",
              "    <tr style=\"text-align: right;\">\n",
              "      <th></th>\n",
              "      <th>song</th>\n",
              "      <th>album</th>\n",
              "      <th>artist</th>\n",
              "      <th>acousticness</th>\n",
              "      <th>danceability</th>\n",
              "      <th>energy</th>\n",
              "      <th>instrumentalness</th>\n",
              "      <th>key</th>\n",
              "      <th>liveness</th>\n",
              "      <th>loudness</th>\n",
              "      <th>mode</th>\n",
              "      <th>speechiness</th>\n",
              "      <th>tempo</th>\n",
              "      <th>time_signature</th>\n",
              "      <th>valence</th>\n",
              "      <th>date</th>\n",
              "      <th>popularity</th>\n",
              "      <th>explicit</th>\n",
              "      <th>chain_lyrics</th>\n",
              "      <th>lyrics</th>\n",
              "      <th>polarity</th>\n",
              "      <th>magnitude</th>\n",
              "      <th>artistic</th>\n",
              "      <th>emotion</th>\n",
              "      <th>imagination</th>\n",
              "      <th>defiance</th>\n",
              "      <th>assertive</th>\n",
              "      <th>cheerful</th>\n",
              "      <th>outgoing</th>\n",
              "      <th>gregarious</th>\n",
              "      <th>modesty</th>\n",
              "      <th>stubborn</th>\n",
              "      <th>sympathy</th>\n",
              "      <th>trust</th>\n",
              "      <th>fiery</th>\n",
              "      <th>melancholy</th>\n",
              "      <th>immoderation</th>\n",
              "      <th>self-conscious</th>\n",
              "      <th>stress</th>\n",
              "    </tr>\n",
              "  </thead>\n",
              "  <tbody>\n",
              "    <tr>\n",
              "      <th>0</th>\n",
              "      <td>Voices In My Head</td>\n",
              "      <td>Hoodie SZN</td>\n",
              "      <td>A Boogie Wit da Hoodie</td>\n",
              "      <td>0.0555</td>\n",
              "      <td>0.754</td>\n",
              "      <td>0.663</td>\n",
              "      <td>0.000000</td>\n",
              "      <td>6.0</td>\n",
              "      <td>0.1010</td>\n",
              "      <td>-6.311</td>\n",
              "      <td>0.0</td>\n",
              "      <td>0.4270</td>\n",
              "      <td>90.195</td>\n",
              "      <td>4.0</td>\n",
              "      <td>0.207</td>\n",
              "      <td>2018-12-21</td>\n",
              "      <td>58</td>\n",
              "      <td>1</td>\n",
              "      <td>monstas gon tear it up all she ever wanted was...</td>\n",
              "      <td>monstas gon tear it up all she ever wanted was...</td>\n",
              "      <td>-1.0</td>\n",
              "      <td>1.4</td>\n",
              "      <td>0.983429</td>\n",
              "      <td>0.269785</td>\n",
              "      <td>0.845684</td>\n",
              "      <td>0.833923</td>\n",
              "      <td>0.339471</td>\n",
              "      <td>0.814061</td>\n",
              "      <td>0.100284</td>\n",
              "      <td>0.099952</td>\n",
              "      <td>0.179199</td>\n",
              "      <td>0.670662</td>\n",
              "      <td>0.318997</td>\n",
              "      <td>0.001978</td>\n",
              "      <td>0.241852</td>\n",
              "      <td>0.780715</td>\n",
              "      <td>0.587846</td>\n",
              "      <td>0.719468</td>\n",
              "      <td>0.480640</td>\n",
              "    </tr>\n",
              "    <tr>\n",
              "      <th>1</th>\n",
              "      <td>Beasty</td>\n",
              "      <td>Hoodie SZN</td>\n",
              "      <td>A Boogie Wit da Hoodie</td>\n",
              "      <td>0.2920</td>\n",
              "      <td>0.860</td>\n",
              "      <td>0.418</td>\n",
              "      <td>0.000000</td>\n",
              "      <td>7.0</td>\n",
              "      <td>0.1060</td>\n",
              "      <td>-9.061</td>\n",
              "      <td>0.0</td>\n",
              "      <td>0.1580</td>\n",
              "      <td>126.023</td>\n",
              "      <td>4.0</td>\n",
              "      <td>0.374</td>\n",
              "      <td>2018-12-21</td>\n",
              "      <td>59</td>\n",
              "      <td>1</td>\n",
              "      <td>all that we know is the logos and hb \\n the gl...</td>\n",
              "      <td>all that we know is the logos and hb the glock...</td>\n",
              "      <td>0.0</td>\n",
              "      <td>1.5</td>\n",
              "      <td>0.951363</td>\n",
              "      <td>0.118000</td>\n",
              "      <td>0.993211</td>\n",
              "      <td>0.778178</td>\n",
              "      <td>0.651997</td>\n",
              "      <td>0.856554</td>\n",
              "      <td>0.322349</td>\n",
              "      <td>0.608428</td>\n",
              "      <td>0.010153</td>\n",
              "      <td>0.048880</td>\n",
              "      <td>0.084278</td>\n",
              "      <td>0.000658</td>\n",
              "      <td>0.848225</td>\n",
              "      <td>0.664055</td>\n",
              "      <td>0.801688</td>\n",
              "      <td>0.390560</td>\n",
              "      <td>0.443472</td>\n",
              "    </tr>\n",
              "    <tr>\n",
              "      <th>2</th>\n",
              "      <td>I Did It</td>\n",
              "      <td>Hoodie SZN</td>\n",
              "      <td>A Boogie Wit da Hoodie</td>\n",
              "      <td>0.1530</td>\n",
              "      <td>0.718</td>\n",
              "      <td>0.454</td>\n",
              "      <td>0.000046</td>\n",
              "      <td>8.0</td>\n",
              "      <td>0.1160</td>\n",
              "      <td>-9.012</td>\n",
              "      <td>1.0</td>\n",
              "      <td>0.1270</td>\n",
              "      <td>89.483</td>\n",
              "      <td>4.0</td>\n",
              "      <td>0.196</td>\n",
              "      <td>2018-12-21</td>\n",
              "      <td>57</td>\n",
              "      <td>1</td>\n",
              "      <td>yeah i cant trust these bitches \\n i dont got ...</td>\n",
              "      <td>yeah i cant trust these bitches i dont got no ...</td>\n",
              "      <td>-1.0</td>\n",
              "      <td>1.9</td>\n",
              "      <td>0.974373</td>\n",
              "      <td>0.406747</td>\n",
              "      <td>0.700611</td>\n",
              "      <td>0.815956</td>\n",
              "      <td>0.123845</td>\n",
              "      <td>0.771871</td>\n",
              "      <td>0.128306</td>\n",
              "      <td>0.112841</td>\n",
              "      <td>0.631363</td>\n",
              "      <td>0.718800</td>\n",
              "      <td>0.313936</td>\n",
              "      <td>0.001588</td>\n",
              "      <td>0.251038</td>\n",
              "      <td>0.798487</td>\n",
              "      <td>0.450389</td>\n",
              "      <td>0.736179</td>\n",
              "      <td>0.669987</td>\n",
              "    </tr>\n",
              "    <tr>\n",
              "      <th>3</th>\n",
              "      <td>Swervin</td>\n",
              "      <td>Hoodie SZN</td>\n",
              "      <td>A Boogie Wit da Hoodie</td>\n",
              "      <td>0.0153</td>\n",
              "      <td>0.581</td>\n",
              "      <td>0.662</td>\n",
              "      <td>0.000000</td>\n",
              "      <td>9.0</td>\n",
              "      <td>0.1110</td>\n",
              "      <td>-5.239</td>\n",
              "      <td>1.0</td>\n",
              "      <td>0.3030</td>\n",
              "      <td>93.023</td>\n",
              "      <td>4.0</td>\n",
              "      <td>0.434</td>\n",
              "      <td>2018-12-21</td>\n",
              "      <td>83</td>\n",
              "      <td>1</td>\n",
              "      <td>uh \\n yeah \\n oh thats london on da track run ...</td>\n",
              "      <td>uh yeah oh thats london on da track run that s...</td>\n",
              "      <td>0.5</td>\n",
              "      <td>1.4</td>\n",
              "      <td>0.945732</td>\n",
              "      <td>0.312331</td>\n",
              "      <td>0.866823</td>\n",
              "      <td>0.403949</td>\n",
              "      <td>0.815055</td>\n",
              "      <td>0.961068</td>\n",
              "      <td>0.834103</td>\n",
              "      <td>0.872156</td>\n",
              "      <td>0.008053</td>\n",
              "      <td>0.392424</td>\n",
              "      <td>0.068322</td>\n",
              "      <td>0.011624</td>\n",
              "      <td>0.523789</td>\n",
              "      <td>0.160812</td>\n",
              "      <td>0.532799</td>\n",
              "      <td>0.075188</td>\n",
              "      <td>0.109408</td>\n",
              "    </tr>\n",
              "    <tr>\n",
              "      <th>4</th>\n",
              "      <td>Startender</td>\n",
              "      <td>Hoodie SZN</td>\n",
              "      <td>A Boogie Wit da Hoodie</td>\n",
              "      <td>0.0235</td>\n",
              "      <td>0.736</td>\n",
              "      <td>0.622</td>\n",
              "      <td>0.000000</td>\n",
              "      <td>6.0</td>\n",
              "      <td>0.1510</td>\n",
              "      <td>-4.653</td>\n",
              "      <td>0.0</td>\n",
              "      <td>0.1330</td>\n",
              "      <td>191.971</td>\n",
              "      <td>4.0</td>\n",
              "      <td>0.506</td>\n",
              "      <td>2018-12-21</td>\n",
              "      <td>71</td>\n",
              "      <td>1</td>\n",
              "      <td>yeah shawty got ass she just got a tummy tuck ...</td>\n",
              "      <td>yeah shawty got ass she just got a tummy tuck ...</td>\n",
              "      <td>-1.0</td>\n",
              "      <td>2.5</td>\n",
              "      <td>0.921820</td>\n",
              "      <td>0.017407</td>\n",
              "      <td>0.824431</td>\n",
              "      <td>0.521194</td>\n",
              "      <td>0.549106</td>\n",
              "      <td>0.949360</td>\n",
              "      <td>0.699198</td>\n",
              "      <td>0.819306</td>\n",
              "      <td>0.011715</td>\n",
              "      <td>0.257703</td>\n",
              "      <td>0.042916</td>\n",
              "      <td>0.000842</td>\n",
              "      <td>0.599420</td>\n",
              "      <td>0.223387</td>\n",
              "      <td>0.610249</td>\n",
              "      <td>0.098895</td>\n",
              "      <td>0.122751</td>\n",
              "    </tr>\n",
              "    <tr>\n",
              "      <th>...</th>\n",
              "      <td>...</td>\n",
              "      <td>...</td>\n",
              "      <td>...</td>\n",
              "      <td>...</td>\n",
              "      <td>...</td>\n",
              "      <td>...</td>\n",
              "      <td>...</td>\n",
              "      <td>...</td>\n",
              "      <td>...</td>\n",
              "      <td>...</td>\n",
              "      <td>...</td>\n",
              "      <td>...</td>\n",
              "      <td>...</td>\n",
              "      <td>...</td>\n",
              "      <td>...</td>\n",
              "      <td>...</td>\n",
              "      <td>...</td>\n",
              "      <td>...</td>\n",
              "      <td>...</td>\n",
              "      <td>...</td>\n",
              "      <td>...</td>\n",
              "      <td>...</td>\n",
              "      <td>...</td>\n",
              "      <td>...</td>\n",
              "      <td>...</td>\n",
              "      <td>...</td>\n",
              "      <td>...</td>\n",
              "      <td>...</td>\n",
              "      <td>...</td>\n",
              "      <td>...</td>\n",
              "      <td>...</td>\n",
              "      <td>...</td>\n",
              "      <td>...</td>\n",
              "      <td>...</td>\n",
              "      <td>...</td>\n",
              "      <td>...</td>\n",
              "      <td>...</td>\n",
              "      <td>...</td>\n",
              "      <td>...</td>\n",
              "    </tr>\n",
              "    <tr>\n",
              "      <th>25457</th>\n",
              "      <td>Simple Machine</td>\n",
              "      <td>Evermotion</td>\n",
              "      <td>Guster</td>\n",
              "      <td>0.0101</td>\n",
              "      <td>0.624</td>\n",
              "      <td>0.794</td>\n",
              "      <td>0.004310</td>\n",
              "      <td>4.0</td>\n",
              "      <td>0.1370</td>\n",
              "      <td>-7.018</td>\n",
              "      <td>1.0</td>\n",
              "      <td>0.0476</td>\n",
              "      <td>167.970</td>\n",
              "      <td>4.0</td>\n",
              "      <td>0.781</td>\n",
              "      <td>2015-01-13</td>\n",
              "      <td>31</td>\n",
              "      <td>0</td>\n",
              "      <td>static steady plastic motion \\n lights flash b...</td>\n",
              "      <td>static steady plastic motion lights flash beat...</td>\n",
              "      <td>-1.0</td>\n",
              "      <td>0.9</td>\n",
              "      <td>0.483210</td>\n",
              "      <td>0.614466</td>\n",
              "      <td>0.791187</td>\n",
              "      <td>0.004402</td>\n",
              "      <td>0.170147</td>\n",
              "      <td>0.476026</td>\n",
              "      <td>0.200341</td>\n",
              "      <td>0.314043</td>\n",
              "      <td>0.944821</td>\n",
              "      <td>0.947986</td>\n",
              "      <td>0.454287</td>\n",
              "      <td>0.011603</td>\n",
              "      <td>0.327810</td>\n",
              "      <td>0.959904</td>\n",
              "      <td>0.367588</td>\n",
              "      <td>0.505668</td>\n",
              "      <td>0.712661</td>\n",
              "    </tr>\n",
              "    <tr>\n",
              "      <th>25458</th>\n",
              "      <td>Expectation</td>\n",
              "      <td>Evermotion</td>\n",
              "      <td>Guster</td>\n",
              "      <td>0.4460</td>\n",
              "      <td>0.467</td>\n",
              "      <td>0.578</td>\n",
              "      <td>0.000170</td>\n",
              "      <td>11.0</td>\n",
              "      <td>0.0954</td>\n",
              "      <td>-6.467</td>\n",
              "      <td>1.0</td>\n",
              "      <td>0.0344</td>\n",
              "      <td>137.013</td>\n",
              "      <td>4.0</td>\n",
              "      <td>0.250</td>\n",
              "      <td>2015-01-13</td>\n",
              "      <td>19</td>\n",
              "      <td>0</td>\n",
              "      <td>im alive \\n thats the expectation \\n oh no \\n ...</td>\n",
              "      <td>im alive thats the expectation oh no feels lik...</td>\n",
              "      <td>-1.0</td>\n",
              "      <td>0.3</td>\n",
              "      <td>0.999678</td>\n",
              "      <td>0.781936</td>\n",
              "      <td>0.994449</td>\n",
              "      <td>0.987118</td>\n",
              "      <td>0.005879</td>\n",
              "      <td>0.066235</td>\n",
              "      <td>0.001171</td>\n",
              "      <td>0.006887</td>\n",
              "      <td>0.490115</td>\n",
              "      <td>0.290116</td>\n",
              "      <td>0.856172</td>\n",
              "      <td>0.148689</td>\n",
              "      <td>0.391590</td>\n",
              "      <td>0.988559</td>\n",
              "      <td>0.477067</td>\n",
              "      <td>0.955391</td>\n",
              "      <td>0.976936</td>\n",
              "    </tr>\n",
              "    <tr>\n",
              "      <th>25459</th>\n",
              "      <td>Gangway</td>\n",
              "      <td>Evermotion</td>\n",
              "      <td>Guster</td>\n",
              "      <td>0.1130</td>\n",
              "      <td>0.447</td>\n",
              "      <td>0.753</td>\n",
              "      <td>0.004860</td>\n",
              "      <td>2.0</td>\n",
              "      <td>0.3550</td>\n",
              "      <td>-5.284</td>\n",
              "      <td>1.0</td>\n",
              "      <td>0.0284</td>\n",
              "      <td>123.460</td>\n",
              "      <td>4.0</td>\n",
              "      <td>0.431</td>\n",
              "      <td>2015-01-13</td>\n",
              "      <td>25</td>\n",
              "      <td>0</td>\n",
              "      <td>if i could make a wish of i could right a wron...</td>\n",
              "      <td>if i could make a wish of i could right a wron...</td>\n",
              "      <td>-1.0</td>\n",
              "      <td>0.7</td>\n",
              "      <td>0.999164</td>\n",
              "      <td>0.589154</td>\n",
              "      <td>0.999992</td>\n",
              "      <td>0.999748</td>\n",
              "      <td>0.094155</td>\n",
              "      <td>0.362654</td>\n",
              "      <td>0.114609</td>\n",
              "      <td>0.310047</td>\n",
              "      <td>0.026866</td>\n",
              "      <td>0.094465</td>\n",
              "      <td>0.841245</td>\n",
              "      <td>0.758046</td>\n",
              "      <td>0.699378</td>\n",
              "      <td>0.797153</td>\n",
              "      <td>0.943452</td>\n",
              "      <td>0.942651</td>\n",
              "      <td>0.640199</td>\n",
              "    </tr>\n",
              "    <tr>\n",
              "      <th>25460</th>\n",
              "      <td>Kid Dreams</td>\n",
              "      <td>Evermotion</td>\n",
              "      <td>Guster</td>\n",
              "      <td>0.2260</td>\n",
              "      <td>0.503</td>\n",
              "      <td>0.568</td>\n",
              "      <td>0.019500</td>\n",
              "      <td>5.0</td>\n",
              "      <td>0.0817</td>\n",
              "      <td>-8.075</td>\n",
              "      <td>1.0</td>\n",
              "      <td>0.0336</td>\n",
              "      <td>88.784</td>\n",
              "      <td>4.0</td>\n",
              "      <td>0.557</td>\n",
              "      <td>2015-01-13</td>\n",
              "      <td>24</td>\n",
              "      <td>0</td>\n",
              "      <td>so there i was fifteen stuck in \\n high school...</td>\n",
              "      <td>so there i was fifteen stuck in high school wa...</td>\n",
              "      <td>1.0</td>\n",
              "      <td>0.2</td>\n",
              "      <td>0.975240</td>\n",
              "      <td>0.594793</td>\n",
              "      <td>0.909666</td>\n",
              "      <td>0.751356</td>\n",
              "      <td>0.315535</td>\n",
              "      <td>0.734684</td>\n",
              "      <td>0.207368</td>\n",
              "      <td>0.224545</td>\n",
              "      <td>0.631730</td>\n",
              "      <td>0.911782</td>\n",
              "      <td>0.844109</td>\n",
              "      <td>0.095943</td>\n",
              "      <td>0.087876</td>\n",
              "      <td>0.484756</td>\n",
              "      <td>0.518084</td>\n",
              "      <td>0.479072</td>\n",
              "      <td>0.334271</td>\n",
              "    </tr>\n",
              "    <tr>\n",
              "      <th>25461</th>\n",
              "      <td>Never Coming Down</td>\n",
              "      <td>Evermotion</td>\n",
              "      <td>Guster</td>\n",
              "      <td>0.1720</td>\n",
              "      <td>0.770</td>\n",
              "      <td>0.737</td>\n",
              "      <td>0.000082</td>\n",
              "      <td>9.0</td>\n",
              "      <td>0.1010</td>\n",
              "      <td>-6.529</td>\n",
              "      <td>1.0</td>\n",
              "      <td>0.0289</td>\n",
              "      <td>110.408</td>\n",
              "      <td>4.0</td>\n",
              "      <td>0.924</td>\n",
              "      <td>2015-01-13</td>\n",
              "      <td>22</td>\n",
              "      <td>0</td>\n",
              "      <td>saddle up next to me \\n we can go kicking seas...</td>\n",
              "      <td>saddle up next to me we can go kicking seashel...</td>\n",
              "      <td>-1.0</td>\n",
              "      <td>0.5</td>\n",
              "      <td>0.798443</td>\n",
              "      <td>0.259770</td>\n",
              "      <td>0.705637</td>\n",
              "      <td>0.480167</td>\n",
              "      <td>0.941539</td>\n",
              "      <td>0.958724</td>\n",
              "      <td>0.987587</td>\n",
              "      <td>0.999271</td>\n",
              "      <td>0.367768</td>\n",
              "      <td>0.667883</td>\n",
              "      <td>0.630857</td>\n",
              "      <td>0.699494</td>\n",
              "      <td>0.006507</td>\n",
              "      <td>0.192311</td>\n",
              "      <td>0.574755</td>\n",
              "      <td>0.005545</td>\n",
              "      <td>0.004299</td>\n",
              "    </tr>\n",
              "  </tbody>\n",
              "</table>\n",
              "<p>25462 rows × 39 columns</p>\n",
              "</div>"
            ],
            "text/plain": [
              "                    song       album  ... self-conscious    stress\n",
              "0      Voices In My Head  Hoodie SZN  ...       0.719468  0.480640\n",
              "1                 Beasty  Hoodie SZN  ...       0.390560  0.443472\n",
              "2               I Did It  Hoodie SZN  ...       0.736179  0.669987\n",
              "3                Swervin  Hoodie SZN  ...       0.075188  0.109408\n",
              "4             Startender  Hoodie SZN  ...       0.098895  0.122751\n",
              "...                  ...         ...  ...            ...       ...\n",
              "25457     Simple Machine  Evermotion  ...       0.505668  0.712661\n",
              "25458        Expectation  Evermotion  ...       0.955391  0.976936\n",
              "25459            Gangway  Evermotion  ...       0.942651  0.640199\n",
              "25460         Kid Dreams  Evermotion  ...       0.479072  0.334271\n",
              "25461  Never Coming Down  Evermotion  ...       0.005545  0.004299\n",
              "\n",
              "[25462 rows x 39 columns]"
            ]
          },
          "metadata": {
            "tags": []
          },
          "execution_count": 3
        }
      ]
    },
    {
      "cell_type": "code",
      "metadata": {
        "id": "Zl1DHlb-qkpI",
        "colab_type": "code",
        "outputId": "e611615f-c209-40a2-ed00-c4f48a7373f0",
        "colab": {
          "base_uri": "https://localhost:8080/",
          "height": 70
        }
      },
      "source": [
        "import seaborn as sns\n",
        "import matplotlib.pyplot as plt"
      ],
      "execution_count": 0,
      "outputs": [
        {
          "output_type": "stream",
          "text": [
            "/usr/local/lib/python3.6/dist-packages/statsmodels/tools/_testing.py:19: FutureWarning: pandas.util.testing is deprecated. Use the functions in the public API at pandas.testing instead.\n",
            "  import pandas.util.testing as tm\n"
          ],
          "name": "stderr"
        }
      ]
    },
    {
      "cell_type": "code",
      "metadata": {
        "id": "FUxOjFKyrDP2",
        "colab_type": "code",
        "outputId": "188c2730-fd62-43d2-aac8-510c06346b37",
        "colab": {
          "base_uri": "https://localhost:8080/",
          "height": 296
        }
      },
      "source": [
        "sns.distplot(spotify_df.popularity)"
      ],
      "execution_count": 0,
      "outputs": [
        {
          "output_type": "execute_result",
          "data": {
            "text/plain": [
              "<matplotlib.axes._subplots.AxesSubplot at 0x7f1104375668>"
            ]
          },
          "metadata": {
            "tags": []
          },
          "execution_count": 16
        },
        {
          "output_type": "display_data",
          "data": {
            "image/png": "[encoded data removed]",
            "text/plain": [
              "<Figure size 432x288 with 1 Axes>"
            ]
          },
          "metadata": {
            "tags": [],
            "needs_background": "light"
          }
        }
      ]
    },
    {
      "cell_type": "markdown",
      "metadata": {
        "id": "-8PphQ2uvU53",
        "colab_type": "text"
      },
      "source": [
        "**The values of the target label popularity follow a normal-like distrubtion between 0 and 100. One discrepancy is that large amount of values with 0 popularity.**"
      ]
    },
    {
      "cell_type": "markdown",
      "metadata": {
        "id": "Wp9zNYMOpv8v",
        "colab_type": "text"
      },
      "source": [
        "# Base Model"
      ]
    },
    {
      "cell_type": "code",
      "metadata": {
        "id": "QmrfKwJOn85n",
        "colab_type": "code",
        "colab": {}
      },
      "source": [
        "pip install category_encoders"
      ],
      "execution_count": 0,
      "outputs": []
    },
    {
      "cell_type": "code",
      "metadata": {
        "id": "nMapxE2Mmw93",
        "colab_type": "code",
        "colab": {}
      },
      "source": [
        "from sklearn.preprocessing import StandardScaler, OneHotEncoder\n",
        "import category_encoders as ce\n",
        "from sklearn.pipeline import make_pipeline\n",
        "from sklearn.compose import make_column_transformer\n",
        "from sklearn.linear_model import LinearRegression, Ridge\n",
        "from sklearn.neighbors import KNeighborsRegressor\n",
        "from sklearn.ensemble import RandomForestRegressor\n",
        "from sklearn.model_selection import cross_val_score\n",
        "from sklearn.model_selection import GridSearchCV, RandomizedSearchCV"
      ],
      "execution_count": 0,
      "outputs": []
    },
    {
      "cell_type": "code",
      "metadata": {
        "id": "zFJajCcAnc91",
        "colab_type": "code",
        "colab": {}
      },
      "source": [
        "import lightgbm as lgb"
      ],
      "execution_count": 0,
      "outputs": []
    },
    {
      "cell_type": "markdown",
      "metadata": {
        "id": "yXJWNIUKp0Jd",
        "colab_type": "text"
      },
      "source": [
        "**My method will be trying different combinations of different categorical encoders and different models to see which will perform the best on the date and explicit features, which are neither audio features nor textual features. It is basically an exhaustive search, except I move on from combinations that didn't work well.**"
      ]
    },
    {
      "cell_type": "code",
      "metadata": {
        "id": "dHW5VzJxotez",
        "colab_type": "code",
        "outputId": "90046633-a5bd-4eb6-d552-32849c893175",
        "colab": {
          "base_uri": "https://localhost:8080/",
          "height": 34
        }
      },
      "source": [
        "X_train = spotify_df[[\"explicit\", \"date\"]]\n",
        "y_train = spotify_df[\"popularity\"]\n",
        "\n",
        "ct = make_column_transformer(\n",
        "    (ce.TargetEncoder(), [\"explicit\", \"date\"])\n",
        ")\n",
        "\n",
        "pipeline = make_pipeline(\n",
        "    ct,\n",
        "    StandardScaler(),\n",
        "    RandomForestRegressor(max_features = 'sqrt')\n",
        ")\n",
        "\n",
        "cv_errs = -cross_val_score(pipeline, X_train, y_train, \n",
        "                          scoring=\"neg_root_mean_squared_error\", cv=10)\n",
        "\n",
        "cv_errs.mean()"
      ],
      "execution_count": 0,
      "outputs": [
        {
          "output_type": "execute_result",
          "data": {
            "text/plain": [
              "20.41399591840684"
            ]
          },
          "metadata": {
            "tags": []
          },
          "execution_count": 8
        }
      ]
    },
    {
      "cell_type": "code",
      "metadata": {
        "id": "pTwpbOSbpWtE",
        "colab_type": "code",
        "outputId": "73c09dd7-9bfb-4004-9a1e-dbb88001fc91",
        "colab": {
          "base_uri": "https://localhost:8080/",
          "height": 34
        }
      },
      "source": [
        "ct = make_column_transformer(\n",
        "    (ce.TargetEncoder(), [\"explicit\"]),\n",
        "    (ce.CatBoostEncoder(), [\"date\"])\n",
        ")\n",
        "\n",
        "pipeline = make_pipeline(\n",
        "    ct,\n",
        "    StandardScaler(),\n",
        "    RandomForestRegressor(max_features = 'sqrt')\n",
        ")\n",
        "\n",
        "cv_errs = -cross_val_score(pipeline, X_train, y_train, \n",
        "                          scoring=\"neg_root_mean_squared_error\", cv=10)\n",
        "\n",
        "cv_errs.mean()"
      ],
      "execution_count": 0,
      "outputs": [
        {
          "output_type": "execute_result",
          "data": {
            "text/plain": [
              "20.479217534294413"
            ]
          },
          "metadata": {
            "tags": []
          },
          "execution_count": 16
        }
      ]
    },
    {
      "cell_type": "code",
      "metadata": {
        "id": "AlJYaey8p6-_",
        "colab_type": "code",
        "outputId": "cc69aeca-6d21-4c6a-a56f-534b5bdec008",
        "colab": {
          "base_uri": "https://localhost:8080/",
          "height": 34
        }
      },
      "source": [
        "ct = make_column_transformer(\n",
        "    (ce.OneHotEncoder(), [\"explicit\"]),\n",
        "    (ce.CatBoostEncoder(), [\"date\"])\n",
        ")\n",
        "\n",
        "pipeline = make_pipeline(\n",
        "    ct,\n",
        "    StandardScaler(),\n",
        "    RandomForestRegressor(max_features = 'sqrt')\n",
        ")\n",
        "\n",
        "cv_errs = -cross_val_score(pipeline, X_train, y_train, \n",
        "                          scoring=\"neg_root_mean_squared_error\", cv=10)\n",
        "\n",
        "cv_errs.mean()"
      ],
      "execution_count": 0,
      "outputs": [
        {
          "output_type": "execute_result",
          "data": {
            "text/plain": [
              "20.46674339413012"
            ]
          },
          "metadata": {
            "tags": []
          },
          "execution_count": 17
        }
      ]
    },
    {
      "cell_type": "code",
      "metadata": {
        "id": "OY7rppf6p_lh",
        "colab_type": "code",
        "outputId": "db4c760c-1935-416e-9c06-35538f825e63",
        "colab": {
          "base_uri": "https://localhost:8080/",
          "height": 34
        }
      },
      "source": [
        "ct = make_column_transformer(\n",
        "    (ce.OneHotEncoder(), [\"explicit\"]),\n",
        "    (ce.TargetEncoder(), [\"date\"])\n",
        ")\n",
        "\n",
        "pipeline = make_pipeline(\n",
        "    ct,\n",
        "    StandardScaler(),\n",
        "    RandomForestRegressor(max_features = 'sqrt')\n",
        ")\n",
        "\n",
        "cv_errs = -cross_val_score(pipeline, X_train, y_train, \n",
        "                          scoring=\"neg_root_mean_squared_error\", cv=10)\n",
        "\n",
        "cv_errs.mean()"
      ],
      "execution_count": 0,
      "outputs": [
        {
          "output_type": "execute_result",
          "data": {
            "text/plain": [
              "20.381712737361802"
            ]
          },
          "metadata": {
            "tags": []
          },
          "execution_count": 18
        }
      ]
    },
    {
      "cell_type": "code",
      "metadata": {
        "id": "ylEXEEAHqPAP",
        "colab_type": "code",
        "outputId": "0725fda3-d445-4873-89da-0831003d3755",
        "colab": {
          "base_uri": "https://localhost:8080/",
          "height": 34
        }
      },
      "source": [
        "ct = make_column_transformer(\n",
        "    (ce.OneHotEncoder(), [\"explicit\", \"date\"])\n",
        ")\n",
        "\n",
        "pipeline = make_pipeline(\n",
        "    ct,\n",
        "    StandardScaler(),\n",
        "    RandomForestRegressor(max_features = 'sqrt')\n",
        ")\n",
        "\n",
        "cv_errs = -cross_val_score(pipeline, X_train, y_train, \n",
        "                          scoring=\"neg_root_mean_squared_error\", cv=10)\n",
        "\n",
        "cv_errs.mean()"
      ],
      "execution_count": 0,
      "outputs": [
        {
          "output_type": "execute_result",
          "data": {
            "text/plain": [
              "19.896860616545624"
            ]
          },
          "metadata": {
            "tags": []
          },
          "execution_count": 19
        }
      ]
    },
    {
      "cell_type": "code",
      "metadata": {
        "id": "DKLmBz7m0Mlw",
        "colab_type": "code",
        "colab": {}
      },
      "source": [
        "ct = make_column_transformer(\n",
        "    (ce.OneHotEncoder(), [\"explicit\", \"date\"])\n",
        ")\n",
        "\n",
        "pipeline = make_pipeline(\n",
        "    ct,\n",
        "    StandardScaler(),\n",
        "    RandomForestRegressor(max_features = 'sqrt')\n",
        ")\n",
        "\n",
        "cv_errs = -cross_val_score(pipeline, X_train, y_train, \n",
        "                          scoring=\"neg_root_mean_squared_error\", cv=10)\n",
        "\n",
        "cv_errs.mean()"
      ],
      "execution_count": 0,
      "outputs": []
    },
    {
      "cell_type": "code",
      "metadata": {
        "id": "grhx7_gwqZkh",
        "colab_type": "code",
        "outputId": "71e4dfb3-97f9-4c6b-9b9f-9537d44db8f7",
        "colab": {
          "base_uri": "https://localhost:8080/",
          "height": 34
        }
      },
      "source": [
        "ct = make_column_transformer(\n",
        "    (ce.TargetEncoder(), [\"date\"])\n",
        ")\n",
        "\n",
        "pipeline = make_pipeline(\n",
        "    ct,\n",
        "    StandardScaler(),\n",
        "    RandomForestRegressor(max_features = 'sqrt')\n",
        ")\n",
        "\n",
        "cv_errs = -cross_val_score(pipeline, X_train, y_train, \n",
        "                          scoring=\"neg_root_mean_squared_error\", cv=10)\n",
        "\n",
        "cv_errs.mean()"
      ],
      "execution_count": 0,
      "outputs": [
        {
          "output_type": "execute_result",
          "data": {
            "text/plain": [
              "20.164546371268933"
            ]
          },
          "metadata": {
            "tags": []
          },
          "execution_count": 20
        }
      ]
    },
    {
      "cell_type": "code",
      "metadata": {
        "id": "EhXncPTbsITE",
        "colab_type": "code",
        "outputId": "2f3e96bd-c864-4f1a-d61b-f77f163c7691",
        "colab": {
          "base_uri": "https://localhost:8080/",
          "height": 34
        }
      },
      "source": [
        "ct = make_column_transformer(\n",
        "    (ce.OneHotEncoder(), [\"date\"])\n",
        ")\n",
        "\n",
        "pipeline = make_pipeline(\n",
        "    ct,\n",
        "    StandardScaler(),\n",
        "    lgb.LGBMRegressor()\n",
        ")\n",
        "\n",
        "cv_errs = -cross_val_score(pipeline, X_train, y_train, \n",
        "                          scoring=\"neg_root_mean_squared_error\", cv=10)\n",
        "\n",
        "cv_errs.mean()"
      ],
      "execution_count": 0,
      "outputs": [
        {
          "output_type": "execute_result",
          "data": {
            "text/plain": [
              "18.218347824184367"
            ]
          },
          "metadata": {
            "tags": []
          },
          "execution_count": 9
        }
      ]
    },
    {
      "cell_type": "code",
      "metadata": {
        "id": "JVuO16PZ0rhH",
        "colab_type": "code",
        "outputId": "9b129116-ac24-4c85-817e-3261609e039b",
        "colab": {
          "base_uri": "https://localhost:8080/",
          "height": 34
        }
      },
      "source": [
        "ct = make_column_transformer(\n",
        "    (ce.OrdinalEncoder(), [\"date\"]),\n",
        ")\n",
        "\n",
        "pipeline = make_pipeline(\n",
        "    ct,\n",
        "    StandardScaler(),\n",
        "    lgb.LGBMRegressor()\n",
        ")\n",
        "\n",
        "cv_errs = -cross_val_score(pipeline, X_train, y_train, \n",
        "                          scoring=\"neg_root_mean_squared_error\", cv=10)\n",
        "\n",
        "cv_errs.mean()"
      ],
      "execution_count": 0,
      "outputs": [
        {
          "output_type": "execute_result",
          "data": {
            "text/plain": [
              "20.69763822111574"
            ]
          },
          "metadata": {
            "tags": []
          },
          "execution_count": 10
        }
      ]
    },
    {
      "cell_type": "code",
      "metadata": {
        "id": "OL7YXQdO0xK-",
        "colab_type": "code",
        "outputId": "5aaace74-e250-4b1a-f517-6990d5c9356b",
        "colab": {
          "base_uri": "https://localhost:8080/",
          "height": 34
        }
      },
      "source": [
        "ct = make_column_transformer(\n",
        "    (ce.CatBoostEncoder(), [\"date\"])\n",
        ")\n",
        "\n",
        "pipeline = make_pipeline(\n",
        "    ct,\n",
        "    StandardScaler(),\n",
        "    lgb.LGBMRegressor()\n",
        ")\n",
        "\n",
        "cv_errs = -cross_val_score(pipeline, X_train, y_train, \n",
        "                          scoring=\"neg_root_mean_squared_error\", cv=10)\n",
        "\n",
        "cv_errs.mean()"
      ],
      "execution_count": 0,
      "outputs": [
        {
          "output_type": "execute_result",
          "data": {
            "text/plain": [
              "19.406038811398894"
            ]
          },
          "metadata": {
            "tags": []
          },
          "execution_count": 12
        }
      ]
    },
    {
      "cell_type": "code",
      "metadata": {
        "id": "XpmHo_46u1ci",
        "colab_type": "code",
        "outputId": "38d39e5e-5f9c-49e0-bf05-146250edbd72",
        "colab": {
          "base_uri": "https://localhost:8080/",
          "height": 34
        }
      },
      "source": [
        "ct = make_column_transformer(\n",
        "    (ce.OrdinalEncoder(), [\"date\"]),\n",
        ")\n",
        "\n",
        "pipeline = make_pipeline(\n",
        "    ct,\n",
        "    StandardScaler(),\n",
        "    RandomForestRegressor(max_features = 'sqrt')\n",
        ")\n",
        "\n",
        "cv_errs = -cross_val_score(pipeline, X_train, y_train, \n",
        "                          scoring=\"neg_root_mean_squared_error\", cv=10)\n",
        "\n",
        "cv_errs.mean()"
      ],
      "execution_count": 0,
      "outputs": [
        {
          "output_type": "execute_result",
          "data": {
            "text/plain": [
              "22.814165094539966"
            ]
          },
          "metadata": {
            "tags": []
          },
          "execution_count": 32
        }
      ]
    },
    {
      "cell_type": "code",
      "metadata": {
        "id": "dqlJ1hlupb99",
        "colab_type": "code",
        "outputId": "3e3df234-b40c-4c6a-bc9c-d78d18c814d7",
        "colab": {
          "base_uri": "https://localhost:8080/",
          "height": 34
        }
      },
      "source": [
        "X_train = spotify_df[[\"explicit\", \"date\"]]\n",
        "y_train = spotify_df[\"popularity\"]\n",
        "\n",
        "ct = make_column_transformer(\n",
        "    (ce.TargetEncoder(), [\"explicit\", \"date\"])\n",
        ")\n",
        "\n",
        "pipeline = make_pipeline(\n",
        "    ct,\n",
        "    StandardScaler(),\n",
        "    LinearRegression()\n",
        ")\n",
        "\n",
        "cv_errs = -cross_val_score(pipeline, X_train, y_train, \n",
        "                          scoring=\"neg_root_mean_squared_error\", cv=10)\n",
        "\n",
        "cv_errs.mean()"
      ],
      "execution_count": 0,
      "outputs": [
        {
          "output_type": "execute_result",
          "data": {
            "text/plain": [
              "19.763058616164358"
            ]
          },
          "metadata": {
            "tags": []
          },
          "execution_count": 14
        }
      ]
    },
    {
      "cell_type": "code",
      "metadata": {
        "id": "eti478ECtCNS",
        "colab_type": "code",
        "outputId": "0472b149-d23d-4f45-83e7-2804c25ac78b",
        "colab": {
          "base_uri": "https://localhost:8080/",
          "height": 34
        }
      },
      "source": [
        "X_train = spotify_df[[\"explicit\", \"date\"]]\n",
        "y_train = spotify_df[\"popularity\"]\n",
        "\n",
        "ct = make_column_transformer(\n",
        "    (ce.CatBoostEncoder(), [\"explicit\", \"date\"])\n",
        ")\n",
        "\n",
        "pipeline = make_pipeline(\n",
        "    ct,\n",
        "    StandardScaler(),\n",
        "    LinearRegression()\n",
        ")\n",
        "\n",
        "cv_errs = -cross_val_score(pipeline, X_train, y_train, \n",
        "                          scoring=\"neg_root_mean_squared_error\", cv=10)\n",
        "\n",
        "cv_errs.mean()"
      ],
      "execution_count": 0,
      "outputs": [
        {
          "output_type": "execute_result",
          "data": {
            "text/plain": [
              "18.690554773569204"
            ]
          },
          "metadata": {
            "tags": []
          },
          "execution_count": 18
        }
      ]
    },
    {
      "cell_type": "code",
      "metadata": {
        "id": "Dvruixovsy7j",
        "colab_type": "code",
        "outputId": "fd93df77-212c-48da-d0a1-3b89b26fe6b8",
        "colab": {
          "base_uri": "https://localhost:8080/",
          "height": 34
        }
      },
      "source": [
        "X_train = spotify_df[[\"explicit\", \"date\"]]\n",
        "y_train = spotify_df[\"popularity\"]\n",
        "\n",
        "ct = make_column_transformer(\n",
        "    (ce.TargetEncoder(), [\"explicit\", \"date\"])\n",
        ")\n",
        "\n",
        "pipeline = make_pipeline(\n",
        "    ct,\n",
        "    StandardScaler(),\n",
        "    Ridge()\n",
        ")\n",
        "\n",
        "cv_errs = -cross_val_score(pipeline, X_train, y_train, \n",
        "                          scoring=\"neg_root_mean_squared_error\", cv=10)\n",
        "\n",
        "cv_errs.mean()"
      ],
      "execution_count": 0,
      "outputs": [
        {
          "output_type": "execute_result",
          "data": {
            "text/plain": [
              "19.762820225711646"
            ]
          },
          "metadata": {
            "tags": []
          },
          "execution_count": 19
        }
      ]
    },
    {
      "cell_type": "code",
      "metadata": {
        "id": "GD9YGW_QoV3R",
        "colab_type": "code",
        "outputId": "59b0824e-94c1-4ca5-e343-84aff6345b8a",
        "colab": {
          "base_uri": "https://localhost:8080/",
          "height": 34
        }
      },
      "source": [
        "ct = make_column_transformer(\n",
        "    (ce.CatBoostEncoder(), [\"date\"])\n",
        ")\n",
        "\n",
        "pipeline = make_pipeline(\n",
        "    ct,\n",
        "    StandardScaler(),\n",
        "    Ridge()\n",
        ")\n",
        "\n",
        "cv_errs = -cross_val_score(pipeline, X_train, y_train, \n",
        "                          scoring=\"neg_root_mean_squared_error\", cv=10)\n",
        "\n",
        "cv_errs.mean()"
      ],
      "execution_count": 0,
      "outputs": [
        {
          "output_type": "execute_result",
          "data": {
            "text/plain": [
              "18.997309213076125"
            ]
          },
          "metadata": {
            "tags": []
          },
          "execution_count": 8
        }
      ]
    },
    {
      "cell_type": "code",
      "metadata": {
        "id": "zpkD311Ks34g",
        "colab_type": "code",
        "outputId": "2a8bc0d3-85ca-442a-e5a5-ef2db5c017c2",
        "colab": {
          "base_uri": "https://localhost:8080/",
          "height": 34
        }
      },
      "source": [
        "ct = make_column_transformer(\n",
        "    (ce.CatBoostEncoder(), [\"explicit\", \"date\"])\n",
        ")\n",
        "\n",
        "pipeline = make_pipeline(\n",
        "    ct,\n",
        "    StandardScaler(),\n",
        "    Ridge()\n",
        ")\n",
        "\n",
        "cv_errs = -cross_val_score(pipeline, X_train, y_train, \n",
        "                          scoring=\"neg_root_mean_squared_error\", cv=10)\n",
        "\n",
        "cv_errs.mean()"
      ],
      "execution_count": 0,
      "outputs": [
        {
          "output_type": "execute_result",
          "data": {
            "text/plain": [
              "18.6903899328446"
            ]
          },
          "metadata": {
            "tags": []
          },
          "execution_count": 7
        }
      ]
    },
    {
      "cell_type": "code",
      "metadata": {
        "id": "NNkd28H7oq8S",
        "colab_type": "code",
        "outputId": "b04604f9-9ed1-4279-aa2f-f24041587950",
        "colab": {
          "base_uri": "https://localhost:8080/",
          "height": 34
        }
      },
      "source": [
        "ct = make_column_transformer(\n",
        "    (ce.CatBoostEncoder(), [\"date\"]),\n",
        "    (ce.TargetEncoder(), [\"explicit\"])\n",
        ")\n",
        "\n",
        "pipeline = make_pipeline(\n",
        "    ct,\n",
        "    StandardScaler(),\n",
        "    Ridge()\n",
        ")\n",
        "\n",
        "cv_errs = -cross_val_score(pipeline, X_train, y_train, \n",
        "                          scoring=\"neg_root_mean_squared_error\", cv=10)\n",
        "\n",
        "cv_errs.mean()"
      ],
      "execution_count": 0,
      "outputs": [
        {
          "output_type": "execute_result",
          "data": {
            "text/plain": [
              "18.690389932844592"
            ]
          },
          "metadata": {
            "tags": []
          },
          "execution_count": 9
        }
      ]
    },
    {
      "cell_type": "code",
      "metadata": {
        "id": "TRfDB8owpyQL",
        "colab_type": "code",
        "outputId": "f369f380-6c4f-4bb0-ca32-dda2ae80b78e",
        "colab": {
          "base_uri": "https://localhost:8080/",
          "height": 34
        }
      },
      "source": [
        "ct = make_column_transformer(\n",
        "    (ce.CatBoostEncoder(), [\"date\"]),\n",
        "    (ce.OneHotEncoder(), [\"explicit\"])\n",
        ")\n",
        "\n",
        "pipeline = make_pipeline(\n",
        "    ct,\n",
        "    StandardScaler(),\n",
        "    Ridge()\n",
        ")\n",
        "\n",
        "cv_errs = -cross_val_score(pipeline, X_train, y_train, \n",
        "                          scoring=\"neg_root_mean_squared_error\", cv=10)\n",
        "\n",
        "cv_errs.mean()"
      ],
      "execution_count": 0,
      "outputs": [
        {
          "output_type": "execute_result",
          "data": {
            "text/plain": [
              "18.690389932844592"
            ]
          },
          "metadata": {
            "tags": []
          },
          "execution_count": 13
        }
      ]
    },
    {
      "cell_type": "code",
      "metadata": {
        "id": "q2-sYNtGsddh",
        "colab_type": "code",
        "outputId": "573f077e-61dd-4029-8cf5-2b07d1fbcacf",
        "colab": {
          "base_uri": "https://localhost:8080/",
          "height": 34
        }
      },
      "source": [
        "ct = make_column_transformer(\n",
        "    (ce.CatBoostEncoder(), [\"date\"]),\n",
        "    (ce.JamesSteinEncoder(), [\"explicit\"])\n",
        ")\n",
        "\n",
        "pipeline = make_pipeline(\n",
        "    ct,\n",
        "    StandardScaler(),\n",
        "    Ridge()\n",
        ")\n",
        "\n",
        "cv_errs = -cross_val_score(pipeline, X_train, y_train, \n",
        "                          scoring=\"neg_root_mean_squared_error\", cv=10)\n",
        "\n",
        "cv_errs.mean()"
      ],
      "execution_count": 0,
      "outputs": [
        {
          "output_type": "execute_result",
          "data": {
            "text/plain": [
              "18.690389932844592"
            ]
          },
          "metadata": {
            "tags": []
          },
          "execution_count": 22
        }
      ]
    },
    {
      "cell_type": "code",
      "metadata": {
        "id": "t-nkI_0ttsNL",
        "colab_type": "code",
        "outputId": "8d07c138-6908-4195-d328-05ffc8c32654",
        "colab": {
          "base_uri": "https://localhost:8080/",
          "height": 34
        }
      },
      "source": [
        "ct = make_column_transformer(\n",
        "    (ce.JamesSteinEncoder(), [\"explicit\", \"date\"])\n",
        ")\n",
        "\n",
        "pipeline = make_pipeline(\n",
        "    ct,\n",
        "    StandardScaler(),\n",
        "    Ridge()\n",
        ")\n",
        "\n",
        "cv_errs = -cross_val_score(pipeline, X_train, y_train, \n",
        "                          scoring=\"neg_root_mean_squared_error\", cv=10)\n",
        "\n",
        "cv_errs.mean()"
      ],
      "execution_count": 0,
      "outputs": [
        {
          "output_type": "execute_result",
          "data": {
            "text/plain": [
              "19.623352650746526"
            ]
          },
          "metadata": {
            "tags": []
          },
          "execution_count": 24
        }
      ]
    },
    {
      "cell_type": "code",
      "metadata": {
        "id": "LAMvHStRt2OX",
        "colab_type": "code",
        "outputId": "43294029-908b-4322-e8d9-77b7a0e12ae5",
        "colab": {
          "base_uri": "https://localhost:8080/",
          "height": 34
        }
      },
      "source": [
        "ct = make_column_transformer(\n",
        "    (ce.OrdinalEncoder(), [\"explicit\", \"date\"])\n",
        ")\n",
        "\n",
        "pipeline = make_pipeline(\n",
        "    ct,\n",
        "    StandardScaler(),\n",
        "    Ridge()\n",
        ")\n",
        "\n",
        "cv_errs = -cross_val_score(pipeline, X_train, y_train, \n",
        "                          scoring=\"neg_root_mean_squared_error\", cv=10)\n",
        "\n",
        "cv_errs.mean()"
      ],
      "execution_count": 0,
      "outputs": [
        {
          "output_type": "execute_result",
          "data": {
            "text/plain": [
              "16.56709282631304"
            ]
          },
          "metadata": {
            "tags": []
          },
          "execution_count": 25
        }
      ]
    },
    {
      "cell_type": "code",
      "metadata": {
        "id": "pxO_DqMrt7_n",
        "colab_type": "code",
        "outputId": "ac13d808-2fde-4903-8621-4e34764f2489",
        "colab": {
          "base_uri": "https://localhost:8080/",
          "height": 34
        }
      },
      "source": [
        "ct = make_column_transformer(\n",
        "    (ce.OrdinalEncoder(), [\"explicit\", \"date\"]),\n",
        "    (ce.CatBoostEncoder(), [\"explicit\"])\n",
        ")\n",
        "\n",
        "pipeline = make_pipeline(\n",
        "    ct,\n",
        "    StandardScaler(),\n",
        "    Ridge()\n",
        ")\n",
        "\n",
        "cv_errs = -cross_val_score(pipeline, X_train, y_train, \n",
        "                          scoring=\"neg_root_mean_squared_error\", cv=10)\n",
        "\n",
        "cv_errs.mean()"
      ],
      "execution_count": 0,
      "outputs": [
        {
          "output_type": "execute_result",
          "data": {
            "text/plain": [
              "16.567091010729374"
            ]
          },
          "metadata": {
            "tags": []
          },
          "execution_count": 26
        }
      ]
    },
    {
      "cell_type": "code",
      "metadata": {
        "id": "ZSugV-PpuYH3",
        "colab_type": "code",
        "outputId": "07ae5001-e27f-494c-b398-cc64e2ab7533",
        "colab": {
          "base_uri": "https://localhost:8080/",
          "height": 34
        }
      },
      "source": [
        "ct = make_column_transformer(\n",
        "    (ce.OrdinalEncoder(), [\"date\"]),\n",
        "    (ce.OneHotEncoder(), [\"explicit\"])\n",
        ")\n",
        "\n",
        "pipeline = make_pipeline(\n",
        "    ct,\n",
        "    StandardScaler(),\n",
        "    Ridge()\n",
        ")\n",
        "\n",
        "cv_errs = -cross_val_score(pipeline, X_train, y_train, \n",
        "                          scoring=\"neg_root_mean_squared_error\", cv=10)\n",
        "\n",
        "cv_errs.mean()"
      ],
      "execution_count": 0,
      "outputs": [
        {
          "output_type": "execute_result",
          "data": {
            "text/plain": [
              "16.567092826313036"
            ]
          },
          "metadata": {
            "tags": []
          },
          "execution_count": 29
        }
      ]
    },
    {
      "cell_type": "code",
      "metadata": {
        "id": "zmTutkeuuOaH",
        "colab_type": "code",
        "outputId": "ac6eac77-bbdd-4d91-8907-cd39ace9abad",
        "colab": {
          "base_uri": "https://localhost:8080/",
          "height": 34
        }
      },
      "source": [
        "ct = make_column_transformer(\n",
        "    (ce.OrdinalEncoder(), [\"date\"]),\n",
        "    remainder=\"passthrough\"\n",
        ")\n",
        "\n",
        "pipeline = make_pipeline(\n",
        "    ct,\n",
        "    StandardScaler(),\n",
        "    Ridge()\n",
        ")\n",
        "\n",
        "cv_errs = -cross_val_score(pipeline, X_train, y_train, \n",
        "                          scoring=\"neg_root_mean_squared_error\", cv=10)\n",
        "\n",
        "cv_errs.mean()"
      ],
      "execution_count": 0,
      "outputs": [
        {
          "output_type": "execute_result",
          "data": {
            "text/plain": [
              "16.88687392056172"
            ]
          },
          "metadata": {
            "tags": []
          },
          "execution_count": 43
        }
      ]
    },
    {
      "cell_type": "code",
      "metadata": {
        "id": "O5Y_K6bzqPYE",
        "colab_type": "code",
        "outputId": "d27f2a22-c0fe-480b-9931-e75a60f722c9",
        "colab": {
          "base_uri": "https://localhost:8080/",
          "height": 34
        }
      },
      "source": [
        "X_train = spotify_df[[\"date\"]]\n",
        "y_train = spotify_df[\"popularity\"]\n",
        "\n",
        "ct = make_column_transformer(\n",
        "    (ce.CatBoostEncoder(), [\"date\"]),\n",
        "    remainder=\"passthrough\"\n",
        ")\n",
        "\n",
        "pipeline = make_pipeline(\n",
        "    ct,\n",
        "    StandardScaler(),\n",
        "    Ridge()\n",
        ")\n",
        "\n",
        "cv_errs = -cross_val_score(pipeline, X_train, y_train, \n",
        "                          scoring=\"neg_root_mean_squared_error\", cv=10)\n",
        "\n",
        "cv_errs.mean()"
      ],
      "execution_count": 0,
      "outputs": [
        {
          "output_type": "execute_result",
          "data": {
            "text/plain": [
              "18.997309213076125"
            ]
          },
          "metadata": {
            "tags": []
          },
          "execution_count": 42
        }
      ]
    },
    {
      "cell_type": "code",
      "metadata": {
        "id": "VA5blyuapEOo",
        "colab_type": "code",
        "outputId": "b23824fa-7f49-4c90-e6fb-d7fb0c1c58a1",
        "colab": {
          "base_uri": "https://localhost:8080/",
          "height": 34
        }
      },
      "source": [
        "ct = make_column_transformer(\n",
        "    (ce.CatBoostEncoder(), [\"date\"]),\n",
        "    (ce.TargetEncoder(), [\"explicit\"])\n",
        ")\n",
        "\n",
        "pipeline = make_pipeline(\n",
        "    ct,\n",
        "    StandardScaler(),\n",
        "    KNeighborsRegressor()\n",
        ")\n",
        "\n",
        "cv_errs = -cross_val_score(pipeline, X_train, y_train, \n",
        "                          scoring=\"neg_root_mean_squared_error\", cv=10)\n",
        "\n",
        "cv_errs.mean()"
      ],
      "execution_count": 0,
      "outputs": [
        {
          "output_type": "execute_result",
          "data": {
            "text/plain": [
              "19.762481383197247"
            ]
          },
          "metadata": {
            "tags": []
          },
          "execution_count": 11
        }
      ]
    },
    {
      "cell_type": "code",
      "metadata": {
        "id": "Kw1bQvxrpLox",
        "colab_type": "code",
        "outputId": "0b5669ca-99d8-431c-94d9-3384da6351a6",
        "colab": {
          "base_uri": "https://localhost:8080/",
          "height": 34
        }
      },
      "source": [
        "ct = make_column_transformer(\n",
        "    (ce.CatBoostEncoder(), [\"explicit\", \"date\"])\n",
        ")\n",
        "\n",
        "pipeline = make_pipeline(\n",
        "    ct,\n",
        "    StandardScaler(),\n",
        "    KNeighborsRegressor()\n",
        ")\n",
        "\n",
        "cv_errs = -cross_val_score(pipeline, X_train, y_train, \n",
        "                          scoring=\"neg_root_mean_squared_error\", cv=10)\n",
        "\n",
        "cv_errs.mean()"
      ],
      "execution_count": 0,
      "outputs": [
        {
          "output_type": "execute_result",
          "data": {
            "text/plain": [
              "19.761985888907127"
            ]
          },
          "metadata": {
            "tags": []
          },
          "execution_count": 12
        }
      ]
    },
    {
      "cell_type": "markdown",
      "metadata": {
        "id": "VgyuxAphvQ1f",
        "colab_type": "text"
      },
      "source": [
        "**So the best combination ends up being a Ridge model using OrdinalEncoder on date and OneHotEncoder on explicit. This is the model I will attempt to improve upon using textual or audio features.**"
      ]
    },
    {
      "cell_type": "code",
      "metadata": {
        "id": "tSy3wMJJvRSd",
        "colab_type": "code",
        "outputId": "5255933c-d5db-4fcf-9e9b-92f48f48a5f3",
        "colab": {
          "base_uri": "https://localhost:8080/",
          "height": 34
        }
      },
      "source": [
        "# My best model with just explicit and date\n",
        "ct = make_column_transformer(\n",
        "    (ce.OrdinalEncoder(), [\"explicit\", \"date\"]),\n",
        "    (ce.CatBoostEncoder(), [\"explicit\"])\n",
        ")\n",
        "\n",
        "pipeline = make_pipeline(\n",
        "    ct,\n",
        "    StandardScaler(),\n",
        "    Ridge()\n",
        ")\n",
        "\n",
        "cv_errs = -cross_val_score(pipeline, X_train, y_train, \n",
        "                          scoring=\"neg_root_mean_squared_error\", cv=10)\n",
        "\n",
        "cv_errs.mean()"
      ],
      "execution_count": 0,
      "outputs": [
        {
          "output_type": "execute_result",
          "data": {
            "text/plain": [
              "16.567091010729374"
            ]
          },
          "metadata": {
            "tags": []
          },
          "execution_count": 33
        }
      ]
    },
    {
      "cell_type": "markdown",
      "metadata": {
        "id": "-LLLocosqrjR",
        "colab_type": "text"
      },
      "source": [
        "# Audio Features"
      ]
    },
    {
      "cell_type": "code",
      "metadata": {
        "id": "rtQDXOEnws-R",
        "colab_type": "code",
        "outputId": "bd4d1e45-d87a-45c2-c85d-15f60fe9b706",
        "colab": {
          "base_uri": "https://localhost:8080/",
          "height": 218
        }
      },
      "source": [
        "list(spotify_df.columns.values)[3:15]"
      ],
      "execution_count": 0,
      "outputs": [
        {
          "output_type": "execute_result",
          "data": {
            "text/plain": [
              "['acousticness',\n",
              " 'danceability',\n",
              " 'energy',\n",
              " 'instrumentalness',\n",
              " 'key',\n",
              " 'liveness',\n",
              " 'loudness',\n",
              " 'mode',\n",
              " 'speechiness',\n",
              " 'tempo',\n",
              " 'time_signature',\n",
              " 'valence']"
            ]
          },
          "metadata": {
            "tags": []
          },
          "execution_count": 35
        }
      ]
    },
    {
      "cell_type": "markdown",
      "metadata": {
        "id": "AK2ese0gqvVv",
        "colab_type": "text"
      },
      "source": [
        "**I will try adding each individual audio feature to the base model by itself to see the scores. Then I will iteratively add the features with the best scores to an overall model until the overall score stops improving**"
      ]
    },
    {
      "cell_type": "code",
      "metadata": {
        "id": "ktKe4DIZwSzT",
        "colab_type": "code",
        "outputId": "20782cc0-e5f9-45e1-952f-f7763aba6ba1",
        "colab": {
          "base_uri": "https://localhost:8080/",
          "height": 402
        }
      },
      "source": [
        "scores = {}\n",
        "scores[\"feature\"] = []\n",
        "scores[\"score\"] = []\n",
        "\n",
        "for feature in list(spotify_df.columns.values)[3:15]:\n",
        "  X_train = spotify_df[[\"date\", \"explicit\"] + [feature]]\n",
        "  y_train = spotify_df[\"popularity\"]\n",
        "\n",
        "  ct = make_column_transformer(\n",
        "      (ce.OrdinalEncoder(), [\"explicit\", \"date\"]),\n",
        "      (ce.CatBoostEncoder(), [\"explicit\"]),\n",
        "      remainder=\"passthrough\"\n",
        "  )\n",
        "\n",
        "  pipeline = make_pipeline(\n",
        "      ct,\n",
        "      StandardScaler(),\n",
        "      Ridge()\n",
        "  )\n",
        "\n",
        "  cv_errs = -cross_val_score(pipeline, X_train, y_train, \n",
        "                            scoring=\"neg_root_mean_squared_error\", cv=10)\n",
        "\n",
        "  scores[\"feature\"].append(feature)\n",
        "  scores[\"score\"].append(cv_errs.mean())\n",
        "\n",
        "pd.DataFrame(scores)"
      ],
      "execution_count": 0,
      "outputs": [
        {
          "output_type": "execute_result",
          "data": {
            "text/html": [
              "<div>\n",
              "<style scoped>\n",
              "    .dataframe tbody tr th:only-of-type {\n",
              "        vertical-align: middle;\n",
              "    }\n",
              "\n",
              "    .dataframe tbody tr th {\n",
              "        vertical-align: top;\n",
              "    }\n",
              "\n",
              "    .dataframe thead th {\n",
              "        text-align: right;\n",
              "    }\n",
              "</style>\n",
              "<table border=\"1\" class=\"dataframe\">\n",
              "  <thead>\n",
              "    <tr style=\"text-align: right;\">\n",
              "      <th></th>\n",
              "      <th>feature</th>\n",
              "      <th>score</th>\n",
              "    </tr>\n",
              "  </thead>\n",
              "  <tbody>\n",
              "    <tr>\n",
              "      <th>0</th>\n",
              "      <td>acousticness</td>\n",
              "      <td>16.564299</td>\n",
              "    </tr>\n",
              "    <tr>\n",
              "      <th>1</th>\n",
              "      <td>danceability</td>\n",
              "      <td>16.383309</td>\n",
              "    </tr>\n",
              "    <tr>\n",
              "      <th>2</th>\n",
              "      <td>energy</td>\n",
              "      <td>16.572595</td>\n",
              "    </tr>\n",
              "    <tr>\n",
              "      <th>3</th>\n",
              "      <td>instrumentalness</td>\n",
              "      <td>16.473265</td>\n",
              "    </tr>\n",
              "    <tr>\n",
              "      <th>4</th>\n",
              "      <td>key</td>\n",
              "      <td>16.568124</td>\n",
              "    </tr>\n",
              "    <tr>\n",
              "      <th>5</th>\n",
              "      <td>liveness</td>\n",
              "      <td>16.506514</td>\n",
              "    </tr>\n",
              "    <tr>\n",
              "      <th>6</th>\n",
              "      <td>loudness</td>\n",
              "      <td>16.506282</td>\n",
              "    </tr>\n",
              "    <tr>\n",
              "      <th>7</th>\n",
              "      <td>mode</td>\n",
              "      <td>16.557202</td>\n",
              "    </tr>\n",
              "    <tr>\n",
              "      <th>8</th>\n",
              "      <td>speechiness</td>\n",
              "      <td>16.557361</td>\n",
              "    </tr>\n",
              "    <tr>\n",
              "      <th>9</th>\n",
              "      <td>tempo</td>\n",
              "      <td>16.567661</td>\n",
              "    </tr>\n",
              "    <tr>\n",
              "      <th>10</th>\n",
              "      <td>time_signature</td>\n",
              "      <td>16.548574</td>\n",
              "    </tr>\n",
              "    <tr>\n",
              "      <th>11</th>\n",
              "      <td>valence</td>\n",
              "      <td>16.571325</td>\n",
              "    </tr>\n",
              "  </tbody>\n",
              "</table>\n",
              "</div>"
            ],
            "text/plain": [
              "             feature      score\n",
              "0       acousticness  16.564299\n",
              "1       danceability  16.383309\n",
              "2             energy  16.572595\n",
              "3   instrumentalness  16.473265\n",
              "4                key  16.568124\n",
              "5           liveness  16.506514\n",
              "6           loudness  16.506282\n",
              "7               mode  16.557202\n",
              "8        speechiness  16.557361\n",
              "9              tempo  16.567661\n",
              "10    time_signature  16.548574\n",
              "11           valence  16.571325"
            ]
          },
          "metadata": {
            "tags": []
          },
          "execution_count": 44
        }
      ]
    },
    {
      "cell_type": "code",
      "metadata": {
        "id": "1MC420TWzpyv",
        "colab_type": "code",
        "outputId": "38f03ff3-2617-4ccb-bc2b-8295c7db7d34",
        "colab": {
          "base_uri": "https://localhost:8080/",
          "height": 343
        }
      },
      "source": [
        "scores = {}\n",
        "scores[\"feature\"] = []\n",
        "scores[\"score\"] = []\n",
        "\n",
        "# Iteratively adding the next best feature to the overall model\n",
        "for features in [[\"danceability\"],\n",
        "                [\"danceability\", \"instrumentalness\"],\n",
        "                [\"danceability\", \"instrumentalness\", \"loudness\"],\n",
        "                [\"danceability\", \"instrumentalness\", \"liveness\", \"loudness\"],\n",
        "                [\"danceability\", \"instrumentalness\", \"liveness\", \"loudness\",\n",
        "                 \"time_signature\"],\n",
        "                [\"danceability\", \"instrumentalness\", \"liveness\", \"loudness\",\n",
        "                 \"time_signature\", \"mode\"],\n",
        "                [\"danceability\", \"instrumentalness\", \"liveness\", \"loudness\",\n",
        "                 \"time_signature\", \"mode\", \"speechiness\"],\n",
        "                [\"danceability\", \"instrumentalness\", \"liveness\", \"loudness\",\n",
        "                 \"time_signature\", \"mode\", \"speechiness\", \"acousticness\"],\n",
        "                [\"danceability\", \"instrumentalness\", \"liveness\", \"loudness\",\n",
        "                 \"time_signature\", \"mode\", \"speechiness\", \"acousticness\",\n",
        "                 \"tempo\"],\n",
        "                [\"danceability\", \"instrumentalness\", \"liveness\", \"loudness\",\n",
        "                 \"time_signature\", \"mode\", \"speechiness\", \"acousticness\",\n",
        "                 \"tempo\", \"key\"]]:\n",
        "\n",
        "  X_train = spotify_df[[\"date\", \"explicit\"] + features]\n",
        "  y_train = spotify_df[\"popularity\"]\n",
        "\n",
        "  ct = make_column_transformer(\n",
        "      (ce.OrdinalEncoder(), [\"explicit\", \"date\"]),\n",
        "      (ce.CatBoostEncoder(), [\"explicit\"]),\n",
        "      remainder=\"passthrough\"\n",
        "  )\n",
        "\n",
        "  pipeline = make_pipeline(\n",
        "      ct,\n",
        "      StandardScaler(),\n",
        "      Ridge()\n",
        "  )\n",
        "\n",
        "  cv_errs = -cross_val_score(pipeline, X_train, y_train, \n",
        "                            scoring=\"neg_root_mean_squared_error\", cv=10)\n",
        "\n",
        "  scores[\"feature\"].append(features)\n",
        "  scores[\"score\"].append(cv_errs.mean())\n",
        "\n",
        "pd.DataFrame(scores)"
      ],
      "execution_count": 0,
      "outputs": [
        {
          "output_type": "execute_result",
          "data": {
            "text/html": [
              "<div>\n",
              "<style scoped>\n",
              "    .dataframe tbody tr th:only-of-type {\n",
              "        vertical-align: middle;\n",
              "    }\n",
              "\n",
              "    .dataframe tbody tr th {\n",
              "        vertical-align: top;\n",
              "    }\n",
              "\n",
              "    .dataframe thead th {\n",
              "        text-align: right;\n",
              "    }\n",
              "</style>\n",
              "<table border=\"1\" class=\"dataframe\">\n",
              "  <thead>\n",
              "    <tr style=\"text-align: right;\">\n",
              "      <th></th>\n",
              "      <th>feature</th>\n",
              "      <th>score</th>\n",
              "    </tr>\n",
              "  </thead>\n",
              "  <tbody>\n",
              "    <tr>\n",
              "      <th>0</th>\n",
              "      <td>[danceability]</td>\n",
              "      <td>16.383309</td>\n",
              "    </tr>\n",
              "    <tr>\n",
              "      <th>1</th>\n",
              "      <td>[danceability, instrumentalness]</td>\n",
              "      <td>16.323769</td>\n",
              "    </tr>\n",
              "    <tr>\n",
              "      <th>2</th>\n",
              "      <td>[danceability, instrumentalness, loudness]</td>\n",
              "      <td>16.272790</td>\n",
              "    </tr>\n",
              "    <tr>\n",
              "      <th>3</th>\n",
              "      <td>[danceability, instrumentalness, liveness, lou...</td>\n",
              "      <td>16.226031</td>\n",
              "    </tr>\n",
              "    <tr>\n",
              "      <th>4</th>\n",
              "      <td>[danceability, instrumentalness, liveness, lou...</td>\n",
              "      <td>16.223574</td>\n",
              "    </tr>\n",
              "    <tr>\n",
              "      <th>5</th>\n",
              "      <td>[danceability, instrumentalness, liveness, lou...</td>\n",
              "      <td>16.216583</td>\n",
              "    </tr>\n",
              "    <tr>\n",
              "      <th>6</th>\n",
              "      <td>[danceability, instrumentalness, liveness, lou...</td>\n",
              "      <td>16.206891</td>\n",
              "    </tr>\n",
              "    <tr>\n",
              "      <th>7</th>\n",
              "      <td>[danceability, instrumentalness, liveness, lou...</td>\n",
              "      <td>16.210522</td>\n",
              "    </tr>\n",
              "    <tr>\n",
              "      <th>8</th>\n",
              "      <td>[danceability, instrumentalness, liveness, lou...</td>\n",
              "      <td>16.207925</td>\n",
              "    </tr>\n",
              "    <tr>\n",
              "      <th>9</th>\n",
              "      <td>[danceability, instrumentalness, liveness, lou...</td>\n",
              "      <td>16.208353</td>\n",
              "    </tr>\n",
              "  </tbody>\n",
              "</table>\n",
              "</div>"
            ],
            "text/plain": [
              "                                             feature      score\n",
              "0                                     [danceability]  16.383309\n",
              "1                   [danceability, instrumentalness]  16.323769\n",
              "2         [danceability, instrumentalness, loudness]  16.272790\n",
              "3  [danceability, instrumentalness, liveness, lou...  16.226031\n",
              "4  [danceability, instrumentalness, liveness, lou...  16.223574\n",
              "5  [danceability, instrumentalness, liveness, lou...  16.216583\n",
              "6  [danceability, instrumentalness, liveness, lou...  16.206891\n",
              "7  [danceability, instrumentalness, liveness, lou...  16.210522\n",
              "8  [danceability, instrumentalness, liveness, lou...  16.207925\n",
              "9  [danceability, instrumentalness, liveness, lou...  16.208353"
            ]
          },
          "metadata": {
            "tags": []
          },
          "execution_count": 48
        }
      ]
    },
    {
      "cell_type": "markdown",
      "metadata": {
        "id": "LpKgPJ2h1wVj",
        "colab_type": "text"
      },
      "source": [
        "**I see that the minimum is at row 6, but that the score decreased twice. It went back up when I added acousticness, so let's retry the best rows without acousticness.**"
      ]
    },
    {
      "cell_type": "code",
      "metadata": {
        "id": "CW5ePDlR0_kx",
        "colab_type": "code",
        "outputId": "a54148ef-2cd7-4cf8-d64a-0c135f458227",
        "colab": {
          "base_uri": "https://localhost:8080/",
          "height": 134
        }
      },
      "source": [
        "pd.DataFrame(scores).iloc[6,0]"
      ],
      "execution_count": 0,
      "outputs": [
        {
          "output_type": "execute_result",
          "data": {
            "text/plain": [
              "['danceability',\n",
              " 'instrumentalness',\n",
              " 'liveness',\n",
              " 'loudness',\n",
              " 'time_signature',\n",
              " 'mode',\n",
              " 'speechiness']"
            ]
          },
          "metadata": {
            "tags": []
          },
          "execution_count": 50
        }
      ]
    },
    {
      "cell_type": "code",
      "metadata": {
        "id": "cTOItjHk1TTz",
        "colab_type": "code",
        "outputId": "6367959b-5a22-43fd-cb60-f97186eec06c",
        "colab": {
          "base_uri": "https://localhost:8080/",
          "height": 168
        }
      },
      "source": [
        "pd.DataFrame(scores).iloc[8,0]"
      ],
      "execution_count": 0,
      "outputs": [
        {
          "output_type": "execute_result",
          "data": {
            "text/plain": [
              "['danceability',\n",
              " 'instrumentalness',\n",
              " 'liveness',\n",
              " 'loudness',\n",
              " 'time_signature',\n",
              " 'mode',\n",
              " 'speechiness',\n",
              " 'acousticness',\n",
              " 'tempo']"
            ]
          },
          "metadata": {
            "tags": []
          },
          "execution_count": 51
        }
      ]
    },
    {
      "cell_type": "code",
      "metadata": {
        "id": "4o6E4Ueg1XL5",
        "colab_type": "code",
        "outputId": "3bc90683-a5b0-4cea-b5d1-8237da0a6861",
        "colab": {
          "base_uri": "https://localhost:8080/",
          "height": 225
        }
      },
      "source": [
        "scores = {}\n",
        "scores[\"feature\"] = []\n",
        "scores[\"score\"] = []\n",
        "\n",
        "for features in [[\"danceability\", \"instrumentalness\", \"liveness\", \"loudness\",\n",
        "                 \"time_signature\", \"mode\", \"speechiness\"],\n",
        "                [\"danceability\", \"instrumentalness\", \"liveness\", \"loudness\",\n",
        "                 \"time_signature\", \"mode\", \"speechiness\", \"acousticness\"],\n",
        "                [\"danceability\", \"instrumentalness\", \"liveness\", \"loudness\",\n",
        "                 \"time_signature\", \"mode\", \"speechiness\", \"acousticness\",\n",
        "                 \"tempo\"],\n",
        "                [\"danceability\", \"instrumentalness\", \"liveness\", \"loudness\",\n",
        "                 \"time_signature\", \"mode\", \"speechiness\", \"acousticness\",\n",
        "                 \"tempo\", \"key\"],\n",
        "                [\"danceability\", \"instrumentalness\", \"liveness\", \"loudness\",\n",
        "                 \"time_signature\", \"mode\", \"speechiness\", \"tempo\"],\n",
        "                [\"danceability\", \"instrumentalness\", \"liveness\", \"loudness\",\n",
        "                 \"time_signature\", \"mode\", \"speechiness\", \"tempo\", \"key\"]]:\n",
        "\n",
        "  X_train = spotify_df[[\"date\", \"explicit\"] + features]\n",
        "  y_train = spotify_df[\"popularity\"]\n",
        "\n",
        "  ct = make_column_transformer(\n",
        "      (ce.OrdinalEncoder(), [\"explicit\", \"date\"]),\n",
        "      (ce.CatBoostEncoder(), [\"explicit\"]),\n",
        "      remainder=\"passthrough\"\n",
        "  )\n",
        "\n",
        "  pipeline = make_pipeline(\n",
        "      ct,\n",
        "      StandardScaler(),\n",
        "      Ridge()\n",
        "  )\n",
        "\n",
        "  cv_errs = -cross_val_score(pipeline, X_train, y_train, \n",
        "                            scoring=\"neg_root_mean_squared_error\", cv=10)\n",
        "\n",
        "  scores[\"feature\"].append(features)\n",
        "  scores[\"score\"].append(cv_errs.mean())\n",
        "\n",
        "pd.DataFrame(scores)"
      ],
      "execution_count": 0,
      "outputs": [
        {
          "output_type": "execute_result",
          "data": {
            "text/html": [
              "<div>\n",
              "<style scoped>\n",
              "    .dataframe tbody tr th:only-of-type {\n",
              "        vertical-align: middle;\n",
              "    }\n",
              "\n",
              "    .dataframe tbody tr th {\n",
              "        vertical-align: top;\n",
              "    }\n",
              "\n",
              "    .dataframe thead th {\n",
              "        text-align: right;\n",
              "    }\n",
              "</style>\n",
              "<table border=\"1\" class=\"dataframe\">\n",
              "  <thead>\n",
              "    <tr style=\"text-align: right;\">\n",
              "      <th></th>\n",
              "      <th>feature</th>\n",
              "      <th>score</th>\n",
              "    </tr>\n",
              "  </thead>\n",
              "  <tbody>\n",
              "    <tr>\n",
              "      <th>0</th>\n",
              "      <td>[danceability, instrumentalness, liveness, lou...</td>\n",
              "      <td>16.206891</td>\n",
              "    </tr>\n",
              "    <tr>\n",
              "      <th>1</th>\n",
              "      <td>[danceability, instrumentalness, liveness, lou...</td>\n",
              "      <td>16.210522</td>\n",
              "    </tr>\n",
              "    <tr>\n",
              "      <th>2</th>\n",
              "      <td>[danceability, instrumentalness, liveness, lou...</td>\n",
              "      <td>16.207925</td>\n",
              "    </tr>\n",
              "    <tr>\n",
              "      <th>3</th>\n",
              "      <td>[danceability, instrumentalness, liveness, lou...</td>\n",
              "      <td>16.208353</td>\n",
              "    </tr>\n",
              "    <tr>\n",
              "      <th>4</th>\n",
              "      <td>[danceability, instrumentalness, liveness, lou...</td>\n",
              "      <td>16.204955</td>\n",
              "    </tr>\n",
              "    <tr>\n",
              "      <th>5</th>\n",
              "      <td>[danceability, instrumentalness, liveness, lou...</td>\n",
              "      <td>16.205435</td>\n",
              "    </tr>\n",
              "  </tbody>\n",
              "</table>\n",
              "</div>"
            ],
            "text/plain": [
              "                                             feature      score\n",
              "0  [danceability, instrumentalness, liveness, lou...  16.206891\n",
              "1  [danceability, instrumentalness, liveness, lou...  16.210522\n",
              "2  [danceability, instrumentalness, liveness, lou...  16.207925\n",
              "3  [danceability, instrumentalness, liveness, lou...  16.208353\n",
              "4  [danceability, instrumentalness, liveness, lou...  16.204955\n",
              "5  [danceability, instrumentalness, liveness, lou...  16.205435"
            ]
          },
          "metadata": {
            "tags": []
          },
          "execution_count": 52
        }
      ]
    },
    {
      "cell_type": "code",
      "metadata": {
        "id": "KFd5tNXv2B1H",
        "colab_type": "code",
        "outputId": "af563f9a-e467-447e-d21b-2116a6806398",
        "colab": {
          "base_uri": "https://localhost:8080/",
          "height": 151
        }
      },
      "source": [
        "# This is my set of best set of features for audio features\n",
        "pd.DataFrame(scores).iloc[4,0]"
      ],
      "execution_count": 0,
      "outputs": [
        {
          "output_type": "execute_result",
          "data": {
            "text/plain": [
              "['danceability',\n",
              " 'instrumentalness',\n",
              " 'liveness',\n",
              " 'loudness',\n",
              " 'time_signature',\n",
              " 'mode',\n",
              " 'speechiness',\n",
              " 'tempo']"
            ]
          },
          "metadata": {
            "tags": []
          },
          "execution_count": 53
        }
      ]
    },
    {
      "cell_type": "code",
      "metadata": {
        "id": "UMuIaqFj2Kla",
        "colab_type": "code",
        "outputId": "653a249b-b0fb-4498-f386-b3d8e0edebab",
        "colab": {
          "base_uri": "https://localhost:8080/",
          "height": 34
        }
      },
      "source": [
        "X_train = spotify_df[[\"date\", \"explicit\", 'danceability', 'instrumentalness',\n",
        "                      'liveness', 'loudness', 'time_signature', 'mode',\n",
        "                      'speechiness', 'tempo']]\n",
        "y_train = spotify_df[\"popularity\"]\n",
        "  \n",
        "ct = make_column_transformer(\n",
        "    (ce.OrdinalEncoder(), [\"explicit\", \"date\"]),\n",
        "    (ce.CatBoostEncoder(), [\"explicit\"]),\n",
        "    remainder=\"passthrough\"\n",
        ")\n",
        "\n",
        "pipeline = make_pipeline(\n",
        "    ct,\n",
        "    StandardScaler(),\n",
        "    Ridge()\n",
        ")\n",
        "\n",
        "cv_errs = -cross_val_score(pipeline, X_train, y_train, \n",
        "                          scoring=\"neg_root_mean_squared_error\", cv=10)\n",
        "\n",
        "cv_errs.mean()"
      ],
      "execution_count": 0,
      "outputs": [
        {
          "output_type": "execute_result",
          "data": {
            "text/plain": [
              "16.20495529512479"
            ]
          },
          "metadata": {
            "tags": []
          },
          "execution_count": 54
        }
      ]
    },
    {
      "cell_type": "markdown",
      "metadata": {
        "id": "d-zsbGPdrMkk",
        "colab_type": "text"
      },
      "source": [
        "**Now I will hyperparameter tune the Ridge model.**"
      ]
    },
    {
      "cell_type": "code",
      "metadata": {
        "id": "niIKDrY02l7K",
        "colab_type": "code",
        "outputId": "9707ecf2-4f30-4816-d191-505740c2f489",
        "colab": {
          "base_uri": "https://localhost:8080/",
          "height": 521
        }
      },
      "source": [
        "# I started out with alphas of smaller than 1 and between 1 and 10, but\n",
        "# increasing the alpha consistenly decreased the rmses, until the thousands\n",
        "# I also made sure to check for any double descent for much larger alphas\n",
        "clf = GridSearchCV(pipeline,\n",
        "                   param_grid={\"ridge__alpha\": [range(4925, 4975)]},\n",
        "                   scoring=\"neg_mean_squared_error\",\n",
        "                   cv=10)\n",
        "clf.fit(X_train, y_train)\n",
        "clf.best_estimator_"
      ],
      "execution_count": 0,
      "outputs": [
        {
          "output_type": "execute_result",
          "data": {
            "text/plain": [
              "Pipeline(memory=None,\n",
              "         steps=[('columntransformer',\n",
              "                 ColumnTransformer(n_jobs=None, remainder='passthrough',\n",
              "                                   sparse_threshold=0.3,\n",
              "                                   transformer_weights=None,\n",
              "                                   transformers=[('ordinalencoder',\n",
              "                                                  OrdinalEncoder(cols=None,\n",
              "                                                                 drop_invariant=False,\n",
              "                                                                 handle_missing='value',\n",
              "                                                                 handle_unknown='value',\n",
              "                                                                 mapping=None,\n",
              "                                                                 return_df=True,\n",
              "                                                                 verbose=0),\n",
              "                                                  ['explicit', 'date']),\n",
              "                                                 ('catboostencoder...\n",
              "                                                                  handle_missing='value',\n",
              "                                                                  handle_unknown='value',\n",
              "                                                                  random_state=None,\n",
              "                                                                  return_df=True,\n",
              "                                                                  sigma=None,\n",
              "                                                                  verbose=0),\n",
              "                                                  ['explicit'])],\n",
              "                                   verbose=False)),\n",
              "                ('standardscaler',\n",
              "                 StandardScaler(copy=True, with_mean=True, with_std=True)),\n",
              "                ('ridge',\n",
              "                 Ridge(alpha=4956, copy_X=True, fit_intercept=True,\n",
              "                       max_iter=None, normalize=False, random_state=None,\n",
              "                       solver='auto', tol=0.001))],\n",
              "         verbose=False)"
            ]
          },
          "metadata": {
            "tags": []
          },
          "execution_count": 82
        }
      ]
    },
    {
      "cell_type": "markdown",
      "metadata": {
        "id": "oXbHB25Sraxv",
        "colab_type": "text"
      },
      "source": [
        "**This is my best audio features model so far.**"
      ]
    },
    {
      "cell_type": "code",
      "metadata": {
        "id": "LdjaW_OH3nDH",
        "colab_type": "code",
        "outputId": "cca6c0be-2954-4bd6-d6a6-15d442551305",
        "colab": {
          "base_uri": "https://localhost:8080/",
          "height": 34
        }
      },
      "source": [
        "X_train = spotify_df[[\"date\", \"explicit\", 'danceability', 'instrumentalness',\n",
        "                      'liveness', 'loudness', 'time_signature', 'mode',\n",
        "                      'speechiness', 'tempo']]\n",
        "y_train = spotify_df[\"popularity\"]\n",
        "  \n",
        "ct = make_column_transformer(\n",
        "    (ce.OrdinalEncoder(), [\"explicit\", \"date\"]),\n",
        "    (ce.CatBoostEncoder(), [\"explicit\"]),\n",
        "    remainder=\"passthrough\"\n",
        ")\n",
        "\n",
        "pipeline = make_pipeline(\n",
        "    ct,\n",
        "    StandardScaler(),\n",
        "    Ridge(alpha=4956)\n",
        ")\n",
        "\n",
        "cv_errs = -cross_val_score(pipeline, X_train, y_train, \n",
        "                          scoring=\"neg_root_mean_squared_error\", cv=10)\n",
        "\n",
        "cv_errs.mean()"
      ],
      "execution_count": 0,
      "outputs": [
        {
          "output_type": "execute_result",
          "data": {
            "text/plain": [
              "16.181085359321823"
            ]
          },
          "metadata": {
            "tags": []
          },
          "execution_count": 81
        }
      ]
    },
    {
      "cell_type": "markdown",
      "metadata": {
        "id": "eDX9PD6LAmD8",
        "colab_type": "text"
      },
      "source": [
        "# Textual Features"
      ]
    },
    {
      "cell_type": "markdown",
      "metadata": {
        "id": "FHUy_UE0rgm2",
        "colab_type": "text"
      },
      "source": [
        "**I will use the same process as before for feature selection, model selection, and encodings selection.**"
      ]
    },
    {
      "cell_type": "code",
      "metadata": {
        "id": "2EbW_sWsAzts",
        "colab_type": "code",
        "outputId": "facded66-4095-4d74-e3d1-186107c96c01",
        "colab": {
          "base_uri": "https://localhost:8080/",
          "height": 1000
        }
      },
      "source": [
        "spotify_df[\"sentiment\"] = spotify_df[\"polarity\"] * spotify_df[\"magnitude\"]\n",
        "spotify_df"
      ],
      "execution_count": 0,
      "outputs": [
        {
          "output_type": "execute_result",
          "data": {
            "text/html": [
              "<div>\n",
              "<style scoped>\n",
              "    .dataframe tbody tr th:only-of-type {\n",
              "        vertical-align: middle;\n",
              "    }\n",
              "\n",
              "    .dataframe tbody tr th {\n",
              "        vertical-align: top;\n",
              "    }\n",
              "\n",
              "    .dataframe thead th {\n",
              "        text-align: right;\n",
              "    }\n",
              "</style>\n",
              "<table border=\"1\" class=\"dataframe\">\n",
              "  <thead>\n",
              "    <tr style=\"text-align: right;\">\n",
              "      <th></th>\n",
              "      <th>song</th>\n",
              "      <th>album</th>\n",
              "      <th>artist</th>\n",
              "      <th>acousticness</th>\n",
              "      <th>danceability</th>\n",
              "      <th>energy</th>\n",
              "      <th>instrumentalness</th>\n",
              "      <th>key</th>\n",
              "      <th>liveness</th>\n",
              "      <th>loudness</th>\n",
              "      <th>mode</th>\n",
              "      <th>speechiness</th>\n",
              "      <th>tempo</th>\n",
              "      <th>time_signature</th>\n",
              "      <th>valence</th>\n",
              "      <th>date</th>\n",
              "      <th>popularity</th>\n",
              "      <th>explicit</th>\n",
              "      <th>chain_lyrics</th>\n",
              "      <th>lyrics</th>\n",
              "      <th>polarity</th>\n",
              "      <th>magnitude</th>\n",
              "      <th>artistic</th>\n",
              "      <th>emotion</th>\n",
              "      <th>imagination</th>\n",
              "      <th>defiance</th>\n",
              "      <th>assertive</th>\n",
              "      <th>cheerful</th>\n",
              "      <th>outgoing</th>\n",
              "      <th>gregarious</th>\n",
              "      <th>modesty</th>\n",
              "      <th>stubborn</th>\n",
              "      <th>sympathy</th>\n",
              "      <th>trust</th>\n",
              "      <th>fiery</th>\n",
              "      <th>melancholy</th>\n",
              "      <th>immoderation</th>\n",
              "      <th>self-conscious</th>\n",
              "      <th>stress</th>\n",
              "      <th>sentiment</th>\n",
              "    </tr>\n",
              "  </thead>\n",
              "  <tbody>\n",
              "    <tr>\n",
              "      <th>0</th>\n",
              "      <td>Voices In My Head</td>\n",
              "      <td>Hoodie SZN</td>\n",
              "      <td>A Boogie Wit da Hoodie</td>\n",
              "      <td>0.0555</td>\n",
              "      <td>0.754</td>\n",
              "      <td>0.663</td>\n",
              "      <td>0.000000</td>\n",
              "      <td>6.0</td>\n",
              "      <td>0.1010</td>\n",
              "      <td>-6.311</td>\n",
              "      <td>0.0</td>\n",
              "      <td>0.4270</td>\n",
              "      <td>90.195</td>\n",
              "      <td>4.0</td>\n",
              "      <td>0.207</td>\n",
              "      <td>2018-12-21</td>\n",
              "      <td>58</td>\n",
              "      <td>1</td>\n",
              "      <td>monstas gon tear it up all she ever wanted was...</td>\n",
              "      <td>monstas gon tear it up all she ever wanted was...</td>\n",
              "      <td>-1.0</td>\n",
              "      <td>1.4</td>\n",
              "      <td>0.983429</td>\n",
              "      <td>0.269785</td>\n",
              "      <td>0.845684</td>\n",
              "      <td>0.833923</td>\n",
              "      <td>0.339471</td>\n",
              "      <td>0.814061</td>\n",
              "      <td>0.100284</td>\n",
              "      <td>0.099952</td>\n",
              "      <td>0.179199</td>\n",
              "      <td>0.670662</td>\n",
              "      <td>0.318997</td>\n",
              "      <td>0.001978</td>\n",
              "      <td>0.241852</td>\n",
              "      <td>0.780715</td>\n",
              "      <td>0.587846</td>\n",
              "      <td>0.719468</td>\n",
              "      <td>0.480640</td>\n",
              "      <td>-1.4</td>\n",
              "    </tr>\n",
              "    <tr>\n",
              "      <th>1</th>\n",
              "      <td>Beasty</td>\n",
              "      <td>Hoodie SZN</td>\n",
              "      <td>A Boogie Wit da Hoodie</td>\n",
              "      <td>0.2920</td>\n",
              "      <td>0.860</td>\n",
              "      <td>0.418</td>\n",
              "      <td>0.000000</td>\n",
              "      <td>7.0</td>\n",
              "      <td>0.1060</td>\n",
              "      <td>-9.061</td>\n",
              "      <td>0.0</td>\n",
              "      <td>0.1580</td>\n",
              "      <td>126.023</td>\n",
              "      <td>4.0</td>\n",
              "      <td>0.374</td>\n",
              "      <td>2018-12-21</td>\n",
              "      <td>59</td>\n",
              "      <td>1</td>\n",
              "      <td>all that we know is the logos and hb \\n the gl...</td>\n",
              "      <td>all that we know is the logos and hb the glock...</td>\n",
              "      <td>0.0</td>\n",
              "      <td>1.5</td>\n",
              "      <td>0.951363</td>\n",
              "      <td>0.118000</td>\n",
              "      <td>0.993211</td>\n",
              "      <td>0.778178</td>\n",
              "      <td>0.651997</td>\n",
              "      <td>0.856554</td>\n",
              "      <td>0.322349</td>\n",
              "      <td>0.608428</td>\n",
              "      <td>0.010153</td>\n",
              "      <td>0.048880</td>\n",
              "      <td>0.084278</td>\n",
              "      <td>0.000658</td>\n",
              "      <td>0.848225</td>\n",
              "      <td>0.664055</td>\n",
              "      <td>0.801688</td>\n",
              "      <td>0.390560</td>\n",
              "      <td>0.443472</td>\n",
              "      <td>0.0</td>\n",
              "    </tr>\n",
              "    <tr>\n",
              "      <th>2</th>\n",
              "      <td>I Did It</td>\n",
              "      <td>Hoodie SZN</td>\n",
              "      <td>A Boogie Wit da Hoodie</td>\n",
              "      <td>0.1530</td>\n",
              "      <td>0.718</td>\n",
              "      <td>0.454</td>\n",
              "      <td>0.000046</td>\n",
              "      <td>8.0</td>\n",
              "      <td>0.1160</td>\n",
              "      <td>-9.012</td>\n",
              "      <td>1.0</td>\n",
              "      <td>0.1270</td>\n",
              "      <td>89.483</td>\n",
              "      <td>4.0</td>\n",
              "      <td>0.196</td>\n",
              "      <td>2018-12-21</td>\n",
              "      <td>57</td>\n",
              "      <td>1</td>\n",
              "      <td>yeah i cant trust these bitches \\n i dont got ...</td>\n",
              "      <td>yeah i cant trust these bitches i dont got no ...</td>\n",
              "      <td>-1.0</td>\n",
              "      <td>1.9</td>\n",
              "      <td>0.974373</td>\n",
              "      <td>0.406747</td>\n",
              "      <td>0.700611</td>\n",
              "      <td>0.815956</td>\n",
              "      <td>0.123845</td>\n",
              "      <td>0.771871</td>\n",
              "      <td>0.128306</td>\n",
              "      <td>0.112841</td>\n",
              "      <td>0.631363</td>\n",
              "      <td>0.718800</td>\n",
              "      <td>0.313936</td>\n",
              "      <td>0.001588</td>\n",
              "      <td>0.251038</td>\n",
              "      <td>0.798487</td>\n",
              "      <td>0.450389</td>\n",
              "      <td>0.736179</td>\n",
              "      <td>0.669987</td>\n",
              "      <td>-1.9</td>\n",
              "    </tr>\n",
              "    <tr>\n",
              "      <th>3</th>\n",
              "      <td>Swervin</td>\n",
              "      <td>Hoodie SZN</td>\n",
              "      <td>A Boogie Wit da Hoodie</td>\n",
              "      <td>0.0153</td>\n",
              "      <td>0.581</td>\n",
              "      <td>0.662</td>\n",
              "      <td>0.000000</td>\n",
              "      <td>9.0</td>\n",
              "      <td>0.1110</td>\n",
              "      <td>-5.239</td>\n",
              "      <td>1.0</td>\n",
              "      <td>0.3030</td>\n",
              "      <td>93.023</td>\n",
              "      <td>4.0</td>\n",
              "      <td>0.434</td>\n",
              "      <td>2018-12-21</td>\n",
              "      <td>83</td>\n",
              "      <td>1</td>\n",
              "      <td>uh \\n yeah \\n oh thats london on da track run ...</td>\n",
              "      <td>uh yeah oh thats london on da track run that s...</td>\n",
              "      <td>0.5</td>\n",
              "      <td>1.4</td>\n",
              "      <td>0.945732</td>\n",
              "      <td>0.312331</td>\n",
              "      <td>0.866823</td>\n",
              "      <td>0.403949</td>\n",
              "      <td>0.815055</td>\n",
              "      <td>0.961068</td>\n",
              "      <td>0.834103</td>\n",
              "      <td>0.872156</td>\n",
              "      <td>0.008053</td>\n",
              "      <td>0.392424</td>\n",
              "      <td>0.068322</td>\n",
              "      <td>0.011624</td>\n",
              "      <td>0.523789</td>\n",
              "      <td>0.160812</td>\n",
              "      <td>0.532799</td>\n",
              "      <td>0.075188</td>\n",
              "      <td>0.109408</td>\n",
              "      <td>0.7</td>\n",
              "    </tr>\n",
              "    <tr>\n",
              "      <th>4</th>\n",
              "      <td>Startender</td>\n",
              "      <td>Hoodie SZN</td>\n",
              "      <td>A Boogie Wit da Hoodie</td>\n",
              "      <td>0.0235</td>\n",
              "      <td>0.736</td>\n",
              "      <td>0.622</td>\n",
              "      <td>0.000000</td>\n",
              "      <td>6.0</td>\n",
              "      <td>0.1510</td>\n",
              "      <td>-4.653</td>\n",
              "      <td>0.0</td>\n",
              "      <td>0.1330</td>\n",
              "      <td>191.971</td>\n",
              "      <td>4.0</td>\n",
              "      <td>0.506</td>\n",
              "      <td>2018-12-21</td>\n",
              "      <td>71</td>\n",
              "      <td>1</td>\n",
              "      <td>yeah shawty got ass she just got a tummy tuck ...</td>\n",
              "      <td>yeah shawty got ass she just got a tummy tuck ...</td>\n",
              "      <td>-1.0</td>\n",
              "      <td>2.5</td>\n",
              "      <td>0.921820</td>\n",
              "      <td>0.017407</td>\n",
              "      <td>0.824431</td>\n",
              "      <td>0.521194</td>\n",
              "      <td>0.549106</td>\n",
              "      <td>0.949360</td>\n",
              "      <td>0.699198</td>\n",
              "      <td>0.819306</td>\n",
              "      <td>0.011715</td>\n",
              "      <td>0.257703</td>\n",
              "      <td>0.042916</td>\n",
              "      <td>0.000842</td>\n",
              "      <td>0.599420</td>\n",
              "      <td>0.223387</td>\n",
              "      <td>0.610249</td>\n",
              "      <td>0.098895</td>\n",
              "      <td>0.122751</td>\n",
              "      <td>-2.5</td>\n",
              "    </tr>\n",
              "    <tr>\n",
              "      <th>...</th>\n",
              "      <td>...</td>\n",
              "      <td>...</td>\n",
              "      <td>...</td>\n",
              "      <td>...</td>\n",
              "      <td>...</td>\n",
              "      <td>...</td>\n",
              "      <td>...</td>\n",
              "      <td>...</td>\n",
              "      <td>...</td>\n",
              "      <td>...</td>\n",
              "      <td>...</td>\n",
              "      <td>...</td>\n",
              "      <td>...</td>\n",
              "      <td>...</td>\n",
              "      <td>...</td>\n",
              "      <td>...</td>\n",
              "      <td>...</td>\n",
              "      <td>...</td>\n",
              "      <td>...</td>\n",
              "      <td>...</td>\n",
              "      <td>...</td>\n",
              "      <td>...</td>\n",
              "      <td>...</td>\n",
              "      <td>...</td>\n",
              "      <td>...</td>\n",
              "      <td>...</td>\n",
              "      <td>...</td>\n",
              "      <td>...</td>\n",
              "      <td>...</td>\n",
              "      <td>...</td>\n",
              "      <td>...</td>\n",
              "      <td>...</td>\n",
              "      <td>...</td>\n",
              "      <td>...</td>\n",
              "      <td>...</td>\n",
              "      <td>...</td>\n",
              "      <td>...</td>\n",
              "      <td>...</td>\n",
              "      <td>...</td>\n",
              "      <td>...</td>\n",
              "    </tr>\n",
              "    <tr>\n",
              "      <th>25457</th>\n",
              "      <td>Simple Machine</td>\n",
              "      <td>Evermotion</td>\n",
              "      <td>Guster</td>\n",
              "      <td>0.0101</td>\n",
              "      <td>0.624</td>\n",
              "      <td>0.794</td>\n",
              "      <td>0.004310</td>\n",
              "      <td>4.0</td>\n",
              "      <td>0.1370</td>\n",
              "      <td>-7.018</td>\n",
              "      <td>1.0</td>\n",
              "      <td>0.0476</td>\n",
              "      <td>167.970</td>\n",
              "      <td>4.0</td>\n",
              "      <td>0.781</td>\n",
              "      <td>2015-01-13</td>\n",
              "      <td>31</td>\n",
              "      <td>0</td>\n",
              "      <td>static steady plastic motion \\n lights flash b...</td>\n",
              "      <td>static steady plastic motion lights flash beat...</td>\n",
              "      <td>-1.0</td>\n",
              "      <td>0.9</td>\n",
              "      <td>0.483210</td>\n",
              "      <td>0.614466</td>\n",
              "      <td>0.791187</td>\n",
              "      <td>0.004402</td>\n",
              "      <td>0.170147</td>\n",
              "      <td>0.476026</td>\n",
              "      <td>0.200341</td>\n",
              "      <td>0.314043</td>\n",
              "      <td>0.944821</td>\n",
              "      <td>0.947986</td>\n",
              "      <td>0.454287</td>\n",
              "      <td>0.011603</td>\n",
              "      <td>0.327810</td>\n",
              "      <td>0.959904</td>\n",
              "      <td>0.367588</td>\n",
              "      <td>0.505668</td>\n",
              "      <td>0.712661</td>\n",
              "      <td>-0.9</td>\n",
              "    </tr>\n",
              "    <tr>\n",
              "      <th>25458</th>\n",
              "      <td>Expectation</td>\n",
              "      <td>Evermotion</td>\n",
              "      <td>Guster</td>\n",
              "      <td>0.4460</td>\n",
              "      <td>0.467</td>\n",
              "      <td>0.578</td>\n",
              "      <td>0.000170</td>\n",
              "      <td>11.0</td>\n",
              "      <td>0.0954</td>\n",
              "      <td>-6.467</td>\n",
              "      <td>1.0</td>\n",
              "      <td>0.0344</td>\n",
              "      <td>137.013</td>\n",
              "      <td>4.0</td>\n",
              "      <td>0.250</td>\n",
              "      <td>2015-01-13</td>\n",
              "      <td>19</td>\n",
              "      <td>0</td>\n",
              "      <td>im alive \\n thats the expectation \\n oh no \\n ...</td>\n",
              "      <td>im alive thats the expectation oh no feels lik...</td>\n",
              "      <td>-1.0</td>\n",
              "      <td>0.3</td>\n",
              "      <td>0.999678</td>\n",
              "      <td>0.781936</td>\n",
              "      <td>0.994449</td>\n",
              "      <td>0.987118</td>\n",
              "      <td>0.005879</td>\n",
              "      <td>0.066235</td>\n",
              "      <td>0.001171</td>\n",
              "      <td>0.006887</td>\n",
              "      <td>0.490115</td>\n",
              "      <td>0.290116</td>\n",
              "      <td>0.856172</td>\n",
              "      <td>0.148689</td>\n",
              "      <td>0.391590</td>\n",
              "      <td>0.988559</td>\n",
              "      <td>0.477067</td>\n",
              "      <td>0.955391</td>\n",
              "      <td>0.976936</td>\n",
              "      <td>-0.3</td>\n",
              "    </tr>\n",
              "    <tr>\n",
              "      <th>25459</th>\n",
              "      <td>Gangway</td>\n",
              "      <td>Evermotion</td>\n",
              "      <td>Guster</td>\n",
              "      <td>0.1130</td>\n",
              "      <td>0.447</td>\n",
              "      <td>0.753</td>\n",
              "      <td>0.004860</td>\n",
              "      <td>2.0</td>\n",
              "      <td>0.3550</td>\n",
              "      <td>-5.284</td>\n",
              "      <td>1.0</td>\n",
              "      <td>0.0284</td>\n",
              "      <td>123.460</td>\n",
              "      <td>4.0</td>\n",
              "      <td>0.431</td>\n",
              "      <td>2015-01-13</td>\n",
              "      <td>25</td>\n",
              "      <td>0</td>\n",
              "      <td>if i could make a wish of i could right a wron...</td>\n",
              "      <td>if i could make a wish of i could right a wron...</td>\n",
              "      <td>-1.0</td>\n",
              "      <td>0.7</td>\n",
              "      <td>0.999164</td>\n",
              "      <td>0.589154</td>\n",
              "      <td>0.999992</td>\n",
              "      <td>0.999748</td>\n",
              "      <td>0.094155</td>\n",
              "      <td>0.362654</td>\n",
              "      <td>0.114609</td>\n",
              "      <td>0.310047</td>\n",
              "      <td>0.026866</td>\n",
              "      <td>0.094465</td>\n",
              "      <td>0.841245</td>\n",
              "      <td>0.758046</td>\n",
              "      <td>0.699378</td>\n",
              "      <td>0.797153</td>\n",
              "      <td>0.943452</td>\n",
              "      <td>0.942651</td>\n",
              "      <td>0.640199</td>\n",
              "      <td>-0.7</td>\n",
              "    </tr>\n",
              "    <tr>\n",
              "      <th>25460</th>\n",
              "      <td>Kid Dreams</td>\n",
              "      <td>Evermotion</td>\n",
              "      <td>Guster</td>\n",
              "      <td>0.2260</td>\n",
              "      <td>0.503</td>\n",
              "      <td>0.568</td>\n",
              "      <td>0.019500</td>\n",
              "      <td>5.0</td>\n",
              "      <td>0.0817</td>\n",
              "      <td>-8.075</td>\n",
              "      <td>1.0</td>\n",
              "      <td>0.0336</td>\n",
              "      <td>88.784</td>\n",
              "      <td>4.0</td>\n",
              "      <td>0.557</td>\n",
              "      <td>2015-01-13</td>\n",
              "      <td>24</td>\n",
              "      <td>0</td>\n",
              "      <td>so there i was fifteen stuck in \\n high school...</td>\n",
              "      <td>so there i was fifteen stuck in high school wa...</td>\n",
              "      <td>1.0</td>\n",
              "      <td>0.2</td>\n",
              "      <td>0.975240</td>\n",
              "      <td>0.594793</td>\n",
              "      <td>0.909666</td>\n",
              "      <td>0.751356</td>\n",
              "      <td>0.315535</td>\n",
              "      <td>0.734684</td>\n",
              "      <td>0.207368</td>\n",
              "      <td>0.224545</td>\n",
              "      <td>0.631730</td>\n",
              "      <td>0.911782</td>\n",
              "      <td>0.844109</td>\n",
              "      <td>0.095943</td>\n",
              "      <td>0.087876</td>\n",
              "      <td>0.484756</td>\n",
              "      <td>0.518084</td>\n",
              "      <td>0.479072</td>\n",
              "      <td>0.334271</td>\n",
              "      <td>0.2</td>\n",
              "    </tr>\n",
              "    <tr>\n",
              "      <th>25461</th>\n",
              "      <td>Never Coming Down</td>\n",
              "      <td>Evermotion</td>\n",
              "      <td>Guster</td>\n",
              "      <td>0.1720</td>\n",
              "      <td>0.770</td>\n",
              "      <td>0.737</td>\n",
              "      <td>0.000082</td>\n",
              "      <td>9.0</td>\n",
              "      <td>0.1010</td>\n",
              "      <td>-6.529</td>\n",
              "      <td>1.0</td>\n",
              "      <td>0.0289</td>\n",
              "      <td>110.408</td>\n",
              "      <td>4.0</td>\n",
              "      <td>0.924</td>\n",
              "      <td>2015-01-13</td>\n",
              "      <td>22</td>\n",
              "      <td>0</td>\n",
              "      <td>saddle up next to me \\n we can go kicking seas...</td>\n",
              "      <td>saddle up next to me we can go kicking seashel...</td>\n",
              "      <td>-1.0</td>\n",
              "      <td>0.5</td>\n",
              "      <td>0.798443</td>\n",
              "      <td>0.259770</td>\n",
              "      <td>0.705637</td>\n",
              "      <td>0.480167</td>\n",
              "      <td>0.941539</td>\n",
              "      <td>0.958724</td>\n",
              "      <td>0.987587</td>\n",
              "      <td>0.999271</td>\n",
              "      <td>0.367768</td>\n",
              "      <td>0.667883</td>\n",
              "      <td>0.630857</td>\n",
              "      <td>0.699494</td>\n",
              "      <td>0.006507</td>\n",
              "      <td>0.192311</td>\n",
              "      <td>0.574755</td>\n",
              "      <td>0.005545</td>\n",
              "      <td>0.004299</td>\n",
              "      <td>-0.5</td>\n",
              "    </tr>\n",
              "  </tbody>\n",
              "</table>\n",
              "<p>25462 rows × 40 columns</p>\n",
              "</div>"
            ],
            "text/plain": [
              "                    song       album  ...    stress  sentiment\n",
              "0      Voices In My Head  Hoodie SZN  ...  0.480640       -1.4\n",
              "1                 Beasty  Hoodie SZN  ...  0.443472        0.0\n",
              "2               I Did It  Hoodie SZN  ...  0.669987       -1.9\n",
              "3                Swervin  Hoodie SZN  ...  0.109408        0.7\n",
              "4             Startender  Hoodie SZN  ...  0.122751       -2.5\n",
              "...                  ...         ...  ...       ...        ...\n",
              "25457     Simple Machine  Evermotion  ...  0.712661       -0.9\n",
              "25458        Expectation  Evermotion  ...  0.976936       -0.3\n",
              "25459            Gangway  Evermotion  ...  0.640199       -0.7\n",
              "25460         Kid Dreams  Evermotion  ...  0.334271        0.2\n",
              "25461  Never Coming Down  Evermotion  ...  0.004299       -0.5\n",
              "\n",
              "[25462 rows x 40 columns]"
            ]
          },
          "metadata": {
            "tags": []
          },
          "execution_count": 87
        }
      ]
    },
    {
      "cell_type": "code",
      "metadata": {
        "id": "ktFA8FWjAuJ4",
        "colab_type": "code",
        "outputId": "11db6b87-6757-4e6a-c9c1-e9113fc840fe",
        "colab": {
          "base_uri": "https://localhost:8080/",
          "height": 689
        }
      },
      "source": [
        "list(spotify_df.columns.values)"
      ],
      "execution_count": 0,
      "outputs": [
        {
          "output_type": "execute_result",
          "data": {
            "text/plain": [
              "['song',\n",
              " 'album',\n",
              " 'artist',\n",
              " 'acousticness',\n",
              " 'danceability',\n",
              " 'energy',\n",
              " 'instrumentalness',\n",
              " 'key',\n",
              " 'liveness',\n",
              " 'loudness',\n",
              " 'mode',\n",
              " 'speechiness',\n",
              " 'tempo',\n",
              " 'time_signature',\n",
              " 'valence',\n",
              " 'date',\n",
              " 'popularity',\n",
              " 'explicit',\n",
              " 'chain_lyrics',\n",
              " 'lyrics',\n",
              " 'polarity',\n",
              " 'magnitude',\n",
              " 'artistic',\n",
              " 'emotion',\n",
              " 'imagination',\n",
              " 'defiance',\n",
              " 'assertive',\n",
              " 'cheerful',\n",
              " 'outgoing',\n",
              " 'gregarious',\n",
              " 'modesty',\n",
              " 'stubborn',\n",
              " 'sympathy',\n",
              " 'trust',\n",
              " 'fiery',\n",
              " 'melancholy',\n",
              " 'immoderation',\n",
              " 'self-conscious',\n",
              " 'stress',\n",
              " 'sentiment']"
            ]
          },
          "metadata": {
            "tags": []
          },
          "execution_count": 88
        }
      ]
    },
    {
      "cell_type": "code",
      "metadata": {
        "id": "QASOPUINAqdg",
        "colab_type": "code",
        "outputId": "5bf0e301-3ab0-482b-bf6c-f07b572ec7e6",
        "colab": {
          "base_uri": "https://localhost:8080/",
          "height": 639
        }
      },
      "source": [
        "scores = {}\n",
        "scores[\"feature\"] = []\n",
        "scores[\"score\"] = []\n",
        "\n",
        "for feature in list(spotify_df.columns.values)[20:]:\n",
        "  X_train = spotify_df[[\"date\", \"explicit\"] + [feature]]\n",
        "  y_train = spotify_df[\"popularity\"]\n",
        "\n",
        "  ct = make_column_transformer(\n",
        "      (ce.OrdinalEncoder(), [\"explicit\", \"date\"]),\n",
        "      (ce.CatBoostEncoder(), [\"explicit\"]),\n",
        "      remainder=\"passthrough\"\n",
        "  )\n",
        "\n",
        "  pipeline = make_pipeline(\n",
        "      ct,\n",
        "      StandardScaler(),\n",
        "      Ridge()\n",
        "  )\n",
        "\n",
        "  cv_errs = -cross_val_score(pipeline, X_train, y_train, \n",
        "                            scoring=\"neg_root_mean_squared_error\", cv=10)\n",
        "\n",
        "  scores[\"feature\"].append(feature)\n",
        "  scores[\"score\"].append(cv_errs.mean())\n",
        "\n",
        "pd.DataFrame(scores)"
      ],
      "execution_count": 0,
      "outputs": [
        {
          "output_type": "execute_result",
          "data": {
            "text/html": [
              "<div>\n",
              "<style scoped>\n",
              "    .dataframe tbody tr th:only-of-type {\n",
              "        vertical-align: middle;\n",
              "    }\n",
              "\n",
              "    .dataframe tbody tr th {\n",
              "        vertical-align: top;\n",
              "    }\n",
              "\n",
              "    .dataframe thead th {\n",
              "        text-align: right;\n",
              "    }\n",
              "</style>\n",
              "<table border=\"1\" class=\"dataframe\">\n",
              "  <thead>\n",
              "    <tr style=\"text-align: right;\">\n",
              "      <th></th>\n",
              "      <th>feature</th>\n",
              "      <th>score</th>\n",
              "    </tr>\n",
              "  </thead>\n",
              "  <tbody>\n",
              "    <tr>\n",
              "      <th>0</th>\n",
              "      <td>polarity</td>\n",
              "      <td>16.572607</td>\n",
              "    </tr>\n",
              "    <tr>\n",
              "      <th>1</th>\n",
              "      <td>magnitude</td>\n",
              "      <td>16.535896</td>\n",
              "    </tr>\n",
              "    <tr>\n",
              "      <th>2</th>\n",
              "      <td>artistic</td>\n",
              "      <td>16.566078</td>\n",
              "    </tr>\n",
              "    <tr>\n",
              "      <th>3</th>\n",
              "      <td>emotion</td>\n",
              "      <td>16.568422</td>\n",
              "    </tr>\n",
              "    <tr>\n",
              "      <th>4</th>\n",
              "      <td>imagination</td>\n",
              "      <td>16.543921</td>\n",
              "    </tr>\n",
              "    <tr>\n",
              "      <th>5</th>\n",
              "      <td>defiance</td>\n",
              "      <td>16.567351</td>\n",
              "    </tr>\n",
              "    <tr>\n",
              "      <th>6</th>\n",
              "      <td>assertive</td>\n",
              "      <td>16.559057</td>\n",
              "    </tr>\n",
              "    <tr>\n",
              "      <th>7</th>\n",
              "      <td>cheerful</td>\n",
              "      <td>16.519665</td>\n",
              "    </tr>\n",
              "    <tr>\n",
              "      <th>8</th>\n",
              "      <td>outgoing</td>\n",
              "      <td>16.572963</td>\n",
              "    </tr>\n",
              "    <tr>\n",
              "      <th>9</th>\n",
              "      <td>gregarious</td>\n",
              "      <td>16.557115</td>\n",
              "    </tr>\n",
              "    <tr>\n",
              "      <th>10</th>\n",
              "      <td>modesty</td>\n",
              "      <td>16.569408</td>\n",
              "    </tr>\n",
              "    <tr>\n",
              "      <th>11</th>\n",
              "      <td>stubborn</td>\n",
              "      <td>16.568674</td>\n",
              "    </tr>\n",
              "    <tr>\n",
              "      <th>12</th>\n",
              "      <td>sympathy</td>\n",
              "      <td>16.515717</td>\n",
              "    </tr>\n",
              "    <tr>\n",
              "      <th>13</th>\n",
              "      <td>trust</td>\n",
              "      <td>16.530279</td>\n",
              "    </tr>\n",
              "    <tr>\n",
              "      <th>14</th>\n",
              "      <td>fiery</td>\n",
              "      <td>16.563806</td>\n",
              "    </tr>\n",
              "    <tr>\n",
              "      <th>15</th>\n",
              "      <td>melancholy</td>\n",
              "      <td>16.570378</td>\n",
              "    </tr>\n",
              "    <tr>\n",
              "      <th>16</th>\n",
              "      <td>immoderation</td>\n",
              "      <td>16.549005</td>\n",
              "    </tr>\n",
              "    <tr>\n",
              "      <th>17</th>\n",
              "      <td>self-conscious</td>\n",
              "      <td>16.570531</td>\n",
              "    </tr>\n",
              "    <tr>\n",
              "      <th>18</th>\n",
              "      <td>stress</td>\n",
              "      <td>16.557613</td>\n",
              "    </tr>\n",
              "    <tr>\n",
              "      <th>19</th>\n",
              "      <td>sentiment</td>\n",
              "      <td>16.570085</td>\n",
              "    </tr>\n",
              "  </tbody>\n",
              "</table>\n",
              "</div>"
            ],
            "text/plain": [
              "           feature      score\n",
              "0         polarity  16.572607\n",
              "1        magnitude  16.535896\n",
              "2         artistic  16.566078\n",
              "3          emotion  16.568422\n",
              "4      imagination  16.543921\n",
              "5         defiance  16.567351\n",
              "6        assertive  16.559057\n",
              "7         cheerful  16.519665\n",
              "8         outgoing  16.572963\n",
              "9       gregarious  16.557115\n",
              "10         modesty  16.569408\n",
              "11        stubborn  16.568674\n",
              "12        sympathy  16.515717\n",
              "13           trust  16.530279\n",
              "14           fiery  16.563806\n",
              "15      melancholy  16.570378\n",
              "16    immoderation  16.549005\n",
              "17  self-conscious  16.570531\n",
              "18          stress  16.557613\n",
              "19       sentiment  16.570085"
            ]
          },
          "metadata": {
            "tags": []
          },
          "execution_count": 90
        }
      ]
    },
    {
      "cell_type": "code",
      "metadata": {
        "id": "G7RiOTGVBYl9",
        "colab_type": "code",
        "outputId": "532ced09-1e39-42e5-99ce-a75c5f8b325b",
        "colab": {
          "base_uri": "https://localhost:8080/",
          "height": 610
        }
      },
      "source": [
        "scores = {}\n",
        "scores[\"feature\"] = []\n",
        "scores[\"score\"] = []\n",
        "\n",
        "for features in [[\"sympathy\"],\n",
        "                [\"sympathy\", \"cheerful\"],\n",
        "                [\"sympathy\", \"cheerful\", \"trust\"],\n",
        "                [\"sympathy\", \"cheerful\", \"trust\", \"magnitude\"],\n",
        "                [\"sympathy\", \"cheerful\", \"trust\", \"magnitude\", \"imagination\"],\n",
        "                [\"sympathy\", \"cheerful\", \"trust\", \"magnitude\", \"imagination\",\n",
        "                 \"immoderation\"],\n",
        "                [\"sympathy\", \"cheerful\", \"trust\", \"magnitude\", \"imagination\",\n",
        "                 \"immoderation\", \"gregarious\"],\n",
        "                [\"sympathy\", \"cheerful\", \"trust\", \"magnitude\", \"imagination\",\n",
        "                 \"immoderation\", \"gregarious\", \"stress\"],\n",
        "                [\"sympathy\", \"cheerful\", \"trust\", \"magnitude\", \"imagination\",\n",
        "                 \"immoderation\", \"gregarious\", \"stress\", \"assertive\"],\n",
        "                [\"sympathy\", \"cheerful\", \"trust\", \"magnitude\", \"imagination\",\n",
        "                 \"immoderation\", \"gregarious\", \"stress\", \"assertive\", \"fiery\"],\n",
        "                [\"sympathy\", \"cheerful\", \"trust\", \"magnitude\", \"imagination\",\n",
        "                 \"immoderation\", \"gregarious\", \"stress\", \"assertive\", \"fiery\",\n",
        "                 \"artistic\"],\n",
        "                [\"sympathy\", \"cheerful\", \"trust\", \"magnitude\", \"imagination\",\n",
        "                 \"immoderation\", \"gregarious\", \"stress\", \"assertive\", \"fiery\",\n",
        "                 \"artistic\", \"defiance\"],\n",
        "                [\"sympathy\", \"cheerful\", \"trust\", \"magnitude\", \"imagination\",\n",
        "                 \"immoderation\", \"gregarious\", \"stress\", \"assertive\", \"fiery\",\n",
        "                 \"artistic\", \"defiance\", \"emotion\"],\n",
        "                [\"sympathy\", \"cheerful\", \"trust\", \"magnitude\", \"imagination\",\n",
        "                 \"immoderation\", \"gregarious\", \"stress\", \"assertive\", \"fiery\",\n",
        "                 \"artistic\", \"defiance\", \"emotion\", \"stubborn\"],\n",
        "                [\"sympathy\", \"cheerful\", \"trust\", \"magnitude\", \"imagination\",\n",
        "                 \"immoderation\", \"gregarious\", \"stress\", \"assertive\", \"fiery\",\n",
        "                 \"artistic\", \"defiance\", \"emotion\", \"stubborn\", \"modesty\"],\n",
        "                [\"sympathy\", \"cheerful\", \"trust\", \"magnitude\", \"imagination\",\n",
        "                 \"immoderation\", \"gregarious\", \"stress\", \"assertive\", \"fiery\",\n",
        "                 \"artistic\", \"defiance\", \"emotion\", \"stubborn\", \"modesty\",\n",
        "                 \"sentiment\"],\n",
        "                [\"sympathy\", \"cheerful\", \"trust\", \"magnitude\", \"imagination\",\n",
        "                 \"immoderation\", \"gregarious\", \"stress\", \"assertive\", \"fiery\",\n",
        "                 \"artistic\", \"defiance\", \"emotion\", \"stubborn\", \"modesty\",\n",
        "                 \"sentiment\", \"melancholy\"],\n",
        "                [\"sympathy\", \"cheerful\", \"trust\", \"magnitude\", \"imagination\",\n",
        "                 \"immoderation\", \"gregarious\", \"stress\", \"assertive\", \"fiery\",\n",
        "                 \"artistic\", \"defiance\", \"emotion\", \"stubborn\", \"modesty\",\n",
        "                 \"sentiment\", \"melancholy\", \"self-conscious\"],\n",
        "                [\"sympathy\", \"cheerful\", \"trust\", \"magnitude\", \"imagination\",\n",
        "                 \"immoderation\", \"gregarious\", \"stress\", \"assertive\", \"fiery\",\n",
        "                 \"artistic\", \"defiance\", \"emotion\", \"stubborn\", \"modesty\",\n",
        "                 \"sentiment\", \"melancholy\", \"self-conscious\", \"polarity\"]]:\n",
        "\n",
        "  X_train = spotify_df[[\"date\", \"explicit\"] + features]\n",
        "  y_train = spotify_df[\"popularity\"]\n",
        "\n",
        "  ct = make_column_transformer(\n",
        "      (ce.OrdinalEncoder(), [\"explicit\", \"date\"]),\n",
        "      (ce.CatBoostEncoder(), [\"explicit\"]),\n",
        "      remainder=\"passthrough\"\n",
        "  )\n",
        "\n",
        "  pipeline = make_pipeline(\n",
        "      ct,\n",
        "      StandardScaler(),\n",
        "      Ridge()\n",
        "  )\n",
        "\n",
        "  cv_errs = -cross_val_score(pipeline, X_train, y_train, \n",
        "                            scoring=\"neg_root_mean_squared_error\", cv=10)\n",
        "\n",
        "  scores[\"feature\"].append(features)\n",
        "  scores[\"score\"].append(cv_errs.mean())\n",
        "\n",
        "pd.DataFrame(scores)"
      ],
      "execution_count": 0,
      "outputs": [
        {
          "output_type": "execute_result",
          "data": {
            "text/html": [
              "<div>\n",
              "<style scoped>\n",
              "    .dataframe tbody tr th:only-of-type {\n",
              "        vertical-align: middle;\n",
              "    }\n",
              "\n",
              "    .dataframe tbody tr th {\n",
              "        vertical-align: top;\n",
              "    }\n",
              "\n",
              "    .dataframe thead th {\n",
              "        text-align: right;\n",
              "    }\n",
              "</style>\n",
              "<table border=\"1\" class=\"dataframe\">\n",
              "  <thead>\n",
              "    <tr style=\"text-align: right;\">\n",
              "      <th></th>\n",
              "      <th>feature</th>\n",
              "      <th>score</th>\n",
              "    </tr>\n",
              "  </thead>\n",
              "  <tbody>\n",
              "    <tr>\n",
              "      <th>0</th>\n",
              "      <td>[sympathy]</td>\n",
              "      <td>16.515717</td>\n",
              "    </tr>\n",
              "    <tr>\n",
              "      <th>1</th>\n",
              "      <td>[sympathy, cheerful]</td>\n",
              "      <td>16.478150</td>\n",
              "    </tr>\n",
              "    <tr>\n",
              "      <th>2</th>\n",
              "      <td>[sympathy, cheerful, trust]</td>\n",
              "      <td>16.446051</td>\n",
              "    </tr>\n",
              "    <tr>\n",
              "      <th>3</th>\n",
              "      <td>[sympathy, cheerful, trust, magnitude]</td>\n",
              "      <td>16.423025</td>\n",
              "    </tr>\n",
              "    <tr>\n",
              "      <th>4</th>\n",
              "      <td>[sympathy, cheerful, trust, magnitude, imagina...</td>\n",
              "      <td>16.419604</td>\n",
              "    </tr>\n",
              "    <tr>\n",
              "      <th>5</th>\n",
              "      <td>[sympathy, cheerful, trust, magnitude, imagina...</td>\n",
              "      <td>16.381889</td>\n",
              "    </tr>\n",
              "    <tr>\n",
              "      <th>6</th>\n",
              "      <td>[sympathy, cheerful, trust, magnitude, imagina...</td>\n",
              "      <td>16.378239</td>\n",
              "    </tr>\n",
              "    <tr>\n",
              "      <th>7</th>\n",
              "      <td>[sympathy, cheerful, trust, magnitude, imagina...</td>\n",
              "      <td>16.324171</td>\n",
              "    </tr>\n",
              "    <tr>\n",
              "      <th>8</th>\n",
              "      <td>[sympathy, cheerful, trust, magnitude, imagina...</td>\n",
              "      <td>16.318838</td>\n",
              "    </tr>\n",
              "    <tr>\n",
              "      <th>9</th>\n",
              "      <td>[sympathy, cheerful, trust, magnitude, imagina...</td>\n",
              "      <td>16.318972</td>\n",
              "    </tr>\n",
              "    <tr>\n",
              "      <th>10</th>\n",
              "      <td>[sympathy, cheerful, trust, magnitude, imagina...</td>\n",
              "      <td>16.315129</td>\n",
              "    </tr>\n",
              "    <tr>\n",
              "      <th>11</th>\n",
              "      <td>[sympathy, cheerful, trust, magnitude, imagina...</td>\n",
              "      <td>16.301066</td>\n",
              "    </tr>\n",
              "    <tr>\n",
              "      <th>12</th>\n",
              "      <td>[sympathy, cheerful, trust, magnitude, imagina...</td>\n",
              "      <td>16.291650</td>\n",
              "    </tr>\n",
              "    <tr>\n",
              "      <th>13</th>\n",
              "      <td>[sympathy, cheerful, trust, magnitude, imagina...</td>\n",
              "      <td>16.292702</td>\n",
              "    </tr>\n",
              "    <tr>\n",
              "      <th>14</th>\n",
              "      <td>[sympathy, cheerful, trust, magnitude, imagina...</td>\n",
              "      <td>16.291223</td>\n",
              "    </tr>\n",
              "    <tr>\n",
              "      <th>15</th>\n",
              "      <td>[sympathy, cheerful, trust, magnitude, imagina...</td>\n",
              "      <td>16.293186</td>\n",
              "    </tr>\n",
              "    <tr>\n",
              "      <th>16</th>\n",
              "      <td>[sympathy, cheerful, trust, magnitude, imagina...</td>\n",
              "      <td>16.293637</td>\n",
              "    </tr>\n",
              "    <tr>\n",
              "      <th>17</th>\n",
              "      <td>[sympathy, cheerful, trust, magnitude, imagina...</td>\n",
              "      <td>16.279992</td>\n",
              "    </tr>\n",
              "    <tr>\n",
              "      <th>18</th>\n",
              "      <td>[sympathy, cheerful, trust, magnitude, imagina...</td>\n",
              "      <td>16.280559</td>\n",
              "    </tr>\n",
              "  </tbody>\n",
              "</table>\n",
              "</div>"
            ],
            "text/plain": [
              "                                              feature      score\n",
              "0                                          [sympathy]  16.515717\n",
              "1                                [sympathy, cheerful]  16.478150\n",
              "2                         [sympathy, cheerful, trust]  16.446051\n",
              "3              [sympathy, cheerful, trust, magnitude]  16.423025\n",
              "4   [sympathy, cheerful, trust, magnitude, imagina...  16.419604\n",
              "5   [sympathy, cheerful, trust, magnitude, imagina...  16.381889\n",
              "6   [sympathy, cheerful, trust, magnitude, imagina...  16.378239\n",
              "7   [sympathy, cheerful, trust, magnitude, imagina...  16.324171\n",
              "8   [sympathy, cheerful, trust, magnitude, imagina...  16.318838\n",
              "9   [sympathy, cheerful, trust, magnitude, imagina...  16.318972\n",
              "10  [sympathy, cheerful, trust, magnitude, imagina...  16.315129\n",
              "11  [sympathy, cheerful, trust, magnitude, imagina...  16.301066\n",
              "12  [sympathy, cheerful, trust, magnitude, imagina...  16.291650\n",
              "13  [sympathy, cheerful, trust, magnitude, imagina...  16.292702\n",
              "14  [sympathy, cheerful, trust, magnitude, imagina...  16.291223\n",
              "15  [sympathy, cheerful, trust, magnitude, imagina...  16.293186\n",
              "16  [sympathy, cheerful, trust, magnitude, imagina...  16.293637\n",
              "17  [sympathy, cheerful, trust, magnitude, imagina...  16.279992\n",
              "18  [sympathy, cheerful, trust, magnitude, imagina...  16.280559"
            ]
          },
          "metadata": {
            "tags": []
          },
          "execution_count": 96
        }
      ]
    },
    {
      "cell_type": "markdown",
      "metadata": {
        "id": "WQuRA1yDD9zZ",
        "colab_type": "text"
      },
      "source": [
        "**I notice that several times the score increases when adding a feature. Let's try not adding it but adding the ones below that did decrease the score.**"
      ]
    },
    {
      "cell_type": "code",
      "metadata": {
        "id": "9lr1jp_xCRN9",
        "colab_type": "code",
        "outputId": "0a7c4ea5-662f-464f-def8-61d3db88c868",
        "colab": {
          "base_uri": "https://localhost:8080/",
          "height": 225
        }
      },
      "source": [
        "scores = {}\n",
        "scores[\"feature\"] = []\n",
        "scores[\"score\"] = []\n",
        "\n",
        "for features in [[\"sympathy\", \"cheerful\", \"trust\", \"magnitude\", \"imagination\",\n",
        "                  \"immoderation\", \"gregarious\", \"stress\", \"fiery\",\n",
        "                  \"artistic\", \"defiance\", \"stubborn\"],\n",
        "                 [\"sympathy\", \"cheerful\", \"trust\", \"magnitude\", \"imagination\",\n",
        "                  \"immoderation\", \"gregarious\", \"stress\", \"fiery\",\n",
        "                  \"artistic\", \"defiance\", \"stubborn\", \"modesty\", \"melancholy\"],\n",
        "                 [\"sympathy\", \"cheerful\", \"trust\", \"magnitude\", \"imagination\",\n",
        "                  \"immoderation\", \"gregarious\", \"stress\", \"fiery\",\n",
        "                  \"artistic\", \"defiance\", \"stubborn\", \"modesty\",\n",
        "                  \"melancholy\", \"self-conscious\"],\n",
        "                 [\"sympathy\", \"cheerful\", \"trust\", \"magnitude\", \"imagination\",\n",
        "                  \"immoderation\", \"gregarious\", \"stress\", \"fiery\",\n",
        "                  \"artistic\", \"defiance\", \"emotion\", \"stubborn\", \"modesty\",\n",
        "                  \"sentiment\", \"melancholy\", \"self-conscious\"],\n",
        "                 [\"sympathy\", \"cheerful\", \"trust\", \"magnitude\", \"imagination\",\n",
        "                  \"immoderation\", \"gregarious\", \"stress\", \"fiery\",\n",
        "                  \"artistic\", \"defiance\", \"stubborn\", \"modesty\",\n",
        "                  \"sentiment\", \"melancholy\", \"self-conscious\"],\n",
        "                 [\"sympathy\", \"cheerful\", \"trust\", \"magnitude\", \"imagination\",\n",
        "                  \"immoderation\", \"gregarious\", \"stress\", \"assertive\", \"fiery\",\n",
        "                  \"artistic\", \"defiance\", \"emotion\", \"stubborn\", \"modesty\",\n",
        "                  \"melancholy\", \"self-conscious\"]]:\n",
        "\n",
        "  X_train = spotify_df[[\"date\", \"explicit\"] + features]\n",
        "  y_train = spotify_df[\"popularity\"]\n",
        "\n",
        "  ct = make_column_transformer(\n",
        "      (ce.OrdinalEncoder(), [\"explicit\", \"date\"]),\n",
        "      (ce.CatBoostEncoder(), [\"explicit\"]),\n",
        "      remainder=\"passthrough\"\n",
        "  )\n",
        "\n",
        "  pipeline = make_pipeline(\n",
        "      ct,\n",
        "      StandardScaler(),\n",
        "      Ridge()\n",
        "  )\n",
        "\n",
        "  cv_errs = -cross_val_score(pipeline, X_train, y_train, \n",
        "                            scoring=\"neg_root_mean_squared_error\", cv=10)\n",
        "\n",
        "  scores[\"feature\"].append(features)\n",
        "  scores[\"score\"].append(cv_errs.mean())\n",
        "\n",
        "pd.DataFrame(scores)"
      ],
      "execution_count": 0,
      "outputs": [
        {
          "output_type": "execute_result",
          "data": {
            "text/html": [
              "<div>\n",
              "<style scoped>\n",
              "    .dataframe tbody tr th:only-of-type {\n",
              "        vertical-align: middle;\n",
              "    }\n",
              "\n",
              "    .dataframe tbody tr th {\n",
              "        vertical-align: top;\n",
              "    }\n",
              "\n",
              "    .dataframe thead th {\n",
              "        text-align: right;\n",
              "    }\n",
              "</style>\n",
              "<table border=\"1\" class=\"dataframe\">\n",
              "  <thead>\n",
              "    <tr style=\"text-align: right;\">\n",
              "      <th></th>\n",
              "      <th>feature</th>\n",
              "      <th>score</th>\n",
              "    </tr>\n",
              "  </thead>\n",
              "  <tbody>\n",
              "    <tr>\n",
              "      <th>0</th>\n",
              "      <td>[sympathy, cheerful, trust, magnitude, imagina...</td>\n",
              "      <td>16.298032</td>\n",
              "    </tr>\n",
              "    <tr>\n",
              "      <th>1</th>\n",
              "      <td>[sympathy, cheerful, trust, magnitude, imagina...</td>\n",
              "      <td>16.298608</td>\n",
              "    </tr>\n",
              "    <tr>\n",
              "      <th>2</th>\n",
              "      <td>[sympathy, cheerful, trust, magnitude, imagina...</td>\n",
              "      <td>16.283818</td>\n",
              "    </tr>\n",
              "    <tr>\n",
              "      <th>3</th>\n",
              "      <td>[sympathy, cheerful, trust, magnitude, imagina...</td>\n",
              "      <td>16.279663</td>\n",
              "    </tr>\n",
              "    <tr>\n",
              "      <th>4</th>\n",
              "      <td>[sympathy, cheerful, trust, magnitude, imagina...</td>\n",
              "      <td>16.285845</td>\n",
              "    </tr>\n",
              "    <tr>\n",
              "      <th>5</th>\n",
              "      <td>[sympathy, cheerful, trust, magnitude, imagina...</td>\n",
              "      <td>16.278008</td>\n",
              "    </tr>\n",
              "  </tbody>\n",
              "</table>\n",
              "</div>"
            ],
            "text/plain": [
              "                                             feature      score\n",
              "0  [sympathy, cheerful, trust, magnitude, imagina...  16.298032\n",
              "1  [sympathy, cheerful, trust, magnitude, imagina...  16.298608\n",
              "2  [sympathy, cheerful, trust, magnitude, imagina...  16.283818\n",
              "3  [sympathy, cheerful, trust, magnitude, imagina...  16.279663\n",
              "4  [sympathy, cheerful, trust, magnitude, imagina...  16.285845\n",
              "5  [sympathy, cheerful, trust, magnitude, imagina...  16.278008"
            ]
          },
          "metadata": {
            "tags": []
          },
          "execution_count": 102
        }
      ]
    },
    {
      "cell_type": "code",
      "metadata": {
        "id": "O579hTRCGyiN",
        "colab_type": "code",
        "outputId": "531ede39-a05e-4c86-c44e-1fe58c5b1c3a",
        "colab": {
          "base_uri": "https://localhost:8080/",
          "height": 302
        }
      },
      "source": [
        "pd.DataFrame(scores).iloc[5,0]"
      ],
      "execution_count": 0,
      "outputs": [
        {
          "output_type": "execute_result",
          "data": {
            "text/plain": [
              "['sympathy',\n",
              " 'cheerful',\n",
              " 'trust',\n",
              " 'magnitude',\n",
              " 'imagination',\n",
              " 'immoderation',\n",
              " 'gregarious',\n",
              " 'stress',\n",
              " 'assertive',\n",
              " 'fiery',\n",
              " 'artistic',\n",
              " 'defiance',\n",
              " 'emotion',\n",
              " 'stubborn',\n",
              " 'modesty',\n",
              " 'melancholy',\n",
              " 'self-conscious']"
            ]
          },
          "metadata": {
            "tags": []
          },
          "execution_count": 103
        }
      ]
    },
    {
      "cell_type": "code",
      "metadata": {
        "id": "5yfrT6OOG3Ye",
        "colab_type": "code",
        "outputId": "7161df5e-9a5d-44bf-edbd-db2152e6808a",
        "colab": {
          "base_uri": "https://localhost:8080/",
          "height": 34
        }
      },
      "source": [
        "X_train = spotify_df[[\"date\", \"explicit\", 'sympathy', 'cheerful', 'trust',\n",
        "                      'magnitude', 'imagination', 'immoderation', 'gregarious',\n",
        "                      'stress', 'assertive', 'fiery', 'artistic', 'defiance', \n",
        "                      'emotion', 'stubborn', 'modesty', 'melancholy', \n",
        "                      'self-conscious']]\n",
        "y_train = spotify_df[\"popularity\"]\n",
        "  \n",
        "ct = make_column_transformer(\n",
        "    (ce.OrdinalEncoder(), [\"explicit\", \"date\"]),\n",
        "    (ce.CatBoostEncoder(), [\"explicit\"]),\n",
        "    remainder=\"passthrough\"\n",
        ")\n",
        "\n",
        "pipeline = make_pipeline(\n",
        "    ct,\n",
        "    StandardScaler(),\n",
        "    Ridge()\n",
        ")\n",
        "\n",
        "cv_errs = -cross_val_score(pipeline, X_train, y_train, \n",
        "                          scoring=\"neg_root_mean_squared_error\", cv=10)\n",
        "\n",
        "cv_errs.mean()"
      ],
      "execution_count": 0,
      "outputs": [
        {
          "output_type": "execute_result",
          "data": {
            "text/plain": [
              "16.27800802837183"
            ]
          },
          "metadata": {
            "tags": []
          },
          "execution_count": 104
        }
      ]
    },
    {
      "cell_type": "code",
      "metadata": {
        "id": "meoJyFs4HaRl",
        "colab_type": "code",
        "outputId": "966f5ebf-b57e-4c61-a158-92818d362931",
        "colab": {
          "base_uri": "https://localhost:8080/",
          "height": 521
        }
      },
      "source": [
        "# I started out with alphas of smaller than 1 and between 1 and 10, but\n",
        "# increasing the alpha consistenly decreased the rmses, until the thousands\n",
        "# I also made sure to check for any double descent for much larger alphas\n",
        "clf = GridSearchCV(pipeline,\n",
        "                   param_grid={\"ridge__alpha\": range(2475, 2525)},\n",
        "                   scoring=\"neg_mean_squared_error\",\n",
        "                   cv=10)\n",
        "clf.fit(X_train, y_train)\n",
        "clf.best_estimator_"
      ],
      "execution_count": 0,
      "outputs": [
        {
          "output_type": "execute_result",
          "data": {
            "text/plain": [
              "Pipeline(memory=None,\n",
              "         steps=[('columntransformer',\n",
              "                 ColumnTransformer(n_jobs=None, remainder='passthrough',\n",
              "                                   sparse_threshold=0.3,\n",
              "                                   transformer_weights=None,\n",
              "                                   transformers=[('ordinalencoder',\n",
              "                                                  OrdinalEncoder(cols=None,\n",
              "                                                                 drop_invariant=False,\n",
              "                                                                 handle_missing='value',\n",
              "                                                                 handle_unknown='value',\n",
              "                                                                 mapping=None,\n",
              "                                                                 return_df=True,\n",
              "                                                                 verbose=0),\n",
              "                                                  ['explicit', 'date']),\n",
              "                                                 ('catboostencoder...\n",
              "                                                                  handle_missing='value',\n",
              "                                                                  handle_unknown='value',\n",
              "                                                                  random_state=None,\n",
              "                                                                  return_df=True,\n",
              "                                                                  sigma=None,\n",
              "                                                                  verbose=0),\n",
              "                                                  ['explicit'])],\n",
              "                                   verbose=False)),\n",
              "                ('standardscaler',\n",
              "                 StandardScaler(copy=True, with_mean=True, with_std=True)),\n",
              "                ('ridge',\n",
              "                 Ridge(alpha=2508, copy_X=True, fit_intercept=True,\n",
              "                       max_iter=None, normalize=False, random_state=None,\n",
              "                       solver='auto', tol=0.001))],\n",
              "         verbose=False)"
            ]
          },
          "metadata": {
            "tags": []
          },
          "execution_count": 117
        }
      ]
    },
    {
      "cell_type": "markdown",
      "metadata": {
        "id": "uHyiDWoWruhA",
        "colab_type": "text"
      },
      "source": [
        "**So this is my best textual features model so far.**"
      ]
    },
    {
      "cell_type": "code",
      "metadata": {
        "id": "OmrYd_GPHnBf",
        "colab_type": "code",
        "outputId": "0e4e130e-6e6d-4a63-b397-10ad95acab36",
        "colab": {
          "base_uri": "https://localhost:8080/",
          "height": 34
        }
      },
      "source": [
        "X_train = spotify_df[[\"date\", \"explicit\", 'sympathy', 'cheerful', 'trust',\n",
        "                      'magnitude', 'imagination', 'immoderation', 'gregarious',\n",
        "                      'stress', 'assertive', 'fiery', 'artistic', 'defiance', \n",
        "                      'emotion', 'stubborn', 'modesty', 'melancholy', \n",
        "                      'self-conscious']]\n",
        "y_train = spotify_df[\"popularity\"]\n",
        "  \n",
        "ct = make_column_transformer(\n",
        "    (ce.OrdinalEncoder(), [\"explicit\", \"date\"]),\n",
        "    (ce.CatBoostEncoder(), [\"explicit\"]),\n",
        "    remainder=\"passthrough\"\n",
        ")\n",
        "\n",
        "pipeline = make_pipeline(\n",
        "    ct,\n",
        "    StandardScaler(),\n",
        "    Ridge(alpha=2508)\n",
        ")\n",
        "\n",
        "cv_errs = -cross_val_score(pipeline, X_train, y_train,\n",
        "                          scoring=\"neg_root_mean_squared_error\", cv=10)\n",
        "\n",
        "cv_errs.mean()"
      ],
      "execution_count": 0,
      "outputs": [
        {
          "output_type": "execute_result",
          "data": {
            "text/plain": [
              "16.26503375724659"
            ]
          },
          "metadata": {
            "tags": []
          },
          "execution_count": 118
        }
      ]
    },
    {
      "cell_type": "markdown",
      "metadata": {
        "id": "qmyfU000z_wU",
        "colab_type": "text"
      },
      "source": [
        "# Result"
      ]
    },
    {
      "cell_type": "markdown",
      "metadata": {
        "id": "YN8LwlaAsCNb",
        "colab_type": "text"
      },
      "source": [
        "**Upon comparison of my best audio features and best textual features model so far, which both used Ridge model and the same category encoders, Audio features wins. Next I will try combining the two models. I can do this by adding the features together, since all the numerical features are just StandardScaled. I can also do this by using an ensemble model of them together. I would assume the ensemble would do better, but I will see.**"
      ]
    },
    {
      "cell_type": "code",
      "metadata": {
        "id": "gYlXj_HA1YX1",
        "colab_type": "code",
        "outputId": "ce963c44-6ec8-44ff-dca1-e02c31710313",
        "colab": {
          "base_uri": "https://localhost:8080/",
          "height": 34
        }
      },
      "source": [
        "X_train = spotify_df[[\"date\", \"explicit\", 'sympathy', 'cheerful', 'trust',\n",
        "                      'magnitude', 'imagination', 'immoderation', 'gregarious',\n",
        "                      'stress', 'assertive', 'fiery', 'artistic', 'defiance', \n",
        "                      'emotion', 'stubborn', 'modesty', 'melancholy', \n",
        "                      'self-conscious', 'danceability', 'instrumentalness',\n",
        "                      'liveness', 'loudness', 'time_signature', 'mode',\n",
        "                      'speechiness', 'tempo']]\n",
        "y_train = spotify_df[\"popularity\"]\n",
        "  \n",
        "ct = make_column_transformer(\n",
        "    (ce.OrdinalEncoder(), [\"explicit\", \"date\"]),\n",
        "    (ce.CatBoostEncoder(), [\"explicit\"]),\n",
        "    remainder=\"passthrough\"\n",
        ")\n",
        "\n",
        "pipeline = make_pipeline(\n",
        "    ct,\n",
        "    StandardScaler(),\n",
        "    Ridge(alpha=2508)\n",
        ")\n",
        "\n",
        "cv_errs = -cross_val_score(pipeline, X_train, y_train,\n",
        "                          scoring=\"neg_root_mean_squared_error\", cv=10)\n",
        "\n",
        "cv_errs.mean()"
      ],
      "execution_count": 0,
      "outputs": [
        {
          "output_type": "execute_result",
          "data": {
            "text/plain": [
              "16.032819723878696"
            ]
          },
          "metadata": {
            "tags": []
          },
          "execution_count": 17
        }
      ]
    },
    {
      "cell_type": "markdown",
      "metadata": {
        "id": "5_p3Sp_Msp6x",
        "colab_type": "text"
      },
      "source": [
        "**The model with the all the features does do better, but lets hyperparameter tune again.**"
      ]
    },
    {
      "cell_type": "code",
      "metadata": {
        "id": "vCqyiIOm1w0n",
        "colab_type": "code",
        "outputId": "5808e1a0-0636-4ada-ed4d-a3265bc66c8f",
        "colab": {
          "base_uri": "https://localhost:8080/",
          "height": 521
        }
      },
      "source": [
        "clf = GridSearchCV(pipeline,\n",
        "                   param_grid={\"ridge__alpha\": range(2560,2580)},\n",
        "                   scoring=\"neg_mean_squared_error\",\n",
        "                   cv=10)\n",
        "clf.fit(X_train, y_train)\n",
        "clf.best_estimator_"
      ],
      "execution_count": 0,
      "outputs": [
        {
          "output_type": "execute_result",
          "data": {
            "text/plain": [
              "Pipeline(memory=None,\n",
              "         steps=[('columntransformer',\n",
              "                 ColumnTransformer(n_jobs=None, remainder='passthrough',\n",
              "                                   sparse_threshold=0.3,\n",
              "                                   transformer_weights=None,\n",
              "                                   transformers=[('ordinalencoder',\n",
              "                                                  OrdinalEncoder(cols=None,\n",
              "                                                                 drop_invariant=False,\n",
              "                                                                 handle_missing='value',\n",
              "                                                                 handle_unknown='value',\n",
              "                                                                 mapping=None,\n",
              "                                                                 return_df=True,\n",
              "                                                                 verbose=0),\n",
              "                                                  ['explicit', 'date']),\n",
              "                                                 ('catboostencoder...\n",
              "                                                                  handle_missing='value',\n",
              "                                                                  handle_unknown='value',\n",
              "                                                                  random_state=None,\n",
              "                                                                  return_df=True,\n",
              "                                                                  sigma=None,\n",
              "                                                                  verbose=0),\n",
              "                                                  ['explicit'])],\n",
              "                                   verbose=False)),\n",
              "                ('standardscaler',\n",
              "                 StandardScaler(copy=True, with_mean=True, with_std=True)),\n",
              "                ('ridge',\n",
              "                 Ridge(alpha=2578, copy_X=True, fit_intercept=True,\n",
              "                       max_iter=None, normalize=False, random_state=None,\n",
              "                       solver='auto', tol=0.001))],\n",
              "         verbose=False)"
            ]
          },
          "metadata": {
            "tags": []
          },
          "execution_count": 24
        }
      ]
    },
    {
      "cell_type": "code",
      "metadata": {
        "id": "gPT47pWs2ex3",
        "colab_type": "code",
        "outputId": "0a62b1f5-71d0-40ea-95ba-dfa9c2b423bd",
        "colab": {
          "base_uri": "https://localhost:8080/",
          "height": 34
        }
      },
      "source": [
        "X_train = spotify_df[[\"date\", \"explicit\", 'sympathy', 'cheerful', 'trust',\n",
        "                      'magnitude', 'imagination', 'immoderation', 'gregarious',\n",
        "                      'stress', 'assertive', 'fiery', 'artistic', 'defiance', \n",
        "                      'emotion', 'stubborn', 'modesty', 'melancholy', \n",
        "                      'self-conscious', 'danceability', 'instrumentalness',\n",
        "                      'liveness', 'loudness', 'time_signature', 'mode',\n",
        "                      'speechiness', 'tempo']]\n",
        "y_train = spotify_df[\"popularity\"]\n",
        "  \n",
        "ct = make_column_transformer(\n",
        "    (ce.OrdinalEncoder(), [\"explicit\", \"date\"]),\n",
        "    (ce.CatBoostEncoder(), [\"explicit\"]),\n",
        "    remainder=\"passthrough\"\n",
        ")\n",
        "\n",
        "pipeline = make_pipeline(\n",
        "    ct,\n",
        "    StandardScaler(),\n",
        "    Ridge(alpha=2578)\n",
        ")\n",
        "\n",
        "cv_errs = -cross_val_score(pipeline, X_train, y_train,\n",
        "                          scoring=\"neg_root_mean_squared_error\", cv=10)\n",
        "\n",
        "cv_errs.mean()"
      ],
      "execution_count": 0,
      "outputs": [
        {
          "output_type": "execute_result",
          "data": {
            "text/plain": [
              "16.03270595873836"
            ]
          },
          "metadata": {
            "tags": []
          },
          "execution_count": 26
        }
      ]
    },
    {
      "cell_type": "markdown",
      "metadata": {
        "id": "ouimYPnosyRN",
        "colab_type": "text"
      },
      "source": [
        "**This is pretty good performance, but I need to get an actual test error. This model could be overfitted. Earlier I chose this over LightGBM when I should've checked test error to choose between them. That is a mistake.**"
      ]
    },
    {
      "cell_type": "code",
      "metadata": {
        "id": "irzP8jSt2ndH",
        "colab_type": "code",
        "colab": {}
      },
      "source": [
        "pipeline.fit(X_train, y_train)\n",
        "preds = pipeline.predict(spotify_test[[\"date\", \"explicit\", 'sympathy', 'cheerful', 'trust',\n",
        "                      'magnitude', 'imagination', 'immoderation', 'gregarious',\n",
        "                      'stress', 'assertive', 'fiery', 'artistic', 'defiance', \n",
        "                      'emotion', 'stubborn', 'modesty', 'melancholy', \n",
        "                      'self-conscious', 'danceability', 'instrumentalness',\n",
        "                      'liveness', 'loudness', 'time_signature', 'mode',\n",
        "                      'speechiness', 'tempo']])"
      ],
      "execution_count": 0,
      "outputs": []
    },
    {
      "cell_type": "code",
      "metadata": {
        "id": "gx44Ej3_2-qW",
        "colab_type": "code",
        "outputId": "6a9ffd1f-afcb-4cfa-97e2-737a27f88e41",
        "colab": {
          "base_uri": "https://localhost:8080/",
          "height": 34
        }
      },
      "source": [
        "from sklearn.metrics import mean_squared_error\n",
        "np.sqrt(mean_squared_error(preds, spotify_test[\"popularity\"]))"
      ],
      "execution_count": 0,
      "outputs": [
        {
          "output_type": "execute_result",
          "data": {
            "text/plain": [
              "25.132266782264814"
            ]
          },
          "metadata": {
            "tags": []
          },
          "execution_count": 33
        }
      ]
    },
    {
      "cell_type": "markdown",
      "metadata": {
        "id": "NE8_4-rLtCnv",
        "colab_type": "text"
      },
      "source": [
        "**The score decreases drastically when on test data.**"
      ]
    },
    {
      "cell_type": "code",
      "metadata": {
        "id": "d4DigLxo3ajo",
        "colab_type": "code",
        "outputId": "d5e4dc43-eab4-4a42-d03d-42b8c7dc3a58",
        "colab": {
          "base_uri": "https://localhost:8080/",
          "height": 34
        }
      },
      "source": [
        "X_train = spotify_df[[\"date\", \"explicit\", 'sympathy', 'cheerful', 'trust',\n",
        "                      'magnitude', 'imagination', 'immoderation', 'gregarious',\n",
        "                      'stress', 'assertive', 'fiery', 'artistic', 'defiance', \n",
        "                      'emotion', 'stubborn', 'modesty', 'melancholy', \n",
        "                      'self-conscious', 'danceability', 'instrumentalness',\n",
        "                      'liveness', 'loudness', 'time_signature', 'mode',\n",
        "                      'speechiness', 'tempo']]\n",
        "y_train = spotify_df[\"popularity\"]\n",
        "  \n",
        "ct = make_column_transformer(\n",
        "    (ce.OrdinalEncoder(), [\"explicit\", \"date\"]),\n",
        "    (ce.CatBoostEncoder(), [\"explicit\"]),\n",
        "    remainder=\"passthrough\"\n",
        ")\n",
        "\n",
        "pipeline = make_pipeline(\n",
        "    ct,\n",
        "    StandardScaler(),\n",
        "    lgb.LGBMRegressor()\n",
        ")\n",
        "\n",
        "cv_errs = -cross_val_score(pipeline, X_train, y_train,\n",
        "                          scoring=\"neg_root_mean_squared_error\", cv=10)\n",
        "\n",
        "cv_errs.mean()"
      ],
      "execution_count": 0,
      "outputs": [
        {
          "output_type": "execute_result",
          "data": {
            "text/plain": [
              "16.660256632997697"
            ]
          },
          "metadata": {
            "tags": []
          },
          "execution_count": 39
        }
      ]
    },
    {
      "cell_type": "code",
      "metadata": {
        "id": "S9R84CA23kV1",
        "colab_type": "code",
        "outputId": "2f1f22c8-26fb-47b9-bc81-caca0997bce4",
        "colab": {
          "base_uri": "https://localhost:8080/",
          "height": 34
        }
      },
      "source": [
        "pipeline.fit(X_train, y_train)\n",
        "preds = pipeline.predict(spotify_test[[\"date\", \"explicit\", 'sympathy', 'cheerful', 'trust',\n",
        "                      'magnitude', 'imagination', 'immoderation', 'gregarious',\n",
        "                      'stress', 'assertive', 'fiery', 'artistic', 'defiance', \n",
        "                      'emotion', 'stubborn', 'modesty', 'melancholy', \n",
        "                      'self-conscious', 'danceability', 'instrumentalness',\n",
        "                      'liveness', 'loudness', 'time_signature', 'mode',\n",
        "                      'speechiness', 'tempo']])\n",
        "np.sqrt(mean_squared_error(preds, spotify_test[\"popularity\"]))"
      ],
      "execution_count": 0,
      "outputs": [
        {
          "output_type": "execute_result",
          "data": {
            "text/plain": [
              "23.293936820140708"
            ]
          },
          "metadata": {
            "tags": []
          },
          "execution_count": 40
        }
      ]
    },
    {
      "cell_type": "markdown",
      "metadata": {
        "id": "H2Xe9dpBtG44",
        "colab_type": "text"
      },
      "source": [
        "**When I just replace the Ridge model with LightGBM, I get a better test error. I should compare the best audio features model and textual features model using LightGBM.**"
      ]
    },
    {
      "cell_type": "markdown",
      "metadata": {
        "id": "d5DFMQtBtvGl",
        "colab_type": "text"
      },
      "source": [
        ""
      ]
    },
    {
      "cell_type": "markdown",
      "metadata": {
        "id": "3BQEp0bAtuXb",
        "colab_type": "text"
      },
      "source": [
        "**With the above in mind, I should consider not only the best LightGBM models, but an ensemble of the best Ridge models with the best LightGBM models, when comparing audio vs textaul, and when trying to obtain the best possible model for predicting popularity.**"
      ]
    },
    {
      "cell_type": "markdown",
      "metadata": {
        "id": "KATuPo42tcuz",
        "colab_type": "text"
      },
      "source": [
        "will be continued."
      ]
    }
  ]
}